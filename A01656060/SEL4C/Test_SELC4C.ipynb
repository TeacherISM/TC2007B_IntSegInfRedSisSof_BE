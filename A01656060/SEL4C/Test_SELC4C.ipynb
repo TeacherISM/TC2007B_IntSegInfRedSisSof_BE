{
 "cells": [
  {
   "cell_type": "code",
   "execution_count": 1,
   "metadata": {},
   "outputs": [
    {
     "name": "stdout",
     "output_type": "stream",
     "text": [
      "Requirement already satisfied: pip in c:\\python311\\lib\\site-packages (23.2.1)\n",
      "Collecting numpy\n",
      "  Obtaining dependency information for numpy from https://files.pythonhosted.org/packages/72/b2/02770e60c4e2f7e158d923ab0dea4e9f146a2dbf267fec6d8dc61d475689/numpy-1.25.2-cp311-cp311-win_amd64.whl.metadata\n",
      "  Downloading numpy-1.25.2-cp311-cp311-win_amd64.whl.metadata (5.7 kB)\n",
      "Downloading numpy-1.25.2-cp311-cp311-win_amd64.whl (15.5 MB)\n",
      "   ---------------------------------------- 0.0/15.5 MB ? eta -:--:--\n",
      "   ---------------------------------------- 0.0/15.5 MB 1.4 MB/s eta 0:00:12\n",
      "   ---------------------------------------- 0.1/15.5 MB 825.8 kB/s eta 0:00:19\n",
      "    --------------------------------------- 0.3/15.5 MB 2.1 MB/s eta 0:00:08\n",
      "   - -------------------------------------- 0.5/15.5 MB 3.0 MB/s eta 0:00:06\n",
      "   -- ------------------------------------- 0.8/15.5 MB 4.1 MB/s eta 0:00:04\n",
      "   --- ------------------------------------ 1.4/15.5 MB 5.4 MB/s eta 0:00:03\n",
      "   ----- ---------------------------------- 2.3/15.5 MB 8.1 MB/s eta 0:00:02\n",
      "   ------- -------------------------------- 2.7/15.5 MB 7.9 MB/s eta 0:00:02\n",
      "   -------- ------------------------------- 3.5/15.5 MB 9.3 MB/s eta 0:00:02\n",
      "   -------- ------------------------------- 3.5/15.5 MB 9.3 MB/s eta 0:00:02\n",
      "   -------------- ------------------------- 5.6/15.5 MB 11.5 MB/s eta 0:00:01\n",
      "   ---------------- ----------------------- 6.6/15.5 MB 12.4 MB/s eta 0:00:01\n",
      "   -------------------- ------------------- 7.9/15.5 MB 13.6 MB/s eta 0:00:01\n",
      "   ----------------------- ---------------- 9.2/15.5 MB 14.8 MB/s eta 0:00:01\n",
      "   -------------------------- ------------- 10.2/15.5 MB 15.1 MB/s eta 0:00:01\n",
      "   ---------------------------- ----------- 11.0/15.5 MB 19.9 MB/s eta 0:00:01\n",
      "   ------------------------------- -------- 12.1/15.5 MB 20.5 MB/s eta 0:00:01\n",
      "   ---------------------------------- ----- 13.3/15.5 MB 23.4 MB/s eta 0:00:01\n",
      "   ---------------------------------- ----- 13.3/15.5 MB 23.4 MB/s eta 0:00:01\n",
      "   ---------------------------------- ----- 13.3/15.5 MB 23.4 MB/s eta 0:00:01\n",
      "   ---------------------------------- ----- 13.3/15.5 MB 23.4 MB/s eta 0:00:01\n",
      "   ---------------------------------- ----- 13.3/15.5 MB 23.4 MB/s eta 0:00:01\n",
      "   ---------------------------------- ----- 13.5/15.5 MB 15.2 MB/s eta 0:00:01\n",
      "   ------------------------------------ --- 14.1/15.5 MB 16.0 MB/s eta 0:00:01\n",
      "   ------------------------------------- -- 14.6/15.5 MB 14.9 MB/s eta 0:00:01\n",
      "   ---------------------------------------  15.2/15.5 MB 14.6 MB/s eta 0:00:01\n",
      "   ---------------------------------------  15.5/15.5 MB 13.6 MB/s eta 0:00:01\n",
      "   ---------------------------------------- 15.5/15.5 MB 12.8 MB/s eta 0:00:00\n",
      "Installing collected packages: numpy\n"
     ]
    },
    {
     "name": "stderr",
     "output_type": "stream",
     "text": [
      "  WARNING: Failed to write executable - trying to use .deleteme logic\n",
      "ERROR: Could not install packages due to an OSError: [WinError 2] El sistema no puede encontrar el archivo especificado: 'c:\\\\Python311\\\\Scripts\\\\f2py.exe' -> 'c:\\\\Python311\\\\Scripts\\\\f2py.exe.deleteme'\n",
      "\n"
     ]
    },
    {
     "name": "stdout",
     "output_type": "stream",
     "text": [
      "Requirement already satisfied: requests in c:\\python311\\lib\\site-packages (2.31.0)\n",
      "Requirement already satisfied: charset-normalizer<4,>=2 in c:\\python311\\lib\\site-packages (from requests) (3.2.0)\n",
      "Requirement already satisfied: idna<4,>=2.5 in c:\\python311\\lib\\site-packages (from requests) (3.4)\n",
      "Requirement already satisfied: urllib3<3,>=1.21.1 in c:\\python311\\lib\\site-packages (from requests) (2.0.4)\n",
      "Requirement already satisfied: certifi>=2017.4.17 in c:\\python311\\lib\\site-packages (from requests) (2023.7.22)\n"
     ]
    }
   ],
   "source": [
    "import sys\n",
    "!{sys.executable} -m pip install --upgrade pip\n",
    "!{sys.executable} -m pip install numpy\n",
    "!{sys.executable} -m pip install requests\n",
    "import requests"
   ]
  },
  {
   "cell_type": "code",
   "execution_count": 4,
   "metadata": {},
   "outputs": [
    {
     "data": {
      "text/plain": [
       "{'count': 1,\n",
       " 'next': None,\n",
       " 'previous': None,\n",
       " 'results': [{'url': 'http://127.0.0.1:8000/users/1/',\n",
       "   'username': 'A01656060',\n",
       "   'email': 'A01656060@tec.mx',\n",
       "   'groups': []}]}"
      ]
     },
     "execution_count": 4,
     "metadata": {},
     "output_type": "execute_result"
    }
   ],
   "source": [
    "api_url = \"http://127.0.0.1:8000/users/\"\n",
    "response = requests.get(api_url,auth=('A01656060', 'Password#1'))\n",
    "response.json()"
   ]
  }
 ],
 "metadata": {
  "kernelspec": {
   "display_name": "Python 3",
   "language": "python",
   "name": "python3"
  },
  "language_info": {
   "codemirror_mode": {
    "name": "ipython",
    "version": 3
   },
   "file_extension": ".py",
   "mimetype": "text/x-python",
   "name": "python",
   "nbconvert_exporter": "python",
   "pygments_lexer": "ipython3",
   "version": "3.11.4"
  },
  "orig_nbformat": 4
 },
 "nbformat": 4,
 "nbformat_minor": 2
}
