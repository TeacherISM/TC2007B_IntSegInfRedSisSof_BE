{
 "cells": [
  {
   "cell_type": "markdown",
   "id": "817225f8-c41e-4638-a552-c0d738fde7bd",
   "metadata": {},
   "source": [
    "# Carolina González Salinas"
   ]
  },
  {
   "cell_type": "code",
   "execution_count": 1,
   "id": "27b84275-dd44-454b-99f4-259c5dd3d565",
   "metadata": {},
   "outputs": [
    {
     "name": "stdout",
     "output_type": "stream",
     "text": [
      "Hola Mundo\n"
     ]
    }
   ],
   "source": [
    "print(\"Hola Mundo\")"
   ]
  },
  {
   "cell_type": "code",
   "execution_count": null,
   "id": "4ee4cca9-1673-4464-8adf-15c53bffef25",
   "metadata": {},
   "outputs": [],
   "source": []
  }
 ],
 "metadata": {
  "kernelspec": {
   "display_name": "Python 3 (ipykernel)",
   "language": "python",
   "name": "python3"
  },
  "language_info": {
   "codemirror_mode": {
    "name": "ipython",
    "version": 3
   },
   "file_extension": ".py",
   "mimetype": "text/x-python",
   "name": "python",
   "nbconvert_exporter": "python",
   "pygments_lexer": "ipython3",
   "version": "3.9.13"
  }
 },
 "nbformat": 4,
 "nbformat_minor": 5
}
