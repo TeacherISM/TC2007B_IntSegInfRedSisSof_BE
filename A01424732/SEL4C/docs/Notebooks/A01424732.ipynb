{
 "cells": [
  {
   "cell_type": "markdown",
   "metadata": {},
   "source": [
    "#  OpenAPI 3.0 schema generation for Django REST framework\n",
    "\n",
    "**Emiliano Vivas Rodríguez**\n",
    "\n",
    "*A01424732*\n",
    "\n",
    "Estudiante de Ingeniería en Tecnologías Computacionales (ITC).\n",
    "\n",
    "Tecnológico de Monterrey campus Ciudad de México."
   ]
  },
  {
   "cell_type": "markdown",
   "metadata": {},
   "source": [
    "## OpenAPI 3.0 schema\n",
    "OpenAPI 3.0 schema is a standard for describing RESTful APIs using JSON or YAML. It defines a standard, language-agnostic interface to RESTful APIs which allows both humans and computers to discover and understand the capabilities of the service without access to source code, documentation, or through network traffic inspection. The OpenAPI Specification (OAS) defines a standard, language-agnostic interface to HTTP APIs which allows both humans and computers to discover and understand the capabilities of the service without access to source code, documentation, or through network traffic inspection.\n",
    "\n",
    "![Open API 3.0 implemented in A01424732 API](img/open-api.png \"Open API 3.0 implemented in A01424732 API\")\n",
    "\n",
    "**Reference:**\n",
    "\n",
    "*OpenAPI Initiative. (2020). OpenAPI Specification v3.0.3 | Introduction, Definitions, & More. Retrieved August 30, 2023, from: https://spec.openapis.org/oas/v3.0.3*"
   ]
  },
  {
   "cell_type": "code",
   "execution_count": 43,
   "metadata": {},
   "outputs": [],
   "source": [
    "import requests"
   ]
  },
  {
   "cell_type": "markdown",
   "metadata": {},
   "source": [
    "## Good response from the server request"
   ]
  },
  {
   "cell_type": "code",
   "execution_count": 44,
   "metadata": {},
   "outputs": [
    {
     "name": "stdout",
     "output_type": "stream",
     "text": [
      "200\n",
      "{'count': 1, 'next': None, 'previous': None, 'results': [{'url': 'http://127.0.0.1:8000/users/1/', 'username': 'A01424732', 'email': 'a01424732@tec.mx', 'groups': []}]}\n"
     ]
    }
   ],
   "source": [
    "goodResponse = requests.get(\"http://127.0.0.1:8000/users/\", auth=(\"A01424732\", \"vivasrguez\"))\n",
    "print(goodResponse.status_code)\n",
    "print(goodResponse.json())"
   ]
  },
  {
   "cell_type": "markdown",
   "metadata": {},
   "source": [
    "![Good response shown in Swagger UI](img/good-response.png \"Good response shown in Swagger UI\")"
   ]
  },
  {
   "cell_type": "markdown",
   "metadata": {},
   "source": [
    "## Bad response from the server request"
   ]
  },
  {
   "cell_type": "code",
   "execution_count": 45,
   "metadata": {},
   "outputs": [
    {
     "name": "stdout",
     "output_type": "stream",
     "text": [
      "403\n",
      "{'detail': 'Invalid username/password.'}\n"
     ]
    }
   ],
   "source": [
    "badResponse = requests.get(\"http://127.0.0.1:8000/users/\", auth=(\"supersu\", \"root\"))\n",
    "print(badResponse.status_code)\n",
    "print(badResponse.json())"
   ]
  },
  {
   "cell_type": "markdown",
   "metadata": {},
   "source": [
    "![Bad response shown in Swagger UI](img/bad-response.png \"Bad response shown in Swagger UI\")"
   ]
  },
  {
   "cell_type": "markdown",
   "metadata": {},
   "source": [
    "## Any response from the RESTful API"
   ]
  },
  {
   "cell_type": "code",
   "execution_count": 46,
   "metadata": {},
   "outputs": [
    {
     "name": "stdout",
     "output_type": "stream",
     "text": [
      "200\n",
      "{'count': 0, 'next': None, 'previous': None, 'results': []}\n"
     ]
    }
   ],
   "source": [
    "goodResponse = requests.get(\"http://127.0.0.1:8000/groups/\", auth=(\"A01424732\", \"vivasrguez\"))\n",
    "print(goodResponse.status_code)\n",
    "print(goodResponse.json())"
   ]
  },
  {
   "cell_type": "markdown",
   "metadata": {},
   "source": [
    "![Any response shown in Swagger UI](img/any-response.png \"Any response shown in Swagger UI\")"
   ]
  }
 ],
 "metadata": {
  "kernelspec": {
   "display_name": "Python 3",
   "language": "python",
   "name": "python3"
  },
  "language_info": {
   "codemirror_mode": {
    "name": "ipython",
    "version": 3
   },
   "file_extension": ".py",
   "mimetype": "text/x-python",
   "name": "python",
   "nbconvert_exporter": "python",
   "pygments_lexer": "ipython3",
   "version": "3.11.4"
  },
  "orig_nbformat": 4
 },
 "nbformat": 4,
 "nbformat_minor": 2
}
