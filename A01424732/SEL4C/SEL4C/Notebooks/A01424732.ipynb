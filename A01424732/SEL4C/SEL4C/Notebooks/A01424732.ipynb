{
 "cells": [
  {
   "cell_type": "markdown",
   "metadata": {},
   "source": [
    "# Django HTTP Basic Authentication Introduction\n",
    "\n",
    "**Emiliano Vivas Rodríguez**\n",
    "\n",
    "*A01424732*\n",
    "\n",
    "Estudiante de Ingeniería en Tecnologías Computacionales (ITC).\n",
    "\n",
    "Tecnológico de Monterrey campus Ciudad de México."
   ]
  },
  {
   "cell_type": "markdown",
   "metadata": {},
   "source": [
    "## HTTP BasicAuth\n",
    "HTTP Basic Authentication is a simple authentication scheme built into the HTTP protocol. It is used to authenticate users who access web resources. The user’s web browser provides the authentication information in the form of a username and password when making an HTTP request. The server then verifies the username and password and sends back a response indicating whether the user is authorized to access the requested resource.\n",
    "\n",
    "**Reference:**\n",
    "\n",
    "*MDN contributors. (2023, April 10). HTTP authentication. MDN Web Docs. Retrieved August 17, 2023, from: https://developer.mozilla.org/en-US/docs/Web/HTTP/Authentication*"
   ]
  },
  {
   "cell_type": "code",
   "execution_count": 9,
   "metadata": {},
   "outputs": [],
   "source": [
    "import requests"
   ]
  },
  {
   "cell_type": "markdown",
   "metadata": {},
   "source": [
    "## Good response from the server request"
   ]
  },
  {
   "cell_type": "code",
   "execution_count": 10,
   "metadata": {},
   "outputs": [
    {
     "name": "stdout",
     "output_type": "stream",
     "text": [
      "200\n",
      "{'count': 1, 'next': None, 'previous': None, 'results': [{'url': 'http://127.0.0.1:8000/users/1/', 'username': 'A01424732', 'email': 'a01424732@tec.mx', 'groups': []}]}\n"
     ]
    }
   ],
   "source": [
    "goodResponse = requests.get(\"http://127.0.0.1:8000/users/\", auth=(\"A01424732\", \"vivasrguez\"))\n",
    "print(goodResponse.status_code)\n",
    "print(goodResponse.json())"
   ]
  },
  {
   "cell_type": "markdown",
   "metadata": {},
   "source": [
    "## Bad response from the server request"
   ]
  },
  {
   "cell_type": "code",
   "execution_count": 11,
   "metadata": {},
   "outputs": [
    {
     "name": "stdout",
     "output_type": "stream",
     "text": [
      "403\n",
      "{'detail': 'Invalid username/password.'}\n"
     ]
    }
   ],
   "source": [
    "badResponse = requests.get(\"http://127.0.0.1:8000/users/\", auth=(\"supersu\", \"root\"))\n",
    "print(badResponse.status_code)\n",
    "print(badResponse.json())"
   ]
  },
  {
   "cell_type": "markdown",
   "metadata": {},
   "source": [
    "## Any response from the RESTful API"
   ]
  },
  {
   "cell_type": "code",
   "execution_count": 12,
   "metadata": {},
   "outputs": [
    {
     "name": "stdout",
     "output_type": "stream",
     "text": [
      "200\n",
      "{'count': 0, 'next': None, 'previous': None, 'results': []}\n"
     ]
    }
   ],
   "source": [
    "goodResponse = requests.get(\"http://127.0.0.1:8000/groups/\", auth=(\"A01424732\", \"vivasrguez\"))\n",
    "print(goodResponse.status_code)\n",
    "print(goodResponse.json())"
   ]
  }
 ],
 "metadata": {
  "kernelspec": {
   "display_name": "Python 3",
   "language": "python",
   "name": "python3"
  },
  "language_info": {
   "codemirror_mode": {
    "name": "ipython",
    "version": 3
   },
   "file_extension": ".py",
   "mimetype": "text/x-python",
   "name": "python",
   "nbconvert_exporter": "python",
   "pygments_lexer": "ipython3",
   "version": "3.11.4"
  },
  "orig_nbformat": 4
 },
 "nbformat": 4,
 "nbformat_minor": 2
}
