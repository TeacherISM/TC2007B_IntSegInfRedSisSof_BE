{
 "cells": [
  {
   "cell_type": "markdown",
   "id": "7206594b-a61e-4c58-b37d-c781a3163511",
   "metadata": {},
   "source": [
    "# Pablo Sánchez Aguirre"
   ]
  },
  {
   "cell_type": "code",
   "execution_count": 1,
   "id": "6694c1c8-caa2-4194-81d8-aeee5f89a680",
   "metadata": {},
   "outputs": [
    {
     "name": "stdout",
     "output_type": "stream",
     "text": [
      "hola mundo\n"
     ]
    }
   ],
   "source": [
    "print(\"hola mundo\")\n"
   ]
  },
  {
   "cell_type": "code",
   "execution_count": null,
   "id": "39fef933-ea5c-402b-850b-5bb973608284",
   "metadata": {},
   "outputs": [],
   "source": []
  }
 ],
 "metadata": {
  "kernelspec": {
   "display_name": "Python 3 (ipykernel)",
   "language": "python",
   "name": "python3"
  },
  "language_info": {
   "codemirror_mode": {
    "name": "ipython",
    "version": 3
   },
   "file_extension": ".py",
   "mimetype": "text/x-python",
   "name": "python",
   "nbconvert_exporter": "python",
   "pygments_lexer": "ipython3",
   "version": "3.11.0"
  }
 },
 "nbformat": 4,
 "nbformat_minor": 5
}
