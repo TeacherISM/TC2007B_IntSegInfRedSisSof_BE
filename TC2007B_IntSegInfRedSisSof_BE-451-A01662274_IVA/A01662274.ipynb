{
 "cells": [
  {
   "cell_type": "markdown",
   "metadata": {},
   "source": [
    "# Iñaki Vigil Arrechea\n",
    "A01662274"
   ]
  },
  {
   "cell_type": "code",
   "execution_count": 1,
   "metadata": {},
   "outputs": [
    {
     "name": "stdout",
     "output_type": "stream",
     "text": [
      "Hello everyone\n"
     ]
    }
   ],
   "source": [
    "print(\"Hello everyone\")"
   ]
  },
  {
   "cell_type": "code",
   "execution_count": 7,
   "metadata": {},
   "outputs": [
    {
     "name": "stdout",
     "output_type": "stream",
     "text": [
      "Requirement already satisfied: pip in c:\\users\\inaki\\appdata\\local\\programs\\python\\python311\\lib\\site-packages (23.2.1)\n",
      "Requirement already satisfied: requests in c:\\users\\inaki\\appdata\\local\\programs\\python\\python311\\lib\\site-packages (2.31.0)\n",
      "Requirement already satisfied: charset-normalizer<4,>=2 in c:\\users\\inaki\\appdata\\local\\programs\\python\\python311\\lib\\site-packages (from requests) (3.2.0)\n",
      "Requirement already satisfied: idna<4,>=2.5 in c:\\users\\inaki\\appdata\\local\\programs\\python\\python311\\lib\\site-packages (from requests) (3.4)\n",
      "Requirement already satisfied: urllib3<3,>=1.21.1 in c:\\users\\inaki\\appdata\\local\\programs\\python\\python311\\lib\\site-packages (from requests) (2.0.4)\n",
      "Requirement already satisfied: certifi>=2017.4.17 in c:\\users\\inaki\\appdata\\local\\programs\\python\\python311\\lib\\site-packages (from requests) (2022.12.7)\n"
     ]
    }
   ],
   "source": [
    "import sys\n",
    "!{sys.executable} -m pip install --upgrade pip\n",
    "!{sys.executable} -m pip install requests\n",
    "import requests\n"
   ]
  },
  {
   "cell_type": "code",
   "execution_count": 8,
   "metadata": {},
   "outputs": [
    {
     "data": {
      "text/plain": [
       "{'count': 0, 'next': None, 'previous': None, 'results': []}"
      ]
     },
     "execution_count": 8,
     "metadata": {},
     "output_type": "execute_result"
    }
   ],
   "source": [
    "api_url='http://127.0.0.1:8000/home'\n",
    "response=requests.get(api_url,auth=('inaki','Hinata10'))\n",
    "response.json()"
   ]
  },
  {
   "cell_type": "code",
   "execution_count": 9,
   "metadata": {},
   "outputs": [
    {
     "name": "stdout",
     "output_type": "stream",
     "text": [
      "GET request to http://127.0.0.1:8000/groups/ successful.\n",
      "{'count': 0, 'next': None, 'previous': None, 'results': []}\n",
      "GET request to http://127.0.0.1:8000/groups/1/ failed with status code:  404\n",
      "GET request to http://127.0.0.1:8000/home/ successful.\n",
      "{'count': 0, 'next': None, 'previous': None, 'results': []}\n",
      "GET request to http://127.0.0.1:8000/home/1/ failed with status code:  404\n",
      "GET request to http://127.0.0.1:8000/users/ successful.\n",
      "{'count': 1, 'next': None, 'previous': None, 'results': [{'url': 'http://127.0.0.1:8000/users/1/', 'username': 'inaki', 'email': 'a01662274@tec.mx', 'groups': []}]}\n",
      "GET request to http://127.0.0.1:8000/users/1/ successful.\n",
      "{'url': 'http://127.0.0.1:8000/users/1/', 'username': 'inaki', 'email': 'a01662274@tec.mx', 'groups': []}\n"
     ]
    }
   ],
   "source": [
    "base_url='http://127.0.0.1:8000'\n",
    "\n",
    "endpoints=[\"/groups/\",\"/groups/1/\",\"/home/\",\"/home/1/\",\"/users/\",\"/users/1/\"]\n",
    "\n",
    "#loop through the endpoints and make GEt requests\n",
    "for endpoint in endpoints:\n",
    "    url=f\"{base_url}{endpoint}\"\n",
    "    response=requests.get(url,auth=(\"inaki\",\"Hinata10\"))\n",
    "\n",
    "    if response.status_code == 200:\n",
    "        data =response.json()\n",
    "        print(f\"GET request to {url} successful.\")\n",
    "        print(data)\n",
    "    else:\n",
    "        print(f\"GET request to {url} failed with status code:  {response.status_code}\")"
   ]
  },
  {
   "cell_type": "code",
   "execution_count": 10,
   "metadata": {},
   "outputs": [
    {
     "name": "stdout",
     "output_type": "stream",
     "text": [
      "<Response [200]>\n"
     ]
    }
   ],
   "source": [
    "api_url=\"http://127.0.0.1:8000/api/schema/\"\n",
    "response=requests.get(api_url)\n",
    "print(response)"
   ]
  },
  {
   "cell_type": "code",
   "execution_count": 11,
   "metadata": {},
   "outputs": [
    {
     "name": "stdout",
     "output_type": "stream",
     "text": [
      "<Response [404]>\n"
     ]
    }
   ],
   "source": [
    "api_url=\"http://127.0.0.1:8000/api/schema/swagger-ui/\"\n",
    "response=requests.get(api_url)\n",
    "print(response)"
   ]
  }
 ],
 "metadata": {
  "kernelspec": {
   "display_name": "Python 3",
   "language": "python",
   "name": "python3"
  },
  "language_info": {
   "codemirror_mode": {
    "name": "ipython",
    "version": 3
   },
   "file_extension": ".py",
   "mimetype": "text/x-python",
   "name": "python",
   "nbconvert_exporter": "python",
   "pygments_lexer": "ipython3",
   "version": "3.11.0"
  },
  "orig_nbformat": 4
 },
 "nbformat": 4,
 "nbformat_minor": 2
}
