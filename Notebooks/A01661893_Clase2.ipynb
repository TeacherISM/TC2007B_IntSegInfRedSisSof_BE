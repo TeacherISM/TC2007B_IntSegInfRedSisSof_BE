{
 "cells": [
  {
   "cell_type": "code",
   "execution_count": 17,
   "id": "66dfc68c-11f9-4a05-a1ee-f5e2e631115a",
   "metadata": {},
   "outputs": [
    {
     "name": "stdout",
     "output_type": "stream",
     "text": [
      "Requirement already satisfied: pip in /Users/crash/opt/anaconda3/envs/IntegracionDeSeguridad/lib/python3.9/site-packages (23.2.1)\n",
      "Requirement already satisfied: numpy in /Users/crash/opt/anaconda3/envs/IntegracionDeSeguridad/lib/python3.9/site-packages (1.25.2)\n",
      "Requirement already satisfied: requests in /Users/crash/opt/anaconda3/envs/IntegracionDeSeguridad/lib/python3.9/site-packages (2.31.0)\n",
      "Requirement already satisfied: charset-normalizer<4,>=2 in /Users/crash/opt/anaconda3/envs/IntegracionDeSeguridad/lib/python3.9/site-packages (from requests) (3.2.0)\n",
      "Requirement already satisfied: idna<4,>=2.5 in /Users/crash/opt/anaconda3/envs/IntegracionDeSeguridad/lib/python3.9/site-packages (from requests) (3.4)\n",
      "Requirement already satisfied: urllib3<3,>=1.21.1 in /Users/crash/opt/anaconda3/envs/IntegracionDeSeguridad/lib/python3.9/site-packages (from requests) (2.0.4)\n",
      "Requirement already satisfied: certifi>=2017.4.17 in /Users/crash/opt/anaconda3/envs/IntegracionDeSeguridad/lib/python3.9/site-packages (from requests) (2023.7.22)\n"
     ]
    }
   ],
   "source": [
    "import sys\n",
    "!{sys.executable} -m pip install --upgrade pip\n",
    "!{sys.executable} -m pip install numpy\n",
    "!{sys.executable} -m pip install requests\n",
    "import requests"
   ]
  },
  {
   "cell_type": "code",
   "execution_count": 37,
   "id": "217c44ac-cb1e-4278-b3a5-46b4be32c10f",
   "metadata": {},
   "outputs": [
    {
     "data": {
      "text/plain": [
       "{'count': 1,\n",
       " 'next': None,\n",
       " 'previous': None,\n",
       " 'results': [{'url': 'http://127.0.0.1:8000/users/1/',\n",
       "   'username': 'A01661893',\n",
       "   'email': 'a01661893@tec.mx',\n",
       "   'groups': []}]}"
      ]
     },
     "execution_count": 37,
     "metadata": {},
     "output_type": "execute_result"
    }
   ],
   "source": [
    "api_url = \"http://127.0.0.1:8000/users/\"\n",
    "response = requests.get(api_url, auth=('A01661893', 'AP269202536cc'))\n",
    "response.json()"
   ]
  },
  {
   "cell_type": "code",
   "execution_count": null,
   "id": "3e9b4b86-59db-4a51-80c0-8e1ff16df399",
   "metadata": {},
   "outputs": [],
   "source": []
  }
 ],
 "metadata": {
  "kernelspec": {
   "display_name": "Python 3 (ipykernel)",
   "language": "python",
   "name": "python3"
  },
  "language_info": {
   "codemirror_mode": {
    "name": "ipython",
    "version": 3
   },
   "file_extension": ".py",
   "mimetype": "text/x-python",
   "name": "python",
   "nbconvert_exporter": "python",
   "pygments_lexer": "ipython3",
   "version": "3.9.17"
  }
 },
 "nbformat": 4,
 "nbformat_minor": 5
}
