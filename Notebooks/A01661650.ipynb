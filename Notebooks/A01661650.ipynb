{
 "cells": [
  {
   "cell_type": "markdown",
   "id": "8e999934-4f3a-4eb8-a6b9-a878f2cbadc0",
   "metadata": {},
   "source": [
    "# David Gonzalez Alanis"
   ]
  },
  {
   "cell_type": "code",
   "execution_count": 1,
   "id": "0f2a041f-00c1-4a57-859c-c724258666cd",
   "metadata": {},
   "outputs": [
    {
     "name": "stdout",
     "output_type": "stream",
     "text": [
      "0\n",
      "2\n",
      "4\n",
      "6\n",
      "8\n",
      "10\n",
      "12\n",
      "14\n",
      "16\n",
      "18\n"
     ]
    }
   ],
   "source": [
    "for i in range(10):\n",
    "    suma = i + i\n",
    "    print(suma)\n"
   ]
  },
  {
   "cell_type": "code",
   "execution_count": 2,
   "id": "6759de63-5dca-4c3b-ace5-68dcb739ba02",
   "metadata": {},
   "outputs": [
    {
     "name": "stdout",
     "output_type": "stream",
     "text": [
      "Hola 18\n"
     ]
    }
   ],
   "source": [
    "print(f\"Hola {suma}\")"
   ]
  },
  {
   "cell_type": "code",
   "execution_count": null,
   "id": "26128be1-4f4f-4bc1-8476-205482b06a3b",
   "metadata": {},
   "outputs": [],
   "source": []
  }
 ],
 "metadata": {
  "kernelspec": {
   "display_name": "Python 3 (ipykernel)",
   "language": "python",
   "name": "python3"
  },
  "language_info": {
   "codemirror_mode": {
    "name": "ipython",
    "version": 3
   },
   "file_extension": ".py",
   "mimetype": "text/x-python",
   "name": "python",
   "nbconvert_exporter": "python",
   "pygments_lexer": "ipython3",
   "version": "3.11.4"
  }
 },
 "nbformat": 4,
 "nbformat_minor": 5
}
