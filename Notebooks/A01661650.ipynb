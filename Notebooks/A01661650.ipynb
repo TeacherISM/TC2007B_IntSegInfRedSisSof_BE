{
 "cells": [
  {
   "cell_type": "markdown",
   "id": "8e999934-4f3a-4eb8-a6b9-a878f2cbadc0",
   "metadata": {},
   "source": [
    "# David Gonzalez Alanis"
   ]
  },
  {
   "cell_type": "code",
   "execution_count": 1,
   "id": "0f2a041f-00c1-4a57-859c-c724258666cd",
   "metadata": {},
   "outputs": [
    {
     "name": "stdout",
     "output_type": "stream",
     "text": [
      "0\n",
      "2\n",
      "4\n",
      "6\n",
      "8\n",
      "10\n",
      "12\n",
      "14\n",
      "16\n",
      "18\n"
     ]
    }
   ],
   "source": [
    "for i in range(10):\n",
    "    suma = i + i\n",
    "    print(suma)\n"
   ]
  },
  {
   "cell_type": "code",
   "execution_count": 2,
   "id": "6759de63-5dca-4c3b-ace5-68dcb739ba02",
   "metadata": {},
   "outputs": [
    {
     "name": "stdout",
     "output_type": "stream",
     "text": [
      "Hola 18\n"
     ]
    }
   ],
   "source": [
    "print(f\"Hola {suma}\")"
   ]
  },
  {
   "cell_type": "markdown",
   "id": "839327c6-b033-4fea-ae8b-fba93500249e",
   "metadata": {},
   "source": [
    "# Actividad 4.2 Generación de servicio BE (Django), con autenticación básica y pruebas manuales."
   ]
  },
  {
   "cell_type": "code",
   "execution_count": 5,
   "id": "101108cb-8c48-4b94-b4a4-13428e622639",
   "metadata": {},
   "outputs": [
    {
     "name": "stdout",
     "output_type": "stream",
     "text": [
      "Requirement already satisfied: pip in c:\\users\\david\\appdata\\local\\packages\\pythonsoftwarefoundation.python.3.11_qbz5n2kfra8p0\\localcache\\local-packages\\python311\\site-packages (23.2.1)\n",
      "Requirement already satisfied: numpy in c:\\users\\david\\appdata\\local\\packages\\pythonsoftwarefoundation.python.3.11_qbz5n2kfra8p0\\localcache\\local-packages\\python311\\site-packages (1.25.2)\n",
      "Requirement already satisfied: requests in c:\\users\\david\\appdata\\local\\packages\\pythonsoftwarefoundation.python.3.11_qbz5n2kfra8p0\\localcache\\local-packages\\python311\\site-packages (2.31.0)\n",
      "Requirement already satisfied: charset-normalizer<4,>=2 in c:\\users\\david\\appdata\\local\\packages\\pythonsoftwarefoundation.python.3.11_qbz5n2kfra8p0\\localcache\\local-packages\\python311\\site-packages (from requests) (3.2.0)\n",
      "Requirement already satisfied: idna<4,>=2.5 in c:\\users\\david\\appdata\\local\\packages\\pythonsoftwarefoundation.python.3.11_qbz5n2kfra8p0\\localcache\\local-packages\\python311\\site-packages (from requests) (3.4)\n",
      "Requirement already satisfied: urllib3<3,>=1.21.1 in c:\\users\\david\\appdata\\local\\packages\\pythonsoftwarefoundation.python.3.11_qbz5n2kfra8p0\\localcache\\local-packages\\python311\\site-packages (from requests) (2.0.4)\n",
      "Requirement already satisfied: certifi>=2017.4.17 in c:\\users\\david\\appdata\\local\\packages\\pythonsoftwarefoundation.python.3.11_qbz5n2kfra8p0\\localcache\\local-packages\\python311\\site-packages (from requests) (2023.7.22)\n"
     ]
    }
   ],
   "source": [
    "import sys\n",
    "!{sys.executable} -m pip install --upgrade pip\n",
    "!{sys.executable} -m pip install numpy\n",
    "!{sys.executable} -m pip install requests\n",
    "import requests"
   ]
  },
  {
   "cell_type": "code",
   "execution_count": 17,
   "id": "ae4fc39d-ecc3-4d70-8dbd-7f9e29267eea",
   "metadata": {},
   "outputs": [
    {
     "data": {
      "text/plain": [
       "{'count': 1,\n",
       " 'next': None,\n",
       " 'previous': None,\n",
       " 'results': [{'url': 'http://127.0.0.1:8000/users/1/',\n",
       "   'username': 'A01661650',\n",
       "   'email': 'A01661650@tec.mx',\n",
       "   'groups': []}]}"
      ]
     },
     "execution_count": 17,
     "metadata": {},
     "output_type": "execute_result"
    }
   ],
   "source": [
    "api_url = \"http://127.0.0.1:8000/users/\"\n",
    "response = requests.get(api_url, auth=(\"A01661650\", \"password\"))\n",
    "response.json()"
   ]
  },
  {
   "cell_type": "markdown",
   "id": "91fd6b33-ed4b-4c05-bea5-d83a7c5ddb7c",
   "metadata": {},
   "source": [
    "# Actividad 4.3 Generación de especificación OpenAPI para creación de clientes basados en el estandar"
   ]
  },
  {
   "cell_type": "code",
   "execution_count": 10,
   "id": "b8ca602d-a7fb-47db-b41d-3c8b5dc759e1",
   "metadata": {},
   "outputs": [
    {
     "data": {
      "text/plain": [
       "{'count': 0, 'next': None, 'previous': None, 'results': []}"
      ]
     },
     "execution_count": 10,
     "metadata": {},
     "output_type": "execute_result"
    }
   ],
   "source": [
    "api_url = \"http://localhost:8000/usuario\"\n",
    "response = requests.get(api_url, auth= (\"A01661650\", \"password\"))\n",
    "response.json()"
   ]
  },
  {
   "cell_type": "code",
   "execution_count": 15,
   "id": "7894de78-3b7b-431f-bab8-b7295f38bcc8",
   "metadata": {},
   "outputs": [
    {
     "data": {
      "text/plain": [
       "{'count': 0, 'next': None, 'previous': None, 'results': []}"
      ]
     },
     "execution_count": 15,
     "metadata": {},
     "output_type": "execute_result"
    }
   ],
   "source": [
    "api_url = \"http://localhost:8000/admin\"\n",
    "response = requests.get(api_url, auth= (\"A01661650\", \"password\"))\n",
    "response.json()"
   ]
  },
  {
   "cell_type": "code",
   "execution_count": 13,
   "id": "6500accd-74fb-425c-99c0-77bb73d85835",
   "metadata": {},
   "outputs": [
    {
     "name": "stdout",
     "output_type": "stream",
     "text": [
      "<Response [200]>\n"
     ]
    }
   ],
   "source": [
    "api_url = \"http://localhost:8000/api/schema/swagger-ui\"\n",
    "response = requests.get(api_url)\n",
    "print(response)"
   ]
  },
  {
   "cell_type": "code",
   "execution_count": 14,
   "id": "1d71b290-eec5-402a-92e5-32e66cee0fd0",
   "metadata": {},
   "outputs": [
    {
     "name": "stdout",
     "output_type": "stream",
     "text": [
      "<Response [200]>\n"
     ]
    }
   ],
   "source": [
    "api_url = \"http://localhost:8000/api/schema/redoc\"\n",
    "response = requests.get(api_url)\n",
    "print(response)"
   ]
  },
  {
   "cell_type": "code",
   "execution_count": 19,
   "id": "121cbc5a-d821-449d-95fe-16ca9003c62a",
   "metadata": {},
   "outputs": [
    {
     "name": "stdout",
     "output_type": "stream",
     "text": [
      "Solicitud aceptada a http://localhost:8000/groups/. Código de estado: 200\n",
      "Error en la solicitud a http://localhost:8000/groups/1/. Código de estado: 404\n",
      "Solicitud aceptada a http://localhost:8000/users/. Código de estado: 200\n",
      "Solicitud aceptada a http://localhost:8000/users/1/. Código de estado: 200\n",
      "Solicitud aceptada a http://localhost:8000/usuario/. Código de estado: 200\n",
      "Error en la solicitud a http://localhost:8000/usuario/1/. Código de estado: 404\n",
      "Solicitud aceptada a http://localhost:8000/admin/. Código de estado: 200\n",
      "Error en la solicitud a http://localhost:8000/admin/1/. Código de estado: 404\n"
     ]
    }
   ],
   "source": [
    "base_url = \"http://localhost:8000\"\n",
    "\n",
    "endpoints = [\n",
    "    \"/groups/\",\n",
    "    \"/groups/1/\",\n",
    "    \"/users/\",\n",
    "    \"/users/1/\",\n",
    "    \"/usuario/\",\n",
    "    \"/usuario/1/\",\n",
    "    \"/admin/\",\n",
    "    \"/admin/1/\",\n",
    "]\n",
    "\n",
    "for endpoint in endpoints:\n",
    "    url = f\"{base_url}{endpoint}\"\n",
    "    response = requests.get(url, auth=('A01661650','password'))\n",
    "\n",
    "    if response.status_code == 200:\n",
    "        print(f\"Solicitud aceptada a {url}. Código de estado: {response.status_code}\")\n",
    "    else:\n",
    "        print(f\"Error en la solicitud a {url}. Código de estado: {response.status_code}\")"
   ]
  },
  {
   "cell_type": "code",
   "execution_count": null,
   "id": "7b867bc2-da2d-4d78-9219-b3fc33b1c49d",
   "metadata": {},
   "outputs": [],
   "source": []
  }
 ],
 "metadata": {
  "kernelspec": {
   "display_name": "Python 3 (ipykernel)",
   "language": "python",
   "name": "python3"
  },
  "language_info": {
   "codemirror_mode": {
    "name": "ipython",
    "version": 3
   },
   "file_extension": ".py",
   "mimetype": "text/x-python",
   "name": "python",
   "nbconvert_exporter": "python",
   "pygments_lexer": "ipython3",
   "version": "3.11.4"
  }
 },
 "nbformat": 4,
 "nbformat_minor": 5
}
