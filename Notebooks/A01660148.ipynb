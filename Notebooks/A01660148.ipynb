{
 "cells": [
  {
   "cell_type": "markdown",
   "id": "2e56d7ca-de1a-4285-b5ae-e77490676a45",
   "metadata": {},
   "source": [
    "# Pablo Ceballos Gutiérrez"
   ]
  },
  {
   "cell_type": "code",
   "execution_count": 1,
   "id": "34da6c16-be91-44a1-866c-b5c68ea3edd5",
   "metadata": {},
   "outputs": [
    {
     "name": "stdout",
     "output_type": "stream",
     "text": [
      "Hola Mundooo\n"
     ]
    }
   ],
   "source": [
    "print(\"Hola Mundooo\")"
   ]
  },
  {
   "cell_type": "markdown",
   "id": "e17248f3-156d-484c-aaed-c155e92117b7",
   "metadata": {},
   "source": [
    "# Creación de una app en Django\n",
    "\n",
    "Para esta actividad se creo una pequeña app en el framework de Django, también se creo una base de datos para guardar los usuarios y su grupo, al final la app regresa un JSON y con los datos de usuario, email y grupo. "
   ]
  },
  {
   "cell_type": "code",
   "execution_count": 9,
   "id": "f92d325e-1f25-4abc-929d-e590fbaed9cf",
   "metadata": {},
   "outputs": [],
   "source": [
    "import sys\n",
    "import requests"
   ]
  },
  {
   "cell_type": "code",
   "execution_count": 11,
   "id": "8d0318c7-8e7e-404c-9b5c-72b5008ce4a8",
   "metadata": {},
   "outputs": [
    {
     "data": {
      "text/plain": [
       "{'count': 1,\n",
       " 'next': None,\n",
       " 'previous': None,\n",
       " 'results': [{'url': 'http://127.0.0.1:8000/users/1/',\n",
       "   'username': 'A01660148',\n",
       "   'email': 'A01660148@tec.mx',\n",
       "   'groups': []}]}"
      ]
     },
     "execution_count": 11,
     "metadata": {},
     "output_type": "execute_result"
    }
   ],
   "source": [
    "api_url = \"http://127.0.0.1:8000/users/\"\n",
    "response = requests.get(api_url, auth=('A01660148', 'Amourshipping2*'))\n",
    "response.json()"
   ]
  },
  {
   "cell_type": "markdown",
   "id": "315d2bb4-82f3-4ebc-98e8-f34b31cea4ce",
   "metadata": {},
   "source": [
    "# Creación de models personalisados"
   ]
  },
  {
   "cell_type": "code",
   "execution_count": 8,
   "id": "31811290-4689-4f17-9417-57d25f578d99",
   "metadata": {},
   "outputs": [],
   "source": [
    "import sys\n",
    "import requests"
   ]
  },
  {
   "cell_type": "code",
   "execution_count": 13,
   "id": "12442b93-7ff3-42e3-91ed-732374f0c857",
   "metadata": {
    "scrolled": true
   },
   "outputs": [
    {
     "data": {
      "text/plain": [
       "{'detail': 'Invalid username/password.'}"
      ]
     },
     "execution_count": 13,
     "metadata": {},
     "output_type": "execute_result"
    }
   ],
   "source": [
    "api_url = 'http://127.0.0.1:8000/boletos/'\n",
    "response = requests.get(api_url, auth=('A01660148', 'Amourshipping2*'))\n",
    "response.json()"
   ]
  },
  {
   "cell_type": "code",
   "execution_count": 14,
   "id": "71cb2a9e-3d23-4175-8856-cd667de2e341",
   "metadata": {},
   "outputs": [
    {
     "data": {
      "text/plain": [
       "{'detail': 'Authentication credentials were not provided'}"
      ]
     },
     "execution_count": 14,
     "metadata": {},
     "output_type": "execute_result"
    }
   ],
   "source": [
    "{'detail': 'Authentication credentials were not provided'}"
   ]
  },
  {
   "cell_type": "code",
   "execution_count": 15,
   "id": "0c1d64ea-30c9-40e6-9b5b-2c123c61de6d",
   "metadata": {},
   "outputs": [
    {
     "name": "stdout",
     "output_type": "stream",
     "text": [
      "<Response [200]>\n"
     ]
    }
   ],
   "source": [
    "api_url = \"http://127.0.0.1:8000/api/schema/\"\n",
    "response = requests.get(api_url)\n",
    "print(response)\n"
   ]
  },
  {
   "cell_type": "code",
   "execution_count": null,
   "id": "d5b8f8fb-ec5b-4ef3-ae52-39be4dfd8246",
   "metadata": {},
   "outputs": [],
   "source": []
  }
 ],
 "metadata": {
  "kernelspec": {
   "display_name": "Python 3 (ipykernel)",
   "language": "python",
   "name": "python3"
  },
  "language_info": {
   "codemirror_mode": {
    "name": "ipython",
    "version": 3
   },
   "file_extension": ".py",
   "mimetype": "text/x-python",
   "name": "python",
   "nbconvert_exporter": "python",
   "pygments_lexer": "ipython3",
   "version": "3.10.7"
  }
 },
 "nbformat": 4,
 "nbformat_minor": 5
}
