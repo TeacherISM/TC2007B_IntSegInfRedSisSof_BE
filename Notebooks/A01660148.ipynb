{
 "cells": [
  {
   "cell_type": "markdown",
   "id": "ac62b4a1-807f-44e4-8e40-f3d2282375dc",
   "metadata": {},
   "source": [
    "# Pablo Ceballos Gutiérrez"
   ]
  },
  {
   "cell_type": "code",
   "execution_count": 1,
   "id": "34da6c16-be91-44a1-866c-b5c68ea3edd5",
   "metadata": {},
   "outputs": [
    {
     "name": "stdout",
     "output_type": "stream",
     "text": [
      "Hola Mundooo\n"
     ]
    }
   ],
   "source": [
    "print(\"Hola Mundooo\")"
   ]
  },
  {
   "cell_type": "code",
   "execution_count": null,
   "id": "f92d325e-1f25-4abc-929d-e590fbaed9cf",
   "metadata": {},
   "outputs": [],
   "source": []
  }
 ],
 "metadata": {
  "kernelspec": {
   "display_name": "Python 3 (ipykernel)",
   "language": "python",
   "name": "python3"
  },
  "language_info": {
   "codemirror_mode": {
    "name": "ipython",
    "version": 3
   },
   "file_extension": ".py",
   "mimetype": "text/x-python",
   "name": "python",
   "nbconvert_exporter": "python",
   "pygments_lexer": "ipython3",
   "version": "3.10.7"
  }
 },
 "nbformat": 4,
 "nbformat_minor": 5
}
