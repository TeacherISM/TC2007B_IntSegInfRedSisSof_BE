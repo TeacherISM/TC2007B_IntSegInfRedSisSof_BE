{
 "cells": [
  {
   "cell_type": "code",
   "execution_count": null,
   "id": "ca464080-418a-478a-abcf-8a2ddf095707",
   "metadata": {},
   "outputs": [],
   "source": [
    "# Pablo Ceballos Gutiérrez"
   ]
  },
  {
   "cell_type": "code",
   "execution_count": 1,
   "id": "34da6c16-be91-44a1-866c-b5c68ea3edd5",
   "metadata": {},
   "outputs": [
    {
     "name": "stdout",
     "output_type": "stream",
     "text": [
      "Hola Mundooo\n"
     ]
    }
   ],
   "source": [
    "print(\"Hola Mundooo\")"
   ]
  },
  {
   "cell_type": "markdown",
   "id": "e17248f3-156d-484c-aaed-c155e92117b7",
   "metadata": {},
   "source": [
    "# Creación de una app en Django\n",
    "\n",
    "Para esta actividad se creo una pequeña app en el framework de Django, también se creo una base de datos para guardar los usuarios y su grupo, al final la app regresa un JSON y con los datos de usuario, email y grupo. "
   ]
  },
  {
   "cell_type": "code",
   "execution_count": 9,
   "id": "f92d325e-1f25-4abc-929d-e590fbaed9cf",
   "metadata": {},
   "outputs": [],
   "source": [
    "import sys\n",
    "import requests"
   ]
  },
  {
   "cell_type": "code",
   "execution_count": 11,
   "id": "8d0318c7-8e7e-404c-9b5c-72b5008ce4a8",
   "metadata": {},
   "outputs": [
    {
     "data": {
      "text/plain": [
       "{'count': 1,\n",
       " 'next': None,\n",
       " 'previous': None,\n",
       " 'results': [{'url': 'http://127.0.0.1:8000/users/1/',\n",
       "   'username': 'A01660148',\n",
       "   'email': 'A01660148@tec.mx',\n",
       "   'groups': []}]}"
      ]
     },
     "execution_count": 11,
     "metadata": {},
     "output_type": "execute_result"
    }
   ],
   "source": [
    "api_url = \"http://127.0.0.1:8000/users/\"\n",
    "response = requests.get(api_url, auth=('A01660148', 'Amourshipping2*'))\n",
    "response.json()"
   ]
  },
  {
   "cell_type": "code",
   "execution_count": null,
   "id": "f5834049-49ef-4a0f-b3ce-ff824bf55f7a",
   "metadata": {},
   "outputs": [],
   "source": []
  }
 ],
 "metadata": {
  "kernelspec": {
   "display_name": "Python 3 (ipykernel)",
   "language": "python",
   "name": "python3"
  },
  "language_info": {
   "codemirror_mode": {
    "name": "ipython",
    "version": 3
   },
   "file_extension": ".py",
   "mimetype": "text/x-python",
   "name": "python",
   "nbconvert_exporter": "python",
   "pygments_lexer": "ipython3",
   "version": "3.10.7"
  }
 },
 "nbformat": 4,
 "nbformat_minor": 5
}
