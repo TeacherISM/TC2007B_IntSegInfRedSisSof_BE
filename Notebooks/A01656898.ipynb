{
 "cells": [
  {
   "cell_type": "markdown",
   "id": "d1adf149",
   "metadata": {},
   "source": [
    "# Ricardo Campos Luna (A01656898)"
   ]
  },
  {
   "cell_type": "markdown",
   "id": "292497d5",
   "metadata": {},
   "source": [
    "**Integración de seguridad informática en redes y sistemas de software**"
   ]
  },
  {
   "cell_type": "code",
   "execution_count": 8,
   "id": "d1320d46",
   "metadata": {},
   "outputs": [
    {
     "name": "stdout",
     "output_type": "stream",
     "text": [
      "¿Cuál es tu nombre? >>> Ricardo\n"
     ]
    }
   ],
   "source": [
    "name = input(\"¿Cuál es tu nombre? >>> \")"
   ]
  },
  {
   "cell_type": "code",
   "execution_count": 9,
   "id": "be9b77a2",
   "metadata": {},
   "outputs": [
    {
     "name": "stdout",
     "output_type": "stream",
     "text": [
      "Hola Ricardo, bienvenido al mundo de la programación en Python.\n"
     ]
    }
   ],
   "source": [
    "print(f\"Hola {name}, bienvenido al mundo de la programación en Python.\")"
   ]
  },
  {
   "cell_type": "markdown",
   "id": "f96b7e4b",
   "metadata": {},
   "source": [
    "### Creación del entorno virtual (Python)\n",
    "    python3 -m venv virtualEnv\n",
    "    \n",
    "### Activación del entorno virtual\n",
    "    source virtualEnv/bin/activate\n",
    "    \n",
    "**Nota:** Un entorno virtual te permite tener instaladas dos versiones y configuraciones distintas de un mismo programa dentro de una misma computadora. En este caso creamos un entorno virtual para que la importación de las librerías Django y Django REST Framework no entren en conflicto con otras librerías además de poder importar esta configuración para que se ejecute en otras computadoras exitosamente.\n",
    "\n",
    "### Creación del directorio del proyecto\n",
    "    mkdir A01656898\n",
    "    \n",
    "### Acceso al directorio del proyecto\n",
    "    cd A01656898\n",
    "    \n",
    "### Instalación de Django y Django REST framework dentro del entorno virtual\n",
    "    pip install django\n",
    "    pip install djangorestframework\n",
    "    \n",
    "### Establecimiento de un nuevo proyecto Django\n",
    "    django-admin startproject SEL4C\n",
    "    cd SEL4C\n",
    "\n",
    "### Establecimiento de una aplicación dentro de ese proyecto\n",
    "    django-admin startapp app1\n",
    "    cd ..\n",
    "\n",
    "### Sincronización de base de datos por primera vez\n",
    "    python3 manage.py migrate\n",
    "    \n",
    "**Nota:** Esto se ocupa para ver si hay un cambio en la estructura de la base de datos a través del código de Python de ORM (Object Relational Mapping) ya que muchas veces se define o redefine la estructura de la base de datos a través de un archivo **models.py**.\n",
    "    \n",
    "### Creación de usuario inicial\n",
    "    python3 manage.py createsuperuser --email A01656898@tec.mx --username A01656898\n",
    "    \n",
    "**Nota:** Creación de usuario que tiene todos los privilegios, así se crea el usuario inicial en Django. \n",
    "\n",
    "### Creación de serializadores (A01656898/SEL4C/app1/serializers.py)\n",
    "    from django.contrib.auth.models import User, Group\n",
    "    from rest_framework import serializers\n",
    "\n",
    "    class UserSerializer(serializers.HyperlinkedModelSerializer):\n",
    "        class Meta:\n",
    "            model = User\n",
    "            fields = ['url', 'username', 'email', 'groups']\n",
    "\n",
    "    class GroupSerializer(serializers.HyperlinkedModelSerializer):\n",
    "        class Meta:\n",
    "            model = Group\n",
    "            fields = ['url', 'name']\n",
    "            \n",
    "**Nota:** Se crea un archivo llamado **serializers.py** en el directorio correspondiente a la única aplicación dentro del proyecto Django. Después de la creación de este archivo se agrega el código anteriormente mostrado. Estos serializadores permiten el manejo de registros de la base de datos en código Python.\n",
    "\n",
    "### Creación de vistas (A01656898/SEL4C/app1/views.py)\n",
    "    from django.shortcuts import render\n",
    "    from django.contrib.auth.models import User, Group\n",
    "    from rest_framework import viewsets\n",
    "    from rest_framework import permissions\n",
    "    from app1.serializers import UserSerializer, GroupSerializer\n",
    "\n",
    "    class UserViewSet(viewsets.ModelViewSet):\n",
    "        \"\"\"\n",
    "        API endpoint that allows users to be viewed or edited.\n",
    "        \"\"\"\n",
    "        queryset = User.objects.all().order_by('-date_joined')\n",
    "        serializer_class = UserSerializer\n",
    "        permission_classes = [permissions.IsAuthenticated]\n",
    "\n",
    "    class GroupViewSet(viewsets.ModelViewSet):\n",
    "        \"\"\"\n",
    "        API endpoint that allows groups to be viewed or edited.\n",
    "        \"\"\"\n",
    "        queryset = Group.objects.all()\n",
    "        serializer_class = GroupSerializer\n",
    "        permission_classes = [permissions.IsAuthenticated]\n",
    "\n",
    "\n",
    "### Modificación de configuración (A01656898/SEL4C/SEL4C/settings.py)\n",
    "    REST_FRAMEWORK = {\n",
    "        'DEFAULT_PAGINATION_CLASS': 'rest_framework.pagination.PageNumberPagination',\n",
    "        'PAGE_SIZE': 10\n",
    "    }\n",
    "    \n",
    "    INSTALLED_APPS = {\n",
    "        ...\n",
    "        'rest_framework',\n",
    "    }\n",
    "\n",
    "### Puesta en marcha del servidor\n",
    "    python3 manage.py runserver\n",
    "    \n",
    "**Nota:** Este comando se ejecuta en el directorio **TC2007B_IntSegInfRedSisSof_BE/A01656898/SEL4C**.\n",
    "    \n",
    "### Prueba unitaria manual dinámica con comando CURL\n",
    "    curl -H 'Accept: application/json; indent=4' -u A01656898:pa55w0rk http://127.0.0.1:8000/users/"
   ]
  },
  {
   "cell_type": "markdown",
   "id": "0b34b291",
   "metadata": {},
   "source": [
    "**Primer prueba unitaria manual dinámica usando este Jupyter Notebook:**\n",
    "Generación de servicio BE, con autentificación básica y pruebas manuales."
   ]
  },
  {
   "cell_type": "code",
   "execution_count": 2,
   "id": "925291eb",
   "metadata": {
    "scrolled": true
   },
   "outputs": [
    {
     "name": "stdout",
     "output_type": "stream",
     "text": [
      "Requirement already satisfied: pip in /Users/ricky/opt/anaconda3/lib/python3.9/site-packages (23.2.1)\n",
      "Requirement already satisfied: numpy in /Users/ricky/opt/anaconda3/lib/python3.9/site-packages (1.21.5)\n",
      "Requirement already satisfied: requests in /Users/ricky/opt/anaconda3/lib/python3.9/site-packages (2.28.1)\n",
      "Requirement already satisfied: charset-normalizer<3,>=2 in /Users/ricky/opt/anaconda3/lib/python3.9/site-packages (from requests) (2.0.4)\n",
      "Requirement already satisfied: idna<4,>=2.5 in /Users/ricky/opt/anaconda3/lib/python3.9/site-packages (from requests) (3.3)\n",
      "Requirement already satisfied: urllib3<1.27,>=1.21.1 in /Users/ricky/opt/anaconda3/lib/python3.9/site-packages (from requests) (1.26.11)\n",
      "Requirement already satisfied: certifi>=2017.4.17 in /Users/ricky/opt/anaconda3/lib/python3.9/site-packages (from requests) (2022.9.24)\n"
     ]
    }
   ],
   "source": [
    "# Importación de libería requests para pruebas unitarias\n",
    "import sys\n",
    "\n",
    "!{sys.executable} -m pip install --upgrade pip\n",
    "!{sys.executable} -m pip install numpy\n",
    "!{sys.executable} -m pip install requests\n",
    "\n",
    "import requests"
   ]
  },
  {
   "cell_type": "code",
   "execution_count": 3,
   "id": "37ae41cb",
   "metadata": {},
   "outputs": [
    {
     "data": {
      "text/plain": [
       "{'detail': 'Authentication credentials were not provided.'}"
      ]
     },
     "execution_count": 3,
     "metadata": {},
     "output_type": "execute_result"
    }
   ],
   "source": [
    "# -------------------------------------------------------------\n",
    "# Código de la prueba donde no se usa ninguna credencial\n",
    "# -------------------------------------------------------------\n",
    "\n",
    "# La prueba: lo esperado es obtener un error ya que no fueron proveidas credenciales\n",
    "\n",
    "api_url = \"http://127.0.0.1:8000/users/\" # Enlace a probar\n",
    "response = requests.get(api_url) \n",
    "response.json() # Serialización"
   ]
  },
  {
   "cell_type": "markdown",
   "id": "ad71402f",
   "metadata": {},
   "source": [
    "*Prueba exitosa* (Se mostró el detalle del error que fue que las credenciales de autentificación no fueron proveídas)."
   ]
  },
  {
   "cell_type": "code",
   "execution_count": 4,
   "id": "5f0e3f54",
   "metadata": {},
   "outputs": [
    {
     "data": {
      "text/plain": [
       "{'count': 1,\n",
       " 'next': None,\n",
       " 'previous': None,\n",
       " 'results': [{'url': 'http://127.0.0.1:8000/users/1/',\n",
       "   'username': 'A01656898',\n",
       "   'email': 'A01656898@tec.mx',\n",
       "   'groups': []}]}"
      ]
     },
     "execution_count": 4,
     "metadata": {},
     "output_type": "execute_result"
    }
   ],
   "source": [
    "# -------------------------------------------------------------\n",
    "# Código de la prueba usando credenciales de administración \n",
    "# -------------------------------------------------------------\n",
    "# La prueba: lo esperado es obtener un JSON con todos los usuarios de la base de datos\n",
    "\n",
    "response = requests.get(api_url, auth = (\"A01656898\", \"pa55w0rk\")) \n",
    "response.json() # Serialización"
   ]
  },
  {
   "cell_type": "markdown",
   "id": "094a0eba",
   "metadata": {},
   "source": [
    "*Prueba exitosa* (Se mostró los registros en un formato JSON de los usuario en la base de datos)."
   ]
  },
  {
   "cell_type": "code",
   "execution_count": null,
   "id": "0c039943",
   "metadata": {},
   "outputs": [],
   "source": []
  }
 ],
 "metadata": {
  "kernelspec": {
   "display_name": "Python 3 (ipykernel)",
   "language": "python",
   "name": "python3"
  },
  "language_info": {
   "codemirror_mode": {
    "name": "ipython",
    "version": 3
   },
   "file_extension": ".py",
   "mimetype": "text/x-python",
   "name": "python",
   "nbconvert_exporter": "python",
   "pygments_lexer": "ipython3",
   "version": "3.9.13"
  }
 },
 "nbformat": 4,
 "nbformat_minor": 5
}
