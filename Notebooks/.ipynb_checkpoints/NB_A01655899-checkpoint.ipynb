{
 "cells": [
  {
   "cell_type": "markdown",
   "id": "7de9bc5a",
   "metadata": {},
   "source": [
    "# Luis Armando Mandujano Chávez"
   ]
  },
  {
   "cell_type": "code",
   "execution_count": null,
   "id": "da606f82",
   "metadata": {},
   "outputs": [],
   "source": [
    "print(\"¡Hola! Mi nombre es Armando\") "
   ]
  },
  {
   "cell_type": "markdown",
   "id": "dc4f2fe4",
   "metadata": {},
   "source": [
    "Presentación"
   ]
  }
 ],
 "metadata": {
  "kernelspec": {
   "display_name": "Python 3 (ipykernel)",
   "language": "python",
   "name": "python3"
  },
  "language_info": {
   "codemirror_mode": {
    "name": "ipython",
    "version": 3
   },
   "file_extension": ".py",
   "mimetype": "text/x-python",
   "name": "python",
   "nbconvert_exporter": "python",
   "pygments_lexer": "ipython3",
   "version": "3.9.13"
  }
 },
 "nbformat": 4,
 "nbformat_minor": 5
}
