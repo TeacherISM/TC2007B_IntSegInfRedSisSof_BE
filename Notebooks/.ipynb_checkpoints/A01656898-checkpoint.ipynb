{
 "cells": [
  {
   "cell_type": "markdown",
   "id": "d1adf149",
   "metadata": {},
   "source": [
    "# Ricardo Campos Luna"
   ]
  },
  {
   "cell_type": "code",
   "execution_count": 8,
   "id": "d1320d46",
   "metadata": {},
   "outputs": [
    {
     "name": "stdout",
     "output_type": "stream",
     "text": [
      "¿Cuál es tu nombre? >>> Ricardo\n"
     ]
    }
   ],
   "source": [
    "name = input(\"¿Cuál es tu nombre? >>> \")"
   ]
  },
  {
   "cell_type": "code",
   "execution_count": 9,
   "id": "be9b77a2",
   "metadata": {},
   "outputs": [
    {
     "name": "stdout",
     "output_type": "stream",
     "text": [
      "Hola Ricardo, bienvenido al mundo de la programación en Python.\n"
     ]
    }
   ],
   "source": [
    "print(f\"Hola {name}, bienvenido al mundo de la programación en Python.\")"
   ]
  },
  {
   "cell_type": "code",
   "execution_count": null,
   "id": "12a15a6b",
   "metadata": {},
   "outputs": [],
   "source": []
  }
 ],
 "metadata": {
  "kernelspec": {
   "display_name": "Python 3 (ipykernel)",
   "language": "python",
   "name": "python3"
  },
  "language_info": {
   "codemirror_mode": {
    "name": "ipython",
    "version": 3
   },
   "file_extension": ".py",
   "mimetype": "text/x-python",
   "name": "python",
   "nbconvert_exporter": "python",
   "pygments_lexer": "ipython3",
   "version": "3.9.16"
  }
 },
 "nbformat": 4,
 "nbformat_minor": 5
}
