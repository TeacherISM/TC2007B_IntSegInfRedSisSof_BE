{
 "cells": [
  {
   "cell_type": "markdown",
   "id": "330ac92e-ad4e-43bb-855d-96c01b59e910",
   "metadata": {},
   "source": [
    "# Luis Gerardo Magaña Yáñez"
   ]
  },
  {
   "cell_type": "code",
   "execution_count": 1,
   "id": "2523fee0-8dc3-4265-a88f-50da313b1a85",
   "metadata": {},
   "outputs": [
    {
     "name": "stdout",
     "output_type": "stream",
     "text": [
      "Hola mundo\n"
     ]
    }
   ],
   "source": [
    "print (\"Hola mundo\")"
   ]
  },
  {
   "cell_type": "code",
   "execution_count": null,
   "id": "7a5be7ff-bbb5-4757-9fa8-197850991c45",
   "metadata": {},
   "outputs": [],
   "source": []
  }
 ],
 "metadata": {
  "kernelspec": {
   "display_name": "Python 3 (ipykernel)",
   "language": "python",
   "name": "python3"
  },
  "language_info": {
   "codemirror_mode": {
    "name": "ipython",
    "version": 3
   },
   "file_extension": ".py",
   "mimetype": "text/x-python",
   "name": "python",
   "nbconvert_exporter": "python",
   "pygments_lexer": "ipython3",
   "version": "3.11.4"
  }
 },
 "nbformat": 4,
 "nbformat_minor": 5
}
