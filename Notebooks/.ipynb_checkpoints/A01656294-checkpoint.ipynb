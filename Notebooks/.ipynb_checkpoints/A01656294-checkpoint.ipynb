{
 "cells": [
  {
   "cell_type": "markdown",
   "id": "eef35cea",
   "metadata": {},
   "source": [
    "# José Roberto Garduño Cerecedo"
   ]
  },
  {
   "cell_type": "code",
   "execution_count": 2,
   "id": "a9d71f2d",
   "metadata": {},
   "outputs": [
    {
     "name": "stdout",
     "output_type": "stream",
     "text": [
      "Hola mundo ejecutando por python\n"
     ]
    }
   ],
   "source": [
    "print(\"Hola mundo ejecutando por python\")"
   ]
  },
  {
   "cell_type": "code",
   "execution_count": null,
   "id": "d052f536",
   "metadata": {},
   "outputs": [],
   "source": []
  }
 ],
 "metadata": {
  "kernelspec": {
   "display_name": "Python 3 (ipykernel)",
   "language": "python",
   "name": "python3"
  },
  "language_info": {
   "codemirror_mode": {
    "name": "ipython",
    "version": 3
   },
   "file_extension": ".py",
   "mimetype": "text/x-python",
   "name": "python",
   "nbconvert_exporter": "python",
   "pygments_lexer": "ipython3",
   "version": "3.9.13"
  }
 },
 "nbformat": 4,
 "nbformat_minor": 5
}
