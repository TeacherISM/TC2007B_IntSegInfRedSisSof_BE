{
 "cells": [
  {
   "cell_type": "markdown",
   "id": "757a1870-4773-40ed-b508-53d1d3e4c940",
   "metadata": {},
   "source": [
    "#Juliette Trejo Ceballos"
   ]
  },
  {
   "cell_type": "code",
   "execution_count": 1,
   "id": "1d173790-cb08-454d-a32e-da7622eefead",
   "metadata": {},
   "outputs": [
    {
     "name": "stdout",
     "output_type": "stream",
     "text": [
      "Hola mundo\n"
     ]
    }
   ],
   "source": [
    "print(\"Hola mundo\")"
   ]
  },
  {
   "cell_type": "code",
   "execution_count": null,
   "id": "c4615482-3905-44af-9c63-9c7cdda55bee",
   "metadata": {},
   "outputs": [],
   "source": []
  }
 ],
 "metadata": {
  "kernelspec": {
   "display_name": "Python 3 (ipykernel)",
   "language": "python",
   "name": "python3"
  },
  "language_info": {
   "codemirror_mode": {
    "name": "ipython",
    "version": 3
   },
   "file_extension": ".py",
   "mimetype": "text/x-python",
   "name": "python",
   "nbconvert_exporter": "python",
   "pygments_lexer": "ipython3",
   "version": "3.11.2"
  }
 },
 "nbformat": 4,
 "nbformat_minor": 5
}
