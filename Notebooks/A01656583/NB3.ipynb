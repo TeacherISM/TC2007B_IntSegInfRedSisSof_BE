{
 "cells": [
  {
   "cell_type": "code",
   "execution_count": 5,
   "metadata": {},
   "outputs": [
    {
     "data": {
      "text/plain": [
       "{'count': 0, 'next': None, 'previous': None, 'results': []}"
      ]
     },
     "execution_count": 5,
     "metadata": {},
     "output_type": "execute_result"
    }
   ],
   "source": [
    "import requests\n",
    "api_url = \"http://localhost:8000/home/\"\n",
    "response = requests.get(api_url, auth=('A01656583', '4atardeceres$ROJOS'))\n",
    "response.json()"
   ]
  },
  {
   "cell_type": "code",
   "execution_count": 9,
   "metadata": {},
   "outputs": [
    {
     "name": "stdout",
     "output_type": "stream",
     "text": [
      "GET request to http://localhost:8000/groups/ successful.\n",
      "{'count': 1, 'next': None, 'previous': None, 'results': [{'url': 'http://localhost:8000/groups/1/', 'name': 'Estudiantes'}]}\n",
      "GET request to http://localhost:8000/groups/1/ successful.\n",
      "{'url': 'http://localhost:8000/groups/1/', 'name': 'Estudiantes'}\n",
      "GET request to http://localhost:8000/home/ successful.\n",
      "{'count': 1, 'next': None, 'previous': None, 'results': [{'activity_number': 3, 'title': 'Describe los 3 mayores problemas de tu localidad', 'content': '1. El acceso al agua potable.\\r\\n2. Falta de espacios verdes.\\r\\n3. Corrupción.', 'created_at': '2023-08-24T06:16:12.866713Z'}]}\n",
      "GET request to http://localhost:8000/home/1/ successful.\n",
      "{'activity_number': 3, 'title': 'Describe los 3 mayores problemas de tu localidad', 'content': '1. El acceso al agua potable.\\r\\n2. Falta de espacios verdes.\\r\\n3. Corrupción.', 'created_at': '2023-08-24T06:16:12.866713Z'}\n",
      "GET request to http://localhost:8000/users/ successful.\n",
      "{'count': 1, 'next': None, 'previous': None, 'results': [{'url': 'http://localhost:8000/users/1/', 'username': 'A01656583', 'email': 'a01656583@tec.mx', 'groups': ['http://localhost:8000/groups/1/']}]}\n",
      "GET request to http://localhost:8000/users/1/ successful.\n",
      "{'url': 'http://localhost:8000/users/1/', 'username': 'A01656583', 'email': 'a01656583@tec.mx', 'groups': ['http://localhost:8000/groups/1/']}\n"
     ]
    }
   ],
   "source": [
    "# Define the base URL for the API\n",
    "base_url = \"http://localhost:8000\"\n",
    "\n",
    "# Define the endpoint paths\n",
    "endpoints = [\n",
    "    \"/groups/\",\n",
    "    \"/groups/1/\",\n",
    "    \"/home/\",\n",
    "    \"/home/1/\",\n",
    "    \"/users/\",\n",
    "    \"/users/1/\",\n",
    "]\n",
    "\n",
    "# Loop through the endpoints and make GET requests\n",
    "for endpoint in endpoints:\n",
    "    url = f\"{base_url}{endpoint}\"\n",
    "    response = requests.get(url, auth=('A01656583', '4atardeceres$ROJOS'))\n",
    "\n",
    "    if response.status_code == 200:\n",
    "        data = response.json()\n",
    "        print(f\"GET request to {url} successful.\")\n",
    "        print(data)\n",
    "    else:\n",
    "        print(f\"GET request to {url} failed with status code: {response.status_code}.\")"
   ]
  }
 ],
 "metadata": {
  "kernelspec": {
   "display_name": "virtualEnv",
   "language": "python",
   "name": "python3"
  },
  "language_info": {
   "codemirror_mode": {
    "name": "ipython",
    "version": 3
   },
   "file_extension": ".py",
   "mimetype": "text/x-python",
   "name": "python",
   "nbconvert_exporter": "python",
   "pygments_lexer": "ipython3",
   "version": "3.11.4"
  },
  "orig_nbformat": 4
 },
 "nbformat": 4,
 "nbformat_minor": 2
}
