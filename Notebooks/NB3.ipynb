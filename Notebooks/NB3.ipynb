{
 "cells": [
  {
   "cell_type": "code",
   "execution_count": 2,
   "id": "c01121a3",
   "metadata": {},
   "outputs": [
    {
     "name": "stdout",
     "output_type": "stream",
     "text": [
      "Defaulting to user installation because normal site-packages is not writeable\n",
      "Requirement already satisfied: pip in /home/kld/.local/lib/python3.10/site-packages (23.2.1)\n",
      "Defaulting to user installation because normal site-packages is not writeable\n",
      "Requirement already satisfied: requests in /usr/lib/python3/dist-packages (2.25.1)\n"
     ]
    }
   ],
   "source": [
    "import sys\n",
    "!{sys.executable} -m pip install --upgrade pip\n",
    "!{sys.executable} -m pip install requests\n",
    "import requests"
   ]
  },
  {
   "cell_type": "code",
   "execution_count": 8,
   "id": "482e7dc4",
   "metadata": {},
   "outputs": [
    {
     "data": {
      "text/plain": [
       "{'count': 0, 'next': None, 'previous': None, 'results': []}"
      ]
     },
     "execution_count": 8,
     "metadata": {},
     "output_type": "execute_result"
    }
   ],
   "source": [
    "api_url = \"http://localhost:8000/home\"\n",
    "response = requests.get(api_url, auth=('A01662659', 'FranciscoLara18'))\n",
    "response.json()"
   ]
  },
  {
   "cell_type": "code",
   "execution_count": 18,
   "id": "4f555e8e",
   "metadata": {
    "scrolled": true
   },
   "outputs": [
    {
     "name": "stdout",
     "output_type": "stream",
     "text": [
      "GET request to http://localhost:8000/groups/ successful.\n",
      "{'count': 1, 'next': None, 'previous': None, 'results': [{'url': 'http://localhost:8000/groups/1/', 'name': 'Estudiantes'}]}\n",
      "GET request to http://localhost:8000/groups/1/ successful.\n",
      "{'url': 'http://localhost:8000/groups/1/', 'name': 'Estudiantes'}\n",
      "GET request to http://localhost:8000/home/ successful.\n",
      "{'count': 4, 'next': None, 'previous': None, 'results': [{'first_name': 'Raul', 'last_name': 'Lopez Cedillo', 'gender': 'Masculino', 'age': 32, 'edu_lvl': 'Licenciatura'}, {'first_name': 'Margarita', 'last_name': 'Delgado Rodriguez', 'gender': 'Femenino', 'age': 20, 'edu_lvl': 'Preparatoria'}, {'first_name': 'Jesus', 'last_name': 'Diaz Lara', 'gender': 'Masculino', 'age': 45, 'edu_lvl': 'Licenciatura'}, {'first_name': 'David', 'last_name': 'Martinez', 'gender': 'Masculino', 'age': 23, 'edu_lvl': 'Preparatoria'}]}\n",
      "GET request to http://localhost:8000/home/1/ successful.\n",
      "{'first_name': 'Raul', 'last_name': 'Lopez Cedillo', 'gender': 'Masculino', 'age': 32, 'edu_lvl': 'Licenciatura'}\n",
      "GET request to http://localhost:8000/users/ successful.\n",
      "{'count': 3, 'next': None, 'previous': None, 'results': [{'url': 'http://localhost:8000/users/3/', 'username': 'A01662660', 'email': 'a01662660@tec.mx', 'groups': ['http://localhost:8000/groups/1/']}, {'url': 'http://localhost:8000/users/2/', 'username': 'a01662659', 'email': 'a0166659@tec.mx', 'groups': []}, {'url': 'http://localhost:8000/users/1/', 'username': 'A01662659', 'email': 'A01662659@tec.mx', 'groups': []}]}\n",
      "GET request to http://localhost:8000/users/1/ successful.\n",
      "{'url': 'http://localhost:8000/users/1/', 'username': 'A01662659', 'email': 'A01662659@tec.mx', 'groups': []}\n"
     ]
    }
   ],
   "source": [
    "# Define the base URL for the API\n",
    "base_url = \"http://localhost:8000\"\n",
    "\n",
    "# Define the endpoint paths\n",
    "endpoints = [\n",
    "    \"/groups/\",\n",
    "    \"/groups/1/\",\n",
    "    \"/home/\",\n",
    "    \"/home/1/\",\n",
    "    \"/users/\",\n",
    "    \"/users/1/\",\n",
    "]\n",
    "\n",
    "# Loop through the endpoints and make GET requests\n",
    "for endpoint in endpoints:\n",
    "    url = f\"{base_url}{endpoint}\"\n",
    "    response = requests.get(url, auth=('A01662659', 'FranciscoLara18'))\n",
    "    \n",
    "    if response.status_code == 200:\n",
    "        data = response.json()\n",
    "        print(f\"GET request to {url} successful.\")\n",
    "        print(data)\n",
    "    else:\n",
    "        print(f\"GET request to {url} failed with status code: {response.status_code}.\")"
   ]
  },
  {
   "cell_type": "code",
   "execution_count": 20,
   "id": "e40bf362",
   "metadata": {},
   "outputs": [
    {
     "name": "stdout",
     "output_type": "stream",
     "text": [
      "<Response [200]>\n"
     ]
    }
   ],
   "source": [
    "api_url = \"http://localhost:8000/api/schema/\"\n",
    "response = requests.get(api_url)\n",
    "print(response)"
   ]
  },
  {
   "cell_type": "code",
   "execution_count": 22,
   "id": "17daa39f",
   "metadata": {},
   "outputs": [
    {
     "name": "stdout",
     "output_type": "stream",
     "text": [
      "<Response [200]>\n"
     ]
    }
   ],
   "source": [
    "api_url = \"http://127.0.0.1:8000/api/schema/swagger-ui/\"\n",
    "response = requests.get(api_url)\n",
    "print(response)"
   ]
  },
  {
   "cell_type": "code",
   "execution_count": 25,
   "id": "43d6641f",
   "metadata": {},
   "outputs": [
    {
     "name": "stdout",
     "output_type": "stream",
     "text": [
      "<Response [200]>\n"
     ]
    }
   ],
   "source": [
    "api_url = \"http://127.0.0.1:8000/api/schema/redoc\"\n",
    "response = requests.get(api_url)\n",
    "print(response)"
   ]
  },
  {
   "cell_type": "code",
   "execution_count": null,
   "id": "c6473bc9",
   "metadata": {},
   "outputs": [],
   "source": []
  }
 ],
 "metadata": {
  "kernelspec": {
   "display_name": "Python 3 (ipykernel)",
   "language": "python",
   "name": "python3"
  },
  "language_info": {
   "codemirror_mode": {
    "name": "ipython",
    "version": 3
   },
   "file_extension": ".py",
   "mimetype": "text/x-python",
   "name": "python",
   "nbconvert_exporter": "python",
   "pygments_lexer": "ipython3",
   "version": "3.10.12"
  }
 },
 "nbformat": 4,
 "nbformat_minor": 5
}
