{
 "cells": [
  {
   "cell_type": "code",
   "execution_count": 2,
   "id": "4fb4b276-240c-4fd7-b0a7-60b7831ffcd5",
   "metadata": {},
   "outputs": [
    {
     "name": "stdout",
     "output_type": "stream",
     "text": [
      "Requirement already satisfied: pip in /Users/crash/opt/anaconda3/envs/IntegracionDeSeguridad/lib/python3.9/site-packages (23.2.1)\n",
      "zsh:1: parse error near `}'\n"
     ]
    }
   ],
   "source": [
    "import sys\n",
    "!{sys.executable} -m pip install --upgrade pip\n",
    "!(sys.executable} -m pip install requests\n",
    "import requests"
   ]
  },
  {
   "cell_type": "code",
   "execution_count": 11,
   "id": "1726043e-f8ad-46ec-beff-6c170d04e93e",
   "metadata": {},
   "outputs": [
    {
     "data": {
      "text/plain": [
       "{'count': 0, 'next': None, 'previous': None, 'results': []}"
      ]
     },
     "execution_count": 11,
     "metadata": {},
     "output_type": "execute_result"
    }
   ],
   "source": [
    "api_url = \"http://localhost:8000/home\"\n",
    "response = requests.get(api_url, auth=('A01661893', 'AP269202536cc'))\n",
    "response.json()"
   ]
  },
  {
   "cell_type": "code",
   "execution_count": 27,
   "id": "fb617d7f-4ab9-4d21-864d-dc12add705f7",
   "metadata": {},
   "outputs": [
    {
     "name": "stdout",
     "output_type": "stream",
     "text": [
      "GET request to http://localhost:8000/groups/ successful.\n",
      "{'count': 1, 'next': None, 'previous': None, 'results': [{'url': 'http://localhost:8000/groups/1/', 'name': 'Estudiantes'}]}\n",
      "GET request to http://localhost:8000/groups/1/ successful.\n",
      "{'url': 'http://localhost:8000/groups/1/', 'name': 'Estudiantes'}\n",
      "GET request to http://localhost:8000/home/ successful.\n",
      "{'count': 1, 'next': None, 'previous': None, 'results': [{'id': 1, 'arquitecto': 'Luis Barragan'}]}\n",
      "GET request to http://localhost:8000/home/1/ successful.\n",
      "{'id': 1, 'arquitecto': 'Luis Barragan'}\n",
      "GET request to http://localhost:8000/users/ successful.\n",
      "{'count': 1, 'next': None, 'previous': None, 'results': [{'url': 'http://localhost:8000/users/1/', 'username': 'A01661893', 'email': 'a01661893@tec.mx', 'groups': []}]}\n",
      "GET request to http://localhost:8000/users/1/ successful.\n",
      "{'url': 'http://localhost:8000/users/1/', 'username': 'A01661893', 'email': 'a01661893@tec.mx', 'groups': []}\n"
     ]
    }
   ],
   "source": [
    "#Define the base URL for the API\n",
    "base_url = \"http://localhost:8000\"\n",
    "\n",
    "#define the endpooint\n",
    "endpoints = [\n",
    "    \"/groups/\",\n",
    "    \"/groups/1/\",\n",
    "    \"/home/\",\n",
    "    \"/home/1/\",\n",
    "    \"/users/\",\n",
    "    \"/users/1/\"\n",
    "]\n",
    "#Loop through the endpoints and make GET requests\n",
    "for endpoint in endpoints:\n",
    "    url = f\"{base_url}{endpoint}\"\n",
    "    response = requests.get(url, auth=('A01661893','AP269202536cc'))\n",
    "\n",
    "    if response.status_code == 200:\n",
    "        data = response.json()\n",
    "        print(f\"GET request to {url} successful.\")\n",
    "        print(data)\n",
    "    else:\n",
    "        print(f\"GET request to {url} failed wi\")\n",
    "        "
   ]
  },
  {
   "cell_type": "code",
   "execution_count": 15,
   "id": "addb6b24-515c-43f1-9311-8eb002f35532",
   "metadata": {},
   "outputs": [
    {
     "name": "stdout",
     "output_type": "stream",
     "text": [
      "<Response [200]>\n"
     ]
    }
   ],
   "source": [
    "api_url = \"http://localhost:8000/api/schema/\"\n",
    "response = requests.get(api_url)\n",
    "print(response)"
   ]
  },
  {
   "cell_type": "code",
   "execution_count": 23,
   "id": "7d9549f6-6c2b-4099-8f32-e8d6d72bc6b3",
   "metadata": {},
   "outputs": [
    {
     "name": "stdout",
     "output_type": "stream",
     "text": [
      "<Response [200]>\n"
     ]
    }
   ],
   "source": [
    "api_url = \"http://127.0.0.1:8000/api/schema/swagger-ui/\"\n",
    "response = requests.get(api_url)\n",
    "print(response)"
   ]
  },
  {
   "cell_type": "code",
   "execution_count": 24,
   "id": "a66a575b-6af0-4d7e-b874-82583905bfb8",
   "metadata": {},
   "outputs": [
    {
     "name": "stdout",
     "output_type": "stream",
     "text": [
      "<Response [200]>\n"
     ]
    }
   ],
   "source": [
    "api_url = \"http://127.0.0.1:8000/api/schema/redoc/\"\n",
    "response = requests.get(api_url)\n",
    "print(response)"
   ]
  },
  {
   "cell_type": "code",
   "execution_count": null,
   "id": "3a308d4b-5aa8-470e-a5f0-ffa274177059",
   "metadata": {},
   "outputs": [],
   "source": []
  }
 ],
 "metadata": {
  "kernelspec": {
   "display_name": "Python 3 (ipykernel)",
   "language": "python",
   "name": "python3"
  },
  "language_info": {
   "codemirror_mode": {
    "name": "ipython",
    "version": 3
   },
   "file_extension": ".py",
   "mimetype": "text/x-python",
   "name": "python",
   "nbconvert_exporter": "python",
   "pygments_lexer": "ipython3",
   "version": "3.9.17"
  }
 },
 "nbformat": 4,
 "nbformat_minor": 5
}
