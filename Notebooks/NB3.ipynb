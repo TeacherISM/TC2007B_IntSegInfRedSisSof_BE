{
 "cells": [
  {
   "cell_type": "markdown",
   "id": "4e6fe801",
   "metadata": {},
   "source": [
    "# Django custom model\n",
    "### Create Custom Model (A00XXXXXX/SEL4C/app1/models.py )\n",
    "```\n",
    "class HomeModel(models.Model):\n",
    "    title = models.CharField(max_length=100)\n",
    "    content = models.TextField()\n",
    "    created_at = models.DateTimeField(auto_now_add=True)\n",
    "\n",
    "    def __str__(self):\n",
    "        return self.title\n",
    "    class Meta:\n",
    "        app_label = 'app1'\n",
    "\n",
    "```\n",
    "### Create Custom Serializer (A00XXXXXX/SEL4C/app1/serializers.py )\n",
    "```\n",
    "from .models import HomeModel\n",
    "\n",
    "class HomeSerializer(serializers.HyperlinkedModelSerializer):\n",
    "    class Meta:\n",
    "        model = HomeModel\n",
    "        fields = ['title', 'content', 'created_at']\n",
    "```\n",
    "### Create Custom View (A00XXXXXX/SEL4C/app1/views.py )\n",
    "```\n",
    "from .models import HomeModel  # Import your model\n",
    "from .serializers import HomeSerializer # Import your serializer\n",
    "\n",
    "class HomeViewSet(viewsets.ModelViewSet):\n",
    "    \"\"\"\n",
    "    API endpoint that allows MyModel to be viewed or edited.\n",
    "    \"\"\"\n",
    "    queryset = HomeModel.objects.all()  # Set the queryset for the view\n",
    "    serializer_class = HomeSerializer  # Set the serializer class\n",
    "    permission_classes = [permissions.IsAuthenticated]  # Set the permission classes\n",
    "```\n",
    "### Update app name  (A00XXXXXX/SEL4C/app1/apps.py )\n",
    "```\n",
    "...\n",
    "    name = 'SEL4C.app1'\n",
    "```\n",
    "### Register ViewSet in the router (A00XXXXXX/SEL4C/urls.py )\n",
    "```\n",
    "...\n",
    "router.register(r'home', views.HomeViewSet)\n",
    "```\n",
    "### Modify Settings (A00XXXXXX/SEL4C/settings.py)\n",
    "```\n",
    "...\n",
    "INSTALLED_APPS = [\n",
    "    ...\n",
    "    'SEL4C.app1',  # Add the correct app name here\n",
    "]    \n",
    "```\n",
    "### Make migrations\n",
    "```\n",
    "python manage.py makemigrations\n",
    "python manage.py migrate\n",
    "```\n",
    "### Run the server\n",
    "```\n",
    "python manage.py runserver\n",
    "```\n"
   ]
  },
  {
   "cell_type": "code",
   "execution_count": 18,
   "id": "60df7770",
   "metadata": {},
   "outputs": [
    {
     "name": "stdout",
     "output_type": "stream",
     "text": [
      "Defaulting to user installation because normal site-packages is not writeable\n",
      "Requirement already satisfied: pip in /Users/ivan/Library/Python/3.9/lib/python/site-packages (23.2.1)\n",
      "Defaulting to user installation because normal site-packages is not writeable\n",
      "Requirement already satisfied: requests in /Users/ivan/Library/Python/3.9/lib/python/site-packages (2.31.0)\n",
      "Requirement already satisfied: charset-normalizer<4,>=2 in /Users/ivan/Library/Python/3.9/lib/python/site-packages (from requests) (3.2.0)\n",
      "Requirement already satisfied: idna<4,>=2.5 in /Users/ivan/Library/Python/3.9/lib/python/site-packages (from requests) (3.4)\n",
      "Requirement already satisfied: urllib3<3,>=1.21.1 in /Users/ivan/Library/Python/3.9/lib/python/site-packages (from requests) (2.0.4)\n",
      "Requirement already satisfied: certifi>=2017.4.17 in /Users/ivan/Library/Python/3.9/lib/python/site-packages (from requests) (2023.7.22)\n"
     ]
    }
   ],
   "source": [
    "import sys\n",
    "!{sys.executable} -m pip install --upgrade pip\n",
    "!{sys.executable} -m pip install requests\n",
    "import requests"
   ]
  },
  {
   "cell_type": "code",
   "execution_count": 28,
   "id": "698c13f6",
   "metadata": {},
   "outputs": [
    {
     "data": {
      "text/plain": [
       "{'count': 0, 'next': None, 'previous': None, 'results': []}"
      ]
     },
     "execution_count": 28,
     "metadata": {},
     "output_type": "execute_result"
    }
   ],
   "source": [
    "api_url = \"http://localhost:8000/home\"\n",
    "response = requests.get(api_url, auth=('A00XXXXXX', 'password'))\n",
    "response.json()"
   ]
  },
  {
   "cell_type": "code",
   "execution_count": 27,
   "id": "8154c84a",
   "metadata": {},
   "outputs": [
    {
     "name": "stdout",
     "output_type": "stream",
     "text": [
      "GET request to http://localhost:8000/groups/ successful.\n",
      "{'count': 0, 'next': None, 'previous': None, 'results': []}\n",
      "GET request to http://localhost:8000/groups/1/ failed with status code: 404\n",
      "GET request to http://localhost:8000/home/ successful.\n",
      "{'count': 0, 'next': None, 'previous': None, 'results': []}\n",
      "GET request to http://localhost:8000/home/1/ failed with status code: 404\n",
      "GET request to http://localhost:8000/users/ successful.\n",
      "{'count': 1, 'next': None, 'previous': None, 'results': [{'url': 'http://localhost:8000/users/1/', 'username': 'A00XXXXXX', 'email': 'A00XXXXXX@example.com', 'groups': []}]}\n",
      "GET request to http://localhost:8000/users/1/ successful.\n",
      "{'url': 'http://localhost:8000/users/1/', 'username': 'A00XXXXXX', 'email': 'A00XXXXXX@example.com', 'groups': []}\n"
     ]
    }
   ],
   "source": [
    "# Define the base URL for the API\n",
    "base_url = \"http://localhost:8000\"\n",
    "\n",
    "# Define the endpoint paths\n",
    "endpoints = [\n",
    "    \"/groups/\",\n",
    "    \"/groups/1/\",\n",
    "    \"/home/\",\n",
    "    \"/home/1/\",\n",
    "    \"/users/\",\n",
    "    \"/users/1/\"\n",
    "]\n",
    "\n",
    "# Loop through the endpoints and make GET requests\n",
    "for endpoint in endpoints:\n",
    "    url = f\"{base_url}{endpoint}\"\n",
    "    response = requests.get(url, auth=('A00XXXXXX', 'password'))\n",
    "\n",
    "    if response.status_code == 200:\n",
    "        data = response.json()\n",
    "        print(f\"GET request to {url} successful.\")\n",
    "        print(data)\n",
    "    else:\n",
    "        print(f\"GET request to {url} failed with status code: {response.status_code}\")"
   ]
  },
  {
   "cell_type": "markdown",
   "id": "b43f5a20",
   "metadata": {},
   "source": [
    "# [Open API Specification](https://spec.openapis.org/oas/v3.1.0)\n",
    "\n",
    "The OpenAPI Specification (OAS) defines a standard, language-agnostic interface to HTTP APIs which allows both humans and computers to discover and understand the capabilities of the service without access to source code, documentation, or through network traffic inspection. When properly defined, a consumer can understand and interact with the remote service with a minimal amount of implementation logic.\n",
    "\n",
    "An OpenAPI definition can then be used by documentation generation tools to display the API, code generation tools to generate servers and clients in various programming languages, testing tools, and many other use cases.\n",
    "\n",
    "\n",
    "### Install library for OpenAPI & Django\n",
    "\n",
    "* Djando OpenAPi Library [drf-spectacular](https://drf-spectacular.readthedocs.io/en/latest/)\n",
    "\n",
    "```\n",
    "pip install drf-spectacular\n",
    "```\n",
    "### Modify Settings (A00XXXXXX/SEL4C/settings.py)\n",
    "```\n",
    "INSTALLED_APPS = [\n",
    "    ...\n",
    "    'drf_spectacular',\n",
    "]\n",
    "REST_FRAMEWORK = {\n",
    "    ...\n",
    "    'DEFAULT_SCHEMA_CLASS': 'drf_spectacular.openapi.AutoSchema',\n",
    "}\n",
    "```\n",
    "### Generate OpenAPI3 schema(A00XXXXXX/manage.py)\n",
    "```\n",
    "python manage.py spectacular --file schema.yml\n",
    "```\n",
    "### Update & add (A00XXXXXX/SEL4C/urls.py)\n",
    "```\n",
    "from drf_spectacular.views import SpectacularAPIView\n",
    "\n",
    "urlpatterns = [\n",
    "    ...\n",
    "    path('api/schema/', SpectacularAPIView.as_view(), name='schema'),\n",
    "]\n",
    "```\n",
    "### Run the server\n",
    "```\n",
    "python manage.py runserver\n",
    "```\n",
    "### Test UI in the browser\n",
    "* [Redoc UI](http://localhost:8000/api/schema/redoc/)\n",
    "* [Swagger-ui UI](http://localhost:8000/api/schema/swagger-ui/)"
   ]
  },
  {
   "cell_type": "code",
   "execution_count": 29,
   "id": "9e5e09c2",
   "metadata": {},
   "outputs": [
    {
     "name": "stdout",
     "output_type": "stream",
     "text": [
      "<Response [200]>\n"
     ]
    }
   ],
   "source": [
    "api_url = \"http://localhost:8000/api/schema/\"\n",
    "response = requests.get(api_url)\n",
    "print(response)"
   ]
  },
  {
   "cell_type": "code",
   "execution_count": 22,
   "id": "ebc7edbe",
   "metadata": {},
   "outputs": [
    {
     "name": "stdout",
     "output_type": "stream",
     "text": [
      "<Response [200]>\n"
     ]
    }
   ],
   "source": [
    "api_url = \"http://127.0.0.1:8000/api/schema/swagger-ui/\"\n",
    "response = requests.get(api_url)\n",
    "print(response)"
   ]
  },
  {
   "cell_type": "code",
   "execution_count": 23,
   "id": "6cb2df5e",
   "metadata": {},
   "outputs": [
    {
     "name": "stdout",
     "output_type": "stream",
     "text": [
      "<Response [200]>\n"
     ]
    }
   ],
   "source": [
    "api_url = \"http://127.0.0.1:8000/api/schema/redoc/\"\n",
    "response = requests.get(api_url)\n",
    "print(response)"
   ]
  },
  {
   "cell_type": "markdown",
   "id": "844b42ba",
   "metadata": {},
   "source": [
    "## Sourced from\n",
    "* [Django and OpenAPI: Front end the better way.](https://www.saaspegasus.com/guides/modern-javascript-for-django-developers/apis/)"
   ]
  }
 ],
 "metadata": {
  "kernelspec": {
   "display_name": "Python 3 (ipykernel)",
   "language": "python",
   "name": "python3"
  },
  "language_info": {
   "codemirror_mode": {
    "name": "ipython",
    "version": 3
   },
   "file_extension": ".py",
   "mimetype": "text/x-python",
   "name": "python",
   "nbconvert_exporter": "python",
   "pygments_lexer": "ipython3",
   "version": "3.9.6"
  }
 },
 "nbformat": 4,
 "nbformat_minor": 5
}
