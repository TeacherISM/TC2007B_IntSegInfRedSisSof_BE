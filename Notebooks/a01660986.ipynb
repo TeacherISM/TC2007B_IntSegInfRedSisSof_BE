{
 "cells": [
  {
   "attachments": {},
   "cell_type": "markdown",
   "metadata": {},
   "source": [
    "# Federico Castro Zenteno\n",
    "* A01660986\n",
    "\n",
    "Hola hola holaaaaaaaaa"
   ]
  },
  {
   "cell_type": "code",
   "execution_count": 4,
   "metadata": {},
   "outputs": [
    {
     "name": "stdout",
     "output_type": "stream",
     "text": [
      "Requirement already satisfied: pip in /Library/Frameworks/Python.framework/Versions/3.9/lib/python3.9/site-packages (23.2.1)\n",
      "Requirement already satisfied: numpy in /Library/Frameworks/Python.framework/Versions/3.9/lib/python3.9/site-packages (1.25.2)\n",
      "Requirement already satisfied: requests in /Library/Frameworks/Python.framework/Versions/3.9/lib/python3.9/site-packages (2.28.1)\n",
      "Requirement already satisfied: charset-normalizer<3,>=2 in /Library/Frameworks/Python.framework/Versions/3.9/lib/python3.9/site-packages (from requests) (2.1.1)\n",
      "Requirement already satisfied: idna<4,>=2.5 in /Library/Frameworks/Python.framework/Versions/3.9/lib/python3.9/site-packages (from requests) (3.4)\n",
      "Requirement already satisfied: urllib3<1.27,>=1.21.1 in /Library/Frameworks/Python.framework/Versions/3.9/lib/python3.9/site-packages (from requests) (1.26.12)\n",
      "Requirement already satisfied: certifi>=2017.4.17 in /Library/Frameworks/Python.framework/Versions/3.9/lib/python3.9/site-packages (from requests) (2022.12.7)\n"
     ]
    }
   ],
   "source": [
    "import sys\n",
    "!{sys.executable} -m pip install --upgrade pip\n",
    "!{sys.executable} -m pip install numpy\n",
    "!{sys.executable} -m pip install requests \n",
    "import requests"
   ]
  },
  {
   "cell_type": "code",
   "execution_count": 7,
   "metadata": {},
   "outputs": [
    {
     "data": {
      "text/plain": [
       "{'count': 0, 'next': None, 'previous': None, 'results': []}"
      ]
     },
     "execution_count": 7,
     "metadata": {},
     "output_type": "execute_result"
    }
   ],
   "source": [
    "api_url = 'http://127.0.0.1:8000/reminders/'\n",
    "response = requests.get(api_url,auth=('a01660986','password'))\n",
    "response.json()"
   ]
  },
  {
   "cell_type": "code",
   "execution_count": 10,
   "metadata": {},
   "outputs": [
    {
     "name": "stdout",
     "output_type": "stream",
     "text": [
      "Testeando http://127.0.0.1:8000/users/\n",
      "Status code: 200\n",
      "Response: {'count': 2, 'next': None, 'previous': None, 'results': [{'url': 'http://127.0.0.1:8000/users/2/', 'username': 'Usuario', 'email': '', 'groups': ['http://127.0.0.1:8000/groups/1/']}, {'url': 'http://127.0.0.1:8000/users/1/', 'username': 'a01660986', 'email': 'a01660986@tec.mx', 'groups': []}]}\n",
      "––––––––––\n",
      "Testeando http://127.0.0.1:8000/users/1/\n",
      "Status code: 200\n",
      "Response: {'url': 'http://127.0.0.1:8000/users/1/', 'username': 'a01660986', 'email': 'a01660986@tec.mx', 'groups': []}\n",
      "––––––––––\n",
      "Testeando http://127.0.0.1:8000/groups/\n",
      "Status code: 200\n",
      "Response: {'count': 1, 'next': None, 'previous': None, 'results': [{'url': 'http://127.0.0.1:8000/groups/1/', 'name': 'PrimerGrupo!'}]}\n",
      "––––––––––\n",
      "Testeando http://127.0.0.1:8000/groups/1/\n",
      "Status code: 200\n",
      "Response: {'url': 'http://127.0.0.1:8000/groups/1/', 'name': 'PrimerGrupo!'}\n",
      "––––––––––\n",
      "Testeando http://127.0.0.1:8000/reminders/\n",
      "Status code: 200\n",
      "Response: {'count': 1, 'next': None, 'previous': None, 'results': [{'title': 'Recordatorio_Test_1', 'description': 'Esta es la descripcion de mi recordatorio', 'date': '2023-08-28', 'time': '00:00:00', 'created_at': '2023-08-28T23:56:38.557107Z', 'updated_at': '2023-08-28T23:56:38.557144Z'}]}\n",
      "––––––––––\n",
      "Testeando http://127.0.0.1:8000/reminders/1/\n",
      "Status code: 200\n",
      "Response: {'title': 'Recordatorio_Test_1', 'description': 'Esta es la descripcion de mi recordatorio', 'date': '2023-08-28', 'time': '00:00:00', 'created_at': '2023-08-28T23:56:38.557107Z', 'updated_at': '2023-08-28T23:56:38.557144Z'}\n",
      "––––––––––\n"
     ]
    }
   ],
   "source": [
    "base_url = 'http://127.0.0.1:8000'\n",
    "\n",
    "endpoints = ['/users/',\n",
    "             '/users/1/',\n",
    "             '/groups/',\n",
    "             '/groups/1/',\n",
    "             '/reminders/',\n",
    "             '/reminders/1/']\n",
    "\n",
    "for endpoint in endpoints:\n",
    "     url= base_url + endpoint\n",
    "     response = requests.get(url,auth=('a01660986','password'))\n",
    "     print(f\"Testeando {url}\")\n",
    "     print(f\"Status code: {response.status_code}\")\n",
    "     print(f\"Response: {response.json()}\")\n",
    "     print(\"–\"*10)"
   ]
  }
 ],
 "metadata": {
  "kernelspec": {
   "display_name": "Python 3",
   "language": "python",
   "name": "python3"
  },
  "language_info": {
   "codemirror_mode": {
    "name": "ipython",
    "version": 3
   },
   "file_extension": ".py",
   "mimetype": "text/x-python",
   "name": "python",
   "nbconvert_exporter": "python",
   "pygments_lexer": "ipython3",
   "version": "3.9.6"
  },
  "orig_nbformat": 4
 },
 "nbformat": 4,
 "nbformat_minor": 2
}
