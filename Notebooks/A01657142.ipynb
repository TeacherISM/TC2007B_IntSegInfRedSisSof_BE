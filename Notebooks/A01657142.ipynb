{
 "cells": [
  {
   "cell_type": "markdown",
   "id": "8e09529c-01dc-4b7b-914a-773697c27848",
   "metadata": {},
   "source": [
    "## José Aram Méndez Gómez A01657142 😮‍💨"
   ]
  },
  {
   "cell_type": "code",
   "execution_count": 1,
   "id": "7ab6dd93-1aab-4ea9-81dc-7ea02c87e4bd",
   "metadata": {},
   "outputs": [
    {
     "name": "stdout",
     "output_type": "stream",
     "text": [
      "Hello World!\n"
     ]
    }
   ],
   "source": [
    "print(\"Hello World!\")"
   ]
  },
  {
   "cell_type": "code",
   "execution_count": 2,
   "id": "15e4c91f-d82b-41be-b6be-98cd2ef832c4",
   "metadata": {},
   "outputs": [
    {
     "name": "stdout",
     "output_type": "stream",
     "text": [
      "I've successfully created a branch!\n"
     ]
    }
   ],
   "source": [
    "print(\"I've successfully created a branch!\")"
   ]
  },
  {
   "cell_type": "code",
   "execution_count": 4,
   "id": "9ed121a3-2e39-46b5-8cc1-bdf18de561f9",
   "metadata": {},
   "outputs": [
    {
     "name": "stdout",
     "output_type": "stream",
     "text": [
      "Requirement already satisfied: pip in /Users/aram/opt/anaconda3/lib/python3.9/site-packages (23.2.1)\n",
      "Requirement already satisfied: numpy in /Users/aram/opt/anaconda3/lib/python3.9/site-packages (1.21.5)\n",
      "Requirement already satisfied: requests in /Users/aram/opt/anaconda3/lib/python3.9/site-packages (2.28.1)\n",
      "Requirement already satisfied: charset-normalizer<3,>=2 in /Users/aram/opt/anaconda3/lib/python3.9/site-packages (from requests) (2.0.4)\n",
      "Requirement already satisfied: idna<4,>=2.5 in /Users/aram/opt/anaconda3/lib/python3.9/site-packages (from requests) (3.4)\n",
      "Requirement already satisfied: urllib3<1.27,>=1.21.1 in /Users/aram/opt/anaconda3/lib/python3.9/site-packages (from requests) (1.26.14)\n",
      "Requirement already satisfied: certifi>=2017.4.17 in /Users/aram/opt/anaconda3/lib/python3.9/site-packages (from requests) (2022.12.7)\n"
     ]
    }
   ],
   "source": [
    "import sys\n",
    "!{sys.executable} -m pip install --upgrade pip\n",
    "!{sys.executable} -m pip install numpy\n",
    "!{sys.executable} -m pip install requests\n",
    "import requests"
   ]
  },
  {
   "cell_type": "code",
   "execution_count": 7,
   "id": "faca2cc4-5138-42cc-972c-e5c1678c4c3e",
   "metadata": {},
   "outputs": [
    {
     "data": {
      "text/plain": [
       "{'count': 2,\n",
       " 'next': None,\n",
       " 'previous': None,\n",
       " 'results': [{'url': 'http://127.0.0.1:8000/users/2/',\n",
       "   'username': 'Pedro',\n",
       "   'email': 'pedro@gmail.com',\n",
       "   'groups': []},\n",
       "  {'url': 'http://127.0.0.1:8000/users/1/',\n",
       "   'username': 'Aram',\n",
       "   'email': 'A01657142@tec.mx',\n",
       "   'groups': []}]}"
      ]
     },
     "execution_count": 7,
     "metadata": {},
     "output_type": "execute_result"
    }
   ],
   "source": [
    "api_url = \"http://127.0.0.1:8000/users/\"\n",
    "response = requests.get(api_url, auth=('Aram', 'admin123'))\n",
    "response.json()"
   ]
  },
  {
   "cell_type": "code",
   "execution_count": 8,
   "id": "d76d2ed8-f741-464c-9396-0f9c1a032a3c",
   "metadata": {},
   "outputs": [
    {
     "data": {
      "text/plain": [
       "{'count': 1,\n",
       " 'next': None,\n",
       " 'previous': None,\n",
       " 'results': [{'url': 'http://127.0.0.1:8000/groups/1/',\n",
       "   'name': 'Integración de seguridad informática en redes y sistemas de software (Gpo 451)'}]}"
      ]
     },
     "execution_count": 8,
     "metadata": {},
     "output_type": "execute_result"
    }
   ],
   "source": [
    "api_url = \"http://127.0.0.1:8000/groups/\"\n",
    "response = requests.get(api_url, auth=('Aram', 'admin123'))\n",
    "response.json()"
   ]
  },
  {
   "cell_type": "code",
   "execution_count": null,
   "id": "d1166a4f-75c2-405e-92a9-a83c73f83f3f",
   "metadata": {},
   "outputs": [],
   "source": []
  }
 ],
 "metadata": {
  "kernelspec": {
   "display_name": "Python 3 (ipykernel)",
   "language": "python",
   "name": "python3"
  },
  "language_info": {
   "codemirror_mode": {
    "name": "ipython",
    "version": 3
   },
   "file_extension": ".py",
   "mimetype": "text/x-python",
   "name": "python",
   "nbconvert_exporter": "python",
   "pygments_lexer": "ipython3",
   "version": "3.9.12"
  }
 },
 "nbformat": 4,
 "nbformat_minor": 5
}
