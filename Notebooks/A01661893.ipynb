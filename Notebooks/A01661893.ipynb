{
 "cells": [
  {
   "cell_type": "markdown",
   "id": "ed93152f-2b86-464d-a4c0-3590e872a6d2",
   "metadata": {},
   "source": [
    "## César Andrés Ceballos Castillo"
   ]
  },
  {
   "cell_type": "code",
   "execution_count": 1,
   "id": "f3eb94cd-436c-4bf9-986f-61bc4823fc5e",
   "metadata": {},
   "outputs": [
    {
     "name": "stdout",
     "output_type": "stream",
     "text": [
      "Hola\n"
     ]
    }
   ],
   "source": [
    "print(\"Hola\")"
   ]
  },
  {
   "cell_type": "code",
   "execution_count": null,
   "id": "4bda39b3-2bbf-4e39-b131-f325c5a7d6d3",
   "metadata": {},
   "outputs": [],
   "source": []
  }
 ],
 "metadata": {
  "kernelspec": {
   "display_name": "Python 3 (ipykernel)",
   "language": "python",
   "name": "python3"
  },
  "language_info": {
   "codemirror_mode": {
    "name": "ipython",
    "version": 3
   },
   "file_extension": ".py",
   "mimetype": "text/x-python",
   "name": "python",
   "nbconvert_exporter": "python",
   "pygments_lexer": "ipython3",
   "version": "3.9.17"
  }
 },
 "nbformat": 4,
 "nbformat_minor": 5
}
