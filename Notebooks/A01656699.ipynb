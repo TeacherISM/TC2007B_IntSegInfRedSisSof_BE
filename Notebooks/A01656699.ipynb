{
 "cells": [
  {
   "cell_type": "markdown",
   "id": "d9e8052c",
   "metadata": {},
   "source": [
    "# Jesús Alexander Meister Careaga"
   ]
  },
  {
   "cell_type": "markdown",
   "id": "173062a7",
   "metadata": {},
   "source": [
    "### A01656699"
   ]
  },
  {
   "cell_type": "code",
   "execution_count": 1,
   "id": "9f81adb6",
   "metadata": {},
   "outputs": [
    {
     "name": "stdout",
     "output_type": "stream",
     "text": [
      "Hola mundo\n"
     ]
    }
   ],
   "source": [
    "print(\"Hola mundo\")"
   ]
  },
  {
   "cell_type": "code",
   "execution_count": null,
   "id": "8ec6c97b",
   "metadata": {},
   "outputs": [],
   "source": []
  }
 ],
 "metadata": {
  "kernelspec": {
   "display_name": "Python 3 (ipykernel)",
   "language": "python",
   "name": "python3"
  },
  "language_info": {
   "codemirror_mode": {
    "name": "ipython",
    "version": 3
   },
   "file_extension": ".py",
   "mimetype": "text/x-python",
   "name": "python",
   "nbconvert_exporter": "python",
   "pygments_lexer": "ipython3",
   "version": "3.9.13"
  }
 },
 "nbformat": 4,
 "nbformat_minor": 5
}
