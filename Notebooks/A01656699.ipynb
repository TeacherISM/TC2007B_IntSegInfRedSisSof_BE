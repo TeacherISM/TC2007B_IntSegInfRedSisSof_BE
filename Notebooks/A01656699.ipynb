{
 "cells": [
  {
   "cell_type": "markdown",
   "id": "0301ae71",
   "metadata": {},
   "source": [
    "## Prueba Models\n",
    "### A01656699 "
   ]
  },
  {
   "cell_type": "code",
   "execution_count": 7,
   "id": "a0ef7b12",
   "metadata": {},
   "outputs": [
    {
     "name": "stdout",
     "output_type": "stream",
     "text": [
      "Defaulting to user installation because normal site-packages is not writeable\n",
      "Requirement already satisfied: pip in /Users/meister/Library/Python/3.9/lib/python/site-packages (23.2.1)\n",
      "Defaulting to user installation because normal site-packages is not writeable\n",
      "Requirement already satisfied: requests in /Users/meister/Library/Python/3.9/lib/python/site-packages (2.31.0)\n",
      "Requirement already satisfied: charset-normalizer<4,>=2 in /Users/meister/Library/Python/3.9/lib/python/site-packages (from requests) (3.2.0)\n",
      "Requirement already satisfied: idna<4,>=2.5 in /Users/meister/Library/Python/3.9/lib/python/site-packages (from requests) (3.4)\n",
      "Requirement already satisfied: urllib3<3,>=1.21.1 in /Users/meister/Library/Python/3.9/lib/python/site-packages (from requests) (2.0.4)\n",
      "Requirement already satisfied: certifi>=2017.4.17 in /Users/meister/Library/Python/3.9/lib/python/site-packages (from requests) (2023.7.22)\n"
     ]
    }
   ],
   "source": [
    "import sys\n",
    "!{sys.executable} -m pip install --upgrade pip\n",
    "!{sys.executable} -m pip install requests\n",
    "import requests"
   ]
  },
  {
   "cell_type": "code",
   "execution_count": 8,
   "id": "242ba3e7",
   "metadata": {},
   "outputs": [
    {
     "data": {
      "text/plain": [
       "{'count': 0, 'next': None, 'previous': None, 'results': []}"
      ]
     },
     "execution_count": 8,
     "metadata": {},
     "output_type": "execute_result"
    }
   ],
   "source": [
    "api_url = \"http://localhost:8000/usuario\"\n",
    "response = requests.get(api_url, auth=('A01656699', 'password'))\n",
    "response.json()\n"
   ]
  },
  {
   "cell_type": "code",
   "execution_count": 9,
   "id": "446717d7",
   "metadata": {},
   "outputs": [
    {
     "name": "stdout",
     "output_type": "stream",
     "text": [
      "GET request to http://localhost:8000/groups/ failed with status code: 403\n",
      "GET request to http://localhost:8000/groups/1/ failed with status code: 403\n",
      "GET request to http://localhost:8000/usuario/ failed with status code: 403\n",
      "GET request to http://localhost:8000/usuario/1/ failed with status code: 403\n",
      "GET request to http://localhost:8000/users/ failed with status code: 403\n",
      "GET request to http://localhost:8000/users/1/ failed with status code: 403\n"
     ]
    }
   ],
   "source": [
    "# Define the base URL for the API\n",
    "base_url = \"http://localhost:8000\"\n",
    "\n",
    "# Define the endpoint paths\n",
    "endpoints = [\n",
    "    \"/groups/\",\n",
    "    \"/groups/1/\",\n",
    "    \"/usuario/\",\n",
    "    \"/usuario/1/\",\n",
    "    \"/users/\",\n",
    "    \"/users/1/\"\n",
    "]\n",
    "\n",
    "# Loop through the endpoints and make GET requests\n",
    "for endpoint in endpoints:\n",
    "    url = f\"{base_url}{endpoint}\"\n",
    "    response = requests.get(url, auth=('A00XXXXXX', 'password'))\n",
    "\n",
    "    if response.status_code == 200:\n",
    "        data = response.json()\n",
    "        print(f\"GET request to {url} successful.\")\n",
    "        print(data)\n",
    "    else:\n",
    "        print(f\"GET request to {url} failed with status code: {response.status_code}\")"
   ]
  },
  {
   "cell_type": "markdown",
   "id": "a387f6da",
   "metadata": {},
   "source": [
    "## Prueba API"
   ]
  },
  {
   "cell_type": "code",
   "execution_count": null,
   "id": "78f66149",
   "metadata": {},
   "outputs": [],
   "source": [
    "api_url = \"http://localhost:8000/api/schema/\"\n",
    "response = requests.get(api_url)\n",
    "print(response)"
   ]
  }
 ],
 "metadata": {
  "kernelspec": {
   "display_name": "Python 3 (ipykernel)",
   "language": "python",
   "name": "python3"
  },
  "language_info": {
   "codemirror_mode": {
    "name": "ipython",
    "version": 3
   },
   "file_extension": ".py",
   "mimetype": "text/x-python",
   "name": "python",
   "nbconvert_exporter": "python",
   "pygments_lexer": "ipython3",
   "version": "3.9.6"
  }
 },
 "nbformat": 4,
 "nbformat_minor": 5
}
