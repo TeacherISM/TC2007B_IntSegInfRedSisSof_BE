{
 "cells": [
  {
   "cell_type": "markdown",
   "id": "77a77490",
   "metadata": {},
   "source": [
    "# Samantha Aguilar"
   ]
  },
  {
   "cell_type": "code",
   "execution_count": 1,
   "id": "f60f665d",
   "metadata": {},
   "outputs": [
    {
     "name": "stdout",
     "output_type": "stream",
     "text": [
      "Hola mundo\n"
     ]
    }
   ],
   "source": [
    "print(\"Hola mundo\")"
   ]
  },
  {
   "cell_type": "code",
   "execution_count": 1,
   "id": "e0cc10d1",
   "metadata": {},
   "outputs": [
    {
     "name": "stdout",
     "output_type": "stream",
     "text": [
      "Requirement already satisfied: pip in ./opt/anaconda3/envs/virt_swift/lib/python3.10/site-packages (23.2.1)\n",
      "Collecting numpy\n",
      "  Obtaining dependency information for numpy from https://files.pythonhosted.org/packages/d5/50/8aedb5ff1460e7c8527af15c6326115009e7c270ec705487155b779ebabb/numpy-1.25.2-cp310-cp310-macosx_10_9_x86_64.whl.metadata\n",
      "  Downloading numpy-1.25.2-cp310-cp310-macosx_10_9_x86_64.whl.metadata (5.6 kB)\n",
      "Downloading numpy-1.25.2-cp310-cp310-macosx_10_9_x86_64.whl (20.8 MB)\n",
      "\u001b[2K   \u001b[90m━━━━━━━━━━━━━━━━━━━━━━━━━━━━━━━━━━━━━━━━\u001b[0m \u001b[32m20.8/20.8 MB\u001b[0m \u001b[31m21.1 MB/s\u001b[0m eta \u001b[36m0:00:00\u001b[0m00:01\u001b[0m00:01\u001b[0m\n",
      "\u001b[?25hInstalling collected packages: numpy\n",
      "Successfully installed numpy-1.25.2\n",
      "Collecting requests\n",
      "  Obtaining dependency information for requests from https://files.pythonhosted.org/packages/70/8e/0e2d847013cb52cd35b38c009bb167a1a26b2ce6cd6965bf26b47bc0bf44/requests-2.31.0-py3-none-any.whl.metadata\n",
      "  Downloading requests-2.31.0-py3-none-any.whl.metadata (4.6 kB)\n",
      "Collecting charset-normalizer<4,>=2 (from requests)\n",
      "  Obtaining dependency information for charset-normalizer<4,>=2 from https://files.pythonhosted.org/packages/81/a0/96317ce912b512b7998434eae5e24b28bcc5f1680ad85348e31e1ca56332/charset_normalizer-3.2.0-cp310-cp310-macosx_10_9_x86_64.whl.metadata\n",
      "  Downloading charset_normalizer-3.2.0-cp310-cp310-macosx_10_9_x86_64.whl.metadata (31 kB)\n",
      "Requirement already satisfied: idna<4,>=2.5 in ./opt/anaconda3/envs/virt_swift/lib/python3.10/site-packages (from requests) (3.4)\n",
      "Collecting urllib3<3,>=1.21.1 (from requests)\n",
      "  Obtaining dependency information for urllib3<3,>=1.21.1 from https://files.pythonhosted.org/packages/9b/81/62fd61001fa4b9d0df6e31d47ff49cfa9de4af03adecf339c7bc30656b37/urllib3-2.0.4-py3-none-any.whl.metadata\n",
      "  Downloading urllib3-2.0.4-py3-none-any.whl.metadata (6.6 kB)\n",
      "Collecting certifi>=2017.4.17 (from requests)\n",
      "  Obtaining dependency information for certifi>=2017.4.17 from https://files.pythonhosted.org/packages/4c/dd/2234eab22353ffc7d94e8d13177aaa050113286e93e7b40eae01fbf7c3d9/certifi-2023.7.22-py3-none-any.whl.metadata\n",
      "  Downloading certifi-2023.7.22-py3-none-any.whl.metadata (2.2 kB)\n",
      "Downloading requests-2.31.0-py3-none-any.whl (62 kB)\n",
      "\u001b[2K   \u001b[90m━━━━━━━━━━━━━━━━━━━━━━━━━━━━━━━━━━━━━━━━\u001b[0m \u001b[32m62.6/62.6 kB\u001b[0m \u001b[31m2.5 MB/s\u001b[0m eta \u001b[36m0:00:00\u001b[0m\n",
      "\u001b[?25hDownloading certifi-2023.7.22-py3-none-any.whl (158 kB)\n",
      "\u001b[2K   \u001b[90m━━━━━━━━━━━━━━━━━━━━━━━━━━━━━━━━━━━━━━━━\u001b[0m \u001b[32m158.3/158.3 kB\u001b[0m \u001b[31m2.8 MB/s\u001b[0m eta \u001b[36m0:00:00\u001b[0mta \u001b[36m0:00:01\u001b[0m\n",
      "\u001b[?25hDownloading charset_normalizer-3.2.0-cp310-cp310-macosx_10_9_x86_64.whl (126 kB)\n",
      "\u001b[2K   \u001b[90m━━━━━━━━━━━━━━━━━━━━━━━━━━━━━━━━━━━━━━━━\u001b[0m \u001b[32m126.4/126.4 kB\u001b[0m \u001b[31m10.6 MB/s\u001b[0m eta \u001b[36m0:00:00\u001b[0m\n",
      "\u001b[?25hDownloading urllib3-2.0.4-py3-none-any.whl (123 kB)\n",
      "\u001b[2K   \u001b[90m━━━━━━━━━━━━━━━━━━━━━━━━━━━━━━━━━━━━━━━━\u001b[0m \u001b[32m123.9/123.9 kB\u001b[0m \u001b[31m12.7 MB/s\u001b[0m eta \u001b[36m0:00:00\u001b[0m\n",
      "\u001b[?25hInstalling collected packages: urllib3, charset-normalizer, certifi, requests\n",
      "Successfully installed certifi-2023.7.22 charset-normalizer-3.2.0 requests-2.31.0 urllib3-2.0.4\n"
     ]
    }
   ],
   "source": [
    "import sys\n",
    "!{sys.executable} -m pip install --upgrade pip\n",
    "!{sys.executable} -m pip install numpy\n",
    "!{sys.executable} -m pip install requests\n",
    "import requests"
   ]
  },
  {
   "cell_type": "code",
   "execution_count": 3,
   "id": "f8ab6228",
   "metadata": {
    "scrolled": false
   },
   "outputs": [
    {
     "data": {
      "text/plain": [
       "{'count': 1,\n",
       " 'next': None,\n",
       " 'previous': None,\n",
       " 'results': [{'url': 'http://127.0.0.1:8000/users/1/',\n",
       "   'username': 'A01656200',\n",
       "   'email': 'a01656200@tec.mx',\n",
       "   'groups': []}]}"
      ]
     },
     "execution_count": 3,
     "metadata": {},
     "output_type": "execute_result"
    }
   ],
   "source": [
    "api_url =  \"http://127.0.0.1:8000/users/\"\n",
    "response = requests.get(api_url, auth=('A01656200', 'password'))\n",
    "response.json()"
   ]
  },
  {
   "cell_type": "code",
   "execution_count": 1,
   "id": "9d897cc2",
   "metadata": {},
   "outputs": [
    {
     "name": "stdout",
     "output_type": "stream",
     "text": [
      "Requirement already satisfied: pip in ./opt/anaconda3/envs/virt_swift/lib/python3.10/site-packages (23.2.1)\n",
      "Requirement already satisfied: requests in ./opt/anaconda3/envs/virt_swift/lib/python3.10/site-packages (2.31.0)\n",
      "Requirement already satisfied: charset-normalizer<4,>=2 in ./opt/anaconda3/envs/virt_swift/lib/python3.10/site-packages (from requests) (3.2.0)\n",
      "Requirement already satisfied: idna<4,>=2.5 in ./opt/anaconda3/envs/virt_swift/lib/python3.10/site-packages (from requests) (3.4)\n",
      "Requirement already satisfied: urllib3<3,>=1.21.1 in ./opt/anaconda3/envs/virt_swift/lib/python3.10/site-packages (from requests) (2.0.4)\n",
      "Requirement already satisfied: certifi>=2017.4.17 in ./opt/anaconda3/envs/virt_swift/lib/python3.10/site-packages (from requests) (2023.7.22)\n"
     ]
    }
   ],
   "source": [
    "import sys\n",
    "!{sys.executable} -m pip install --upgrade pip\n",
    "!{sys.executable} -m pip install requests\n",
    "import requests"
   ]
  },
  {
   "cell_type": "code",
   "execution_count": 2,
   "id": "bab47e71",
   "metadata": {},
   "outputs": [
    {
     "data": {
      "text/plain": [
       "{'count': 0, 'next': None, 'previous': None, 'results': []}"
      ]
     },
     "execution_count": 2,
     "metadata": {},
     "output_type": "execute_result"
    }
   ],
   "source": [
    "api_url =  \"http://127.0.0.1:8000/tokens/\"\n",
    "response = requests.get(api_url, auth=('A01656200', 'password'))\n",
    "response.json()"
   ]
  },
  {
   "cell_type": "code",
   "execution_count": 15,
   "id": "c36dd9e0",
   "metadata": {},
   "outputs": [
    {
     "name": "stdout",
     "output_type": "stream",
     "text": [
      "GET request to http://localhost:8000/groups/ successful.\n",
      "{'count': 1, 'next': None, 'previous': None, 'results': [{'url': 'http://localhost:8000/groups/1/', 'name': '104_DataScience'}]}\n",
      "GET request to http://localhost:8000/groups/1/ successful.\n",
      "{'url': 'http://localhost:8000/groups/1/', 'name': '104_DataScience'}\n",
      "GET request to http://localhost:8000/home/ successful.\n",
      "{'count': 1, 'next': None, 'previous': None, 'results': [{'Tokens': '10', 'activity': 'Emprendimiento', 'graded_at': '2023-08-29T01:21:02.408900Z'}]}\n",
      "GET request to http://localhost:8000/home/1/ successful.\n",
      "{'Tokens': '10', 'activity': 'Emprendimiento', 'graded_at': '2023-08-29T01:21:02.408900Z'}\n",
      "GET request to http://localhost:8000/users/ successful.\n",
      "{'count': 1, 'next': None, 'previous': None, 'results': [{'url': 'http://localhost:8000/users/1/', 'username': 'A01656200', 'email': 'a01656200@tec.mx', 'groups': []}]}\n",
      "GET request to http://localhost:8000/users/1/ successful.\n",
      "{'url': 'http://localhost:8000/users/1/', 'username': 'A01656200', 'email': 'a01656200@tec.mx', 'groups': []}\n"
     ]
    }
   ],
   "source": [
    "# Define the base URL for the API\n",
    "base_url = \"http://localhost:8000\"\n",
    "\n",
    "# Define the endpoint paths\n",
    "endpoints = [\n",
    "    \"/groups/\",\n",
    "    \"/groups/1/\",\n",
    "    \"/home/\",\n",
    "    \"/home/1/\",\n",
    "    \"/users/\",\n",
    "    \"/users/1/\",\n",
    "]\n",
    "\n",
    "# Loop through the endpoints and make GET requests\n",
    "for endpoint in endpoints:\n",
    "    url = f\"{base_url}{endpoint}\"\n",
    "    response = requests.get(url, auth=('A01656200', 'password'))\n",
    "    \n",
    "    if response.status_code == 200:\n",
    "        data = response.json()\n",
    "        print(f\"GET request to {url} successful.\")\n",
    "        print(data)\n",
    "    else:\n",
    "        print(f\"GET request to {url} failed with status code: {response.status_code}.\")"
   ]
  },
  {
   "cell_type": "code",
   "execution_count": 24,
   "id": "8d10ec6e",
   "metadata": {},
   "outputs": [
    {
     "name": "stdout",
     "output_type": "stream",
     "text": [
      "<Response [200]>\n"
     ]
    }
   ],
   "source": [
    "api_url = \"http://localhost:8000/api/schema/\"\n",
    "response = requests.get(api_url)\n",
    "print(response)"
   ]
  },
  {
   "cell_type": "code",
   "execution_count": 27,
   "id": "854ce8ac",
   "metadata": {},
   "outputs": [
    {
     "name": "stdout",
     "output_type": "stream",
     "text": [
      "<Response [200]>\n"
     ]
    }
   ],
   "source": [
    "api_url = \"http://localhost:8000/api/schema/swagger-ui/\"\n",
    "response = requests.get(api_url)\n",
    "print(response)"
   ]
  },
  {
   "cell_type": "code",
   "execution_count": 28,
   "id": "b5a17eca",
   "metadata": {},
   "outputs": [
    {
     "name": "stdout",
     "output_type": "stream",
     "text": [
      "<Response [200]>\n"
     ]
    }
   ],
   "source": [
    "api_url = \"http://localhost:8000/api/schema/redoc\"\n",
    "response = requests.get(api_url)\n",
    "print(response)"
   ]
  },
  {
   "cell_type": "code",
   "execution_count": null,
   "id": "fff40afd",
   "metadata": {},
   "outputs": [],
   "source": []
  }
 ],
 "metadata": {
  "kernelspec": {
   "display_name": "Python 3 (ipykernel)",
   "language": "python",
   "name": "python3"
  },
  "language_info": {
   "codemirror_mode": {
    "name": "ipython",
    "version": 3
   },
   "file_extension": ".py",
   "mimetype": "text/x-python",
   "name": "python",
   "nbconvert_exporter": "python",
   "pygments_lexer": "ipython3",
   "version": "3.10.12"
  }
 },
 "nbformat": 4,
 "nbformat_minor": 5
}
