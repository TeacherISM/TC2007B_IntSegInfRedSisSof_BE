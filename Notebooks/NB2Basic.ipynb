{
 "cells": [
  {
   "cell_type": "markdown",
   "id": "9374157b",
   "metadata": {},
   "source": [
    "## * Install Visual Studio Code\n",
    "## * Install Python Extension\n",
    "## * Create python virtual environment\n",
    "```\n",
    "python3 -m venv virtualEnv\n",
    "```\n",
    "## * Execute virtual environment\n",
    "```\n",
    "source virtualEnv/bin/activate\n",
    "```\n",
    "## * Update pip\n",
    "```\n",
    "python3 -m pip install --upgrade pip\n",
    "```\n",
    "## * Install django framework\n",
    "```\n",
    "pip install django\n",
    "pip install djangorestframework\n",
    "\n",
    "```\n",
    "## * Installation, start a Django project\n",
    "```\n",
    "django-admin startproject FirstDjangoApp .\n",
    "```\n",
    "## * Start the App\n",
    "```\n",
    "python manage.py startapp mainApp\n",
    "```\n",
    "## * Make migrations\n",
    "```\n",
    "python manage.py makemigrations\n",
    "python manage.py migrate\n",
    "```\n",
    "## * Run server\n",
    "```\n",
    "python manange.py runserver\n",
    "```\n",
    "## * Install requirements\n",
    "```\n",
    "pip install -r requirements.txt\n",
    "```"
   ]
  },
  {
   "cell_type": "code",
   "execution_count": null,
   "id": "3d4bdb35",
   "metadata": {},
   "outputs": [],
   "source": []
  }
 ],
 "metadata": {
  "kernelspec": {
   "display_name": "Python 3 (ipykernel)",
   "language": "python",
   "name": "python3"
  },
  "language_info": {
   "codemirror_mode": {
    "name": "ipython",
    "version": 3
   },
   "file_extension": ".py",
   "mimetype": "text/x-python",
   "name": "python",
   "nbconvert_exporter": "python",
   "pygments_lexer": "ipython3",
   "version": "3.9.6"
  }
 },
 "nbformat": 4,
 "nbformat_minor": 5
}
