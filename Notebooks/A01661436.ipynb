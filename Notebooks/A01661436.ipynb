{
 "cells": [
  {
   "cell_type": "markdown",
   "id": "a6d4a674",
   "metadata": {},
   "source": [
    "# Jorge Diego Martell Fernández"
   ]
  },
  {
   "cell_type": "code",
   "execution_count": 2,
   "id": "0780e992",
   "metadata": {},
   "outputs": [
    {
     "name": "stdout",
     "output_type": "stream",
     "text": [
      "¡Hola, mundo y arriba las Chivas!\n"
     ]
    }
   ],
   "source": [
    "print(\"¡Hola, mundo y arriba las Chivas!\")"
   ]
  },
  {
   "cell_type": "markdown",
   "id": "447b1cbd",
   "metadata": {},
   "source": [
    "# Test with Notebook - Clase 2"
   ]
  },
  {
   "cell_type": "code",
   "execution_count": 1,
   "id": "c70b9fa5",
   "metadata": {},
   "outputs": [
    {
     "data": {
      "text/plain": [
       "{'count': 1,\n",
       " 'next': None,\n",
       " 'previous': None,\n",
       " 'results': [{'url': 'http://127.0.0.1:8000/users/1/',\n",
       "   'username': 'A01661436',\n",
       "   'email': 'A01661436@tec.mx',\n",
       "   'groups': []}]}"
      ]
     },
     "execution_count": 1,
     "metadata": {},
     "output_type": "execute_result"
    }
   ],
   "source": [
    "import sys\n",
    "import requests\n",
    "api_url = \"http://127.0.0.1:8000/users/\"\n",
    "response = requests.get(api_url, auth=('A01661436','21a021622JD'))\n",
    "response.json()"
   ]
  },
  {
   "cell_type": "markdown",
   "id": "70c8d3b8",
   "metadata": {},
   "source": [
    "# Test with Notebook - Clase 3 (Parte 1)"
   ]
  },
  {
   "cell_type": "code",
   "execution_count": 3,
   "id": "8eeb8bfa",
   "metadata": {},
   "outputs": [
    {
     "data": {
      "text/plain": [
       "{'count': 0, 'next': None, 'previous': None, 'results': []}"
      ]
     },
     "execution_count": 3,
     "metadata": {},
     "output_type": "execute_result"
    }
   ],
   "source": [
    "import sys\n",
    "import requests\n",
    "api_url = \"http://localhost:8000/receta\"\n",
    "response = requests.get(api_url, auth=('A01661436', '21a021622JD'))\n",
    "response.json()"
   ]
  },
  {
   "cell_type": "code",
   "execution_count": 4,
   "id": "ab186044",
   "metadata": {},
   "outputs": [
    {
     "name": "stdout",
     "output_type": "stream",
     "text": [
      "GET request to http://localhost:8000/groups/ successful.\n",
      "{'count': 0, 'next': None, 'previous': None, 'results': []}\n",
      "GET request to http://localhost:8000/groups/1/ failed with status code: 404\n",
      "GET request to http://localhost:8000/receta/ successful.\n",
      "{'count': 0, 'next': None, 'previous': None, 'results': []}\n",
      "GET request to http://localhost:8000/receta/1/ failed with status code: 404\n",
      "GET request to http://localhost:8000/users/ successful.\n",
      "{'count': 1, 'next': None, 'previous': None, 'results': [{'url': 'http://localhost:8000/users/1/', 'username': 'A01661436', 'email': 'A01661436@tec.mx', 'groups': []}]}\n",
      "GET request to http://localhost:8000/users/1/ successful.\n",
      "{'url': 'http://localhost:8000/users/1/', 'username': 'A01661436', 'email': 'A01661436@tec.mx', 'groups': []}\n"
     ]
    }
   ],
   "source": [
    "# Define the base URL for the API\n",
    "base_url = \"http://localhost:8000\"\n",
    "\n",
    "# Define the endpoint paths\n",
    "endpoints = [\n",
    "    \"/groups/\",\n",
    "    \"/groups/1/\",\n",
    "    \"/receta/\",\n",
    "    \"/receta/1/\",\n",
    "    \"/users/\",\n",
    "    \"/users/1/\"\n",
    "]\n",
    "\n",
    "# Loop through the endpoints and make GET requests\n",
    "for endpoint in endpoints:\n",
    "    url = f\"{base_url}{endpoint}\"\n",
    "    response = requests.get(url, auth=('A01661436', '21a021622JD'))\n",
    "\n",
    "    if response.status_code == 200:\n",
    "        data = response.json()\n",
    "        print(f\"GET request to {url} successful.\")\n",
    "        print(data)\n",
    "    else:\n",
    "        print(f\"GET request to {url} failed with status code: {response.status_code}\")"
   ]
  },
  {
   "cell_type": "markdown",
   "id": "b3044cc5",
   "metadata": {},
   "source": [
    "# Test with Notebook - Clase 3 (Open API Specification)"
   ]
  },
  {
   "cell_type": "code",
   "execution_count": 6,
   "id": "36ab1a79",
   "metadata": {},
   "outputs": [
    {
     "name": "stdout",
     "output_type": "stream",
     "text": [
      "<Response [200]>\n"
     ]
    }
   ],
   "source": [
    "api_url = \"http://localhost:8000/api/schema/\"\n",
    "response = requests.get(api_url)\n",
    "print(response)"
   ]
  },
  {
   "cell_type": "code",
   "execution_count": 7,
   "id": "6baaf6c7",
   "metadata": {},
   "outputs": [
    {
     "name": "stdout",
     "output_type": "stream",
     "text": [
      "<Response [200]>\n"
     ]
    }
   ],
   "source": [
    "api_url = \"http://127.0.0.1:8000/api/schema/swagger-ui/\"\n",
    "response = requests.get(api_url)\n",
    "print(response)"
   ]
  },
  {
   "cell_type": "code",
   "execution_count": 8,
   "id": "b686ecb2",
   "metadata": {},
   "outputs": [
    {
     "name": "stdout",
     "output_type": "stream",
     "text": [
      "<Response [200]>\n"
     ]
    }
   ],
   "source": [
    "api_url = \"http://127.0.0.1:8000/api/schema/redoc/\"\n",
    "response = requests.get(api_url)\n",
    "print(response)"
   ]
  },
  {
   "cell_type": "code",
   "execution_count": null,
   "id": "75868251",
   "metadata": {},
   "outputs": [],
   "source": []
  }
 ],
 "metadata": {
  "kernelspec": {
   "display_name": "Python 3 (ipykernel)",
   "language": "python",
   "name": "python3"
  },
  "language_info": {
   "codemirror_mode": {
    "name": "ipython",
    "version": 3
   },
   "file_extension": ".py",
   "mimetype": "text/x-python",
   "name": "python",
   "nbconvert_exporter": "python",
   "pygments_lexer": "ipython3",
   "version": "3.9.13"
  }
 },
 "nbformat": 4,
 "nbformat_minor": 5
}
