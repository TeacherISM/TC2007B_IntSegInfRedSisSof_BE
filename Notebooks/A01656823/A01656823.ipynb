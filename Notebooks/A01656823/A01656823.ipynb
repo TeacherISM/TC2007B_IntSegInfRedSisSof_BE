{
 "cells": [
  {
   "cell_type": "markdown",
   "id": "95fafe4a",
   "metadata": {},
   "source": [
    "# Antonio Rafael Cedillo Rodríguez "
   ]
  },
  {
   "cell_type": "markdown",
   "id": "a0b2a721",
   "metadata": {},
   "source": [
    "## A01656823"
   ]
  },
  {
   "cell_type": "code",
   "execution_count": 2,
   "id": "a5c2148c",
   "metadata": {},
   "outputs": [
    {
     "name": "stdout",
     "output_type": "stream",
     "text": [
      "Metodos de prueba:\n",
      "Hola mundo\n",
      "30\n"
     ]
    }
   ],
   "source": [
    "def metodoPrueba():\n",
    "    print(\"Hola mundo\")\n",
    "    x = 10\n",
    "    y = 20\n",
    "    print(\"La suma de x e y es:\"+)\n",
    "\n",
    "def main():\n",
    "    print(\"Metodos de prueba:\")\n",
    "    metodoPrueba()\n",
    "\n",
    "main()"
   ]
  },
  {
   "cell_type": "code",
   "execution_count": null,
   "id": "4591af9c",
   "metadata": {},
   "outputs": [],
   "source": []
  }
 ],
 "metadata": {
  "kernelspec": {
   "display_name": "Python 3 (ipykernel)",
   "language": "python",
   "name": "python3"
  },
  "language_info": {
   "codemirror_mode": {
    "name": "ipython",
    "version": 3
   },
   "file_extension": ".py",
   "mimetype": "text/x-python",
   "name": "python",
   "nbconvert_exporter": "python",
   "pygments_lexer": "ipython3",
   "version": "3.9.13"
  }
 },
 "nbformat": 4,
 "nbformat_minor": 5
}
