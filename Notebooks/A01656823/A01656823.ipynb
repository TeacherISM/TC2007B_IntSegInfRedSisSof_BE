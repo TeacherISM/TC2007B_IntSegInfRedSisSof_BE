{
 "cells": [
  {
   "cell_type": "markdown",
   "id": "95fafe4a",
   "metadata": {},
   "source": [
    "# Antonio Rafael Cedillo Rodríguez "
   ]
  },
  {
   "cell_type": "markdown",
   "id": "a0b2a721",
   "metadata": {},
   "source": [
    "## A01656823"
   ]
  },
  {
   "cell_type": "code",
   "execution_count": 2,
   "id": "a5c2148c",
   "metadata": {},
   "outputs": [
    {
     "name": "stdout",
     "output_type": "stream",
     "text": [
      "Metodos de prueba:\n",
      "Hola mundo\n",
      "30\n"
     ]
    }
   ],
   "source": [
    "def metodoPrueba():\n",
    "    print(\"Hola mundo\")\n",
    "    x = 10\n",
    "    y = 20\n",
    "    print(\"La suma de x e y es:\"+)\n",
    "\n",
    "def main():\n",
    "    print(\"Metodos de prueba:\")\n",
    "    metodoPrueba()\n",
    "\n",
    "main()"
   ]
  },
  {
   "cell_type": "markdown",
   "id": "a95bc83a",
   "metadata": {},
   "source": [
    "# ACTIVIDAD 2: Generación de servicio BE (Django), con autenticación básica y pruebas manuales."
   ]
  },
  {
   "cell_type": "markdown",
   "id": "b541da5c",
   "metadata": {},
   "source": [
    "## Conceptos Usados"
   ]
  },
  {
   "cell_type": "markdown",
   "id": "a3453ce3",
   "metadata": {},
   "source": [
    "- Django Rest Framework: \"Django REST framework is a powerful and flexible toolkit for building Web APIs.\" Es util para una mayor usabilidad, politicas de autentificación y serialización. Extraido de: [Django Rest Framework](https://www.django-rest-framework.org)\n",
    "\n",
    "- Django: \"Django is a high-level Python web framework that encourages rapid development and clean, pragmatic design. Built by experienced developers, it takes care of much of the hassle of web development, so you can focus on writing your app without needing to reinvent the wheel. It’s free and open source.\" Extraido de: [Django](https://www.djangoproject.com)"
   ]
  },
  {
   "cell_type": "markdown",
   "id": "0ff809eb",
   "metadata": {},
   "source": [
    "## Instrucciones de Setup del proyecto y deployment (en consola y Visual Studio)\n",
    "\n",
    "Extraido de clase y [Django RF Quickstart]()\n",
    "\n",
    "1. Crear un entorno virtual, instalar django y django rest framework\n",
    "2. Sync tu base de datos y crea un super usuario.\n",
    "3. Crea o modifica los archivos .py de serializadores, vistas, urls y settings\n",
    "4. Usa \"python manage.py runserver\" para correr tu servidor y en otra terminal accede a los usuarios con \" curl -H 'Accept: application/json; indent=4' -u admin:password123 http://127.0.0.1:8000/users/\" o con la misma pagina web.\n",
    "5.Listo!"
   ]
  },
  {
   "cell_type": "markdown",
   "id": "bbd7575b",
   "metadata": {},
   "source": [
    "## Pruebas y verificaciones con Python en JP notebook"
   ]
  },
  {
   "cell_type": "markdown",
   "id": "bb996b50",
   "metadata": {},
   "source": [
    "### Instalación de elementos necesarios"
   ]
  },
  {
   "cell_type": "code",
   "execution_count": 2,
   "id": "ffa7978d",
   "metadata": {},
   "outputs": [
    {
     "name": "stdout",
     "output_type": "stream",
     "text": [
      "Requirement already satisfied: pip in c:\\users\\tonix\\anaconda3\\lib\\site-packages (23.2.1)\n",
      "Requirement already satisfied: numpy in c:\\users\\tonix\\anaconda3\\lib\\site-packages (1.21.5)\n",
      "Requirement already satisfied: requests in c:\\users\\tonix\\anaconda3\\lib\\site-packages (2.28.1)\n",
      "Requirement already satisfied: charset-normalizer<3,>=2 in c:\\users\\tonix\\anaconda3\\lib\\site-packages (from requests) (2.0.4)\n",
      "Requirement already satisfied: idna<4,>=2.5 in c:\\users\\tonix\\anaconda3\\lib\\site-packages (from requests) (3.3)\n",
      "Requirement already satisfied: urllib3<1.27,>=1.21.1 in c:\\users\\tonix\\anaconda3\\lib\\site-packages (from requests) (1.26.11)\n",
      "Requirement already satisfied: certifi>=2017.4.17 in c:\\users\\tonix\\anaconda3\\lib\\site-packages (from requests) (2022.9.14)\n"
     ]
    }
   ],
   "source": [
    "import sys\n",
    "!{sys.executable} -m pip install --upgrade pip\n",
    "!{sys.executable} -m pip install numpy\n",
    "!{sys.executable} -m pip install requests\n"
   ]
  },
  {
   "cell_type": "markdown",
   "id": "ec16a3e3",
   "metadata": {},
   "source": [
    "### Haciendo el request en Python/Jupyter"
   ]
  },
  {
   "cell_type": "markdown",
   "id": "65c32b0b",
   "metadata": {},
   "source": [
    "Verificación Correcta"
   ]
  },
  {
   "cell_type": "code",
   "execution_count": 8,
   "id": "8132047a",
   "metadata": {
    "scrolled": false
   },
   "outputs": [
    {
     "data": {
      "text/plain": [
       "{'count': 2,\n",
       " 'next': None,\n",
       " 'previous': None,\n",
       " 'results': [{'url': 'http://127.0.0.1:8000/users/2/',\n",
       "   'username': 'AntonioCedillo',\n",
       "   'email': 'A01656823@tec.mx',\n",
       "   'groups': []},\n",
       "  {'url': 'http://127.0.0.1:8000/users/1/',\n",
       "   'username': 'A01656823',\n",
       "   'email': 'A01656823@example.com',\n",
       "   'groups': []}]}"
      ]
     },
     "execution_count": 8,
     "metadata": {},
     "output_type": "execute_result"
    }
   ],
   "source": [
    "import requests\n",
    "api_url = \"http://127.0.0.1:8000/users/\"\n",
    "response = requests.get(api_url, auth= ('AntonioCedillo',\"Tonito0313\"))\n",
    "response.json()"
   ]
  },
  {
   "cell_type": "markdown",
   "id": "f3526baf",
   "metadata": {},
   "source": [
    "Verificación incorrecta"
   ]
  },
  {
   "cell_type": "code",
   "execution_count": 7,
   "id": "1c16f9d9",
   "metadata": {},
   "outputs": [
    {
     "data": {
      "text/plain": [
       "{'detail': 'Invalid username/password.'}"
      ]
     },
     "execution_count": 7,
     "metadata": {},
     "output_type": "execute_result"
    }
   ],
   "source": [
    "import requests\n",
    "api_url = \"http://127.0.0.1:8000/users/\"\n",
    "response = requests.get(api_url, auth= ('',\"\"))\n",
    "response.json()"
   ]
  },
  {
   "cell_type": "code",
   "execution_count": null,
   "id": "85546993",
   "metadata": {},
   "outputs": [],
   "source": []
  }
 ],
 "metadata": {
  "kernelspec": {
   "display_name": "Python 3 (ipykernel)",
   "language": "python",
   "name": "python3"
  },
  "language_info": {
   "codemirror_mode": {
    "name": "ipython",
    "version": 3
   },
   "file_extension": ".py",
   "mimetype": "text/x-python",
   "name": "python",
   "nbconvert_exporter": "python",
   "pygments_lexer": "ipython3",
   "version": "3.9.13"
  }
 },
 "nbformat": 4,
 "nbformat_minor": 5
}
