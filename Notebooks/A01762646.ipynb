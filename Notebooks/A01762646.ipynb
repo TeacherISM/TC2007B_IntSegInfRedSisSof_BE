{
 "cells": [
  {
   "attachments": {},
   "cell_type": "markdown",
   "id": "a1f562c7-e724-4dad-b275-2c8e4adc3b30",
   "metadata": {},
   "source": [
    "# A01762646\n",
    "Fabian Mast"
   ]
  },
  {
   "cell_type": "code",
   "execution_count": 1,
   "id": "549d7c77-2fba-4350-8b6d-80d9ba0eed5a",
   "metadata": {},
   "outputs": [
    {
     "name": "stdout",
     "output_type": "stream",
     "text": [
      "Hello World\n",
      "test\n"
     ]
    }
   ],
   "source": [
    "print(\"Hello World\")\n",
    "print(\"test\")"
   ]
  },
  {
   "cell_type": "code",
   "execution_count": 2,
   "id": "66cc9307-57bb-4509-8a3b-930da5215fcf",
   "metadata": {},
   "outputs": [],
   "source": [
    "import sys\n",
    "import requests"
   ]
  },
  {
   "cell_type": "code",
   "execution_count": 6,
   "id": "71857641-dc4d-42b0-8cf0-aae1c81a54c1",
   "metadata": {},
   "outputs": [
    {
     "data": {
      "text/plain": [
       "{'count': 1,\n",
       " 'next': None,\n",
       " 'previous': None,\n",
       " 'results': [{'url': 'http://127.0.0.1:8000/users/1/',\n",
       "   'username': 'A01762646',\n",
       "   'email': 'A01762646@tec.mx',\n",
       "   'groups': []}]}"
      ]
     },
     "execution_count": 6,
     "metadata": {},
     "output_type": "execute_result"
    }
   ],
   "source": [
    "api_url = \"http://127.0.0.1:8000/users/\"\n",
    "response = requests.get(api_url, auth = ('A01762646', 'fabifabi'))\n",
    "response.json()"
   ]
  },
  {
   "cell_type": "code",
   "execution_count": 14,
   "id": "31d43813-2d6f-4496-888b-1d07b2a895de",
   "metadata": {},
   "outputs": [
    {
     "data": {
      "text/plain": [
       "{'count': 0, 'next': None, 'previous': None, 'results': []}"
      ]
     },
     "execution_count": 14,
     "metadata": {},
     "output_type": "execute_result"
    }
   ],
   "source": [
    "api_url = \"http://127.0.0.1:8000/books/\"\n",
    "response = requests.get(api_url, auth = ('A01762646', 'fabifabi'))\n",
    "response.json()"
   ]
  },
  {
   "cell_type": "code",
   "execution_count": 15,
   "id": "e5777006-d3f4-4f15-a509-a8ff1b6f13a4",
   "metadata": {},
   "outputs": [
    {
     "data": {
      "text/plain": [
       "{'count': 0, 'next': None, 'previous': None, 'results': []}"
      ]
     },
     "execution_count": 15,
     "metadata": {},
     "output_type": "execute_result"
    }
   ],
   "source": [
    "api_url = \"http://127.0.0.1:8000/authors/\"\n",
    "response = requests.get(api_url, auth = ('A01762646', 'fabifabi'))\n",
    "response.json()"
   ]
  },
  {
   "cell_type": "code",
   "execution_count": 16,
   "id": "37750788-5879-4848-a35e-1511e24530d7",
   "metadata": {},
   "outputs": [
    {
     "name": "stdout",
     "output_type": "stream",
     "text": [
      "<Response [200]>\n"
     ]
    }
   ],
   "source": [
    "api_url = \"http://127.0.0.1:8000/api/schema/\"\n",
    "response = requests.get(api_url, auth = ('A01762646', 'fabifabi'))\n",
    "print(response)"
   ]
  },
  {
   "cell_type": "markdown",
   "id": "40da4c11-e240-47d9-8995-b278b05ba060",
   "metadata": {},
   "source": [
    "# Automatic Testing for all sites"
   ]
  },
  {
   "cell_type": "code",
   "execution_count": 24,
   "id": "18770099-c214-4a1e-847a-c2802c2bde30",
   "metadata": {},
   "outputs": [
    {
     "name": "stdout",
     "output_type": "stream",
     "text": [
      "GET request to http://127.0.0.1:8000/groups/ was successful.\n",
      "{'count': 0, 'next': None, 'previous': None, 'results': []}\n",
      "GET request to http://127.0.0.1:8000/groups/1/ failed with status code: 404\n",
      "GET request to http://127.0.0.1:8000/users/ was successful.\n",
      "{'count': 1, 'next': None, 'previous': None, 'results': [{'url': 'http://127.0.0.1:8000/users/1/', 'username': 'A01762646', 'email': 'A01762646@tec.mx', 'groups': []}]}\n",
      "GET request to http://127.0.0.1:8000/users/1/ was successful.\n",
      "{'url': 'http://127.0.0.1:8000/users/1/', 'username': 'A01762646', 'email': 'A01762646@tec.mx', 'groups': []}\n",
      "GET request to http://127.0.0.1:8000/authors/ was successful.\n",
      "{'count': 0, 'next': None, 'previous': None, 'results': []}\n",
      "GET request to http://127.0.0.1:8000/authors/1/ failed with status code: 404\n",
      "GET request to http://127.0.0.1:8000/books/ was successful.\n",
      "{'count': 0, 'next': None, 'previous': None, 'results': []}\n",
      "GET request to http://127.0.0.1:8000/books/1/ failed with status code: 404\n"
     ]
    }
   ],
   "source": [
    "endpoints = [\n",
    "    \"/groups/\",\n",
    "    \"/groups/1/\",\n",
    "    \"/users/\",\n",
    "    \"/users/1/\",\n",
    "    \"/authors/\",\n",
    "    \"/authors/1/\",\n",
    "    \"/books/\",\n",
    "    \"/books/1/\",\n",
    "\n",
    "]\n",
    "\n",
    "for endpoint in endpoints:\n",
    "    url = f\"http://127.0.0.1:8000{endpoint}\"\n",
    "    response = requests.get(url, auth=(\"A01762646\", \"fabifabi\"))\n",
    "\n",
    "    if response.status_code == 200:\n",
    "        data = response.json()\n",
    "        print(f\"GET request to {url} was successful.\")\n",
    "        print(data)\n",
    "    else:\n",
    "        print(f\"GET request to {url} failed with status code: {response.status_code}\")"
   ]
  },
  {
   "cell_type": "markdown",
   "id": "e63111b9-4ac0-433a-ae19-adaedb9ee7f1",
   "metadata": {},
   "source": [
    "# OPEN-API for browser"
   ]
  },
  {
   "cell_type": "code",
   "execution_count": 25,
   "id": "ccac2108-6774-45d4-9786-8c1825f497b4",
   "metadata": {},
   "outputs": [
    {
     "name": "stdout",
     "output_type": "stream",
     "text": [
      "<Response [200]>\n",
      "<Response [200]>\n"
     ]
    }
   ],
   "source": [
    "    \"/api/schema/swagger-ui/\",\n",
    "    \"/api/schema/redoc/\",\n",
    "swagger = \"http://127.0.0.1:8000/api/schema/swagger-ui\"\n",
    "redoc = \"http://127.0.0.1:8000/api/schema/redoc/\"\n",
    "response = requests.get(swagger, auth = ('A01762646', 'fabifabi'))\n",
    "print(response)\n",
    "response = requests.get(redoc, auth = ('A01762646', 'fabifabi'))\n",
    "print(response)"
   ]
  }
 ],
 "metadata": {
  "kernelspec": {
   "display_name": "Python 3 (ipykernel)",
   "language": "python",
   "name": "python3"
  },
  "language_info": {
   "codemirror_mode": {
    "name": "ipython",
    "version": 3
   },
   "file_extension": ".py",
   "mimetype": "text/x-python",
   "name": "python",
   "nbconvert_exporter": "python",
   "pygments_lexer": "ipython3",
   "version": "3.10.12"
  }
 },
 "nbformat": 4,
 "nbformat_minor": 5
}
