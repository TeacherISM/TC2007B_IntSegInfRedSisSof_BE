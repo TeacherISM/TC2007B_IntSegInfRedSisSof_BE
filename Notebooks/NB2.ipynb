{
 "cells": [
  {
   "cell_type": "markdown",
   "id": "f54e3030",
   "metadata": {},
   "source": [
    "### Create a virtual environment to isolate our package dependencies locally\n",
    "```\n",
    "python3 -m venv virtualEnv\n",
    "source virtualEnv/bin/activate  # On Windows use `virtualEnv\\Scripts\\activate`\n",
    "```\n",
    "### Create the project directory\n",
    "```\n",
    "mkdir A00XXXXXX\n",
    "cd A00XXXXXX/\n",
    "```\n",
    "### Install Django and Django REST framework into the virtual environment\n",
    "```\n",
    "pip install django\n",
    "pip install djangorestframework\n",
    "```\n",
    "### Set up a new project with a single application\n",
    "```\n",
    "django-admin startproject SEL4C .\n",
    "cd SEL4C\n",
    "django-admin startapp app1\n",
    "cd ..\n",
    "```\n",
    "### Sync your database for the first time\n",
    "```\n",
    "python manage.py migrate\n",
    "```\n",
    "### Create an initial user named \"A00XXXXXX\" with a password of \"password\"\n",
    "```\n",
    "python manage.py createsuperuser --email A00XXXXXX@example.com --username A00XXXXXX\n",
    "```\n",
    "### Create Serializers (A00XXXXXX/SEL4C/app1/serializers.py )\n",
    "```\n",
    "from django.contrib.auth.models import User, Group\n",
    "from rest_framework import serializers\n",
    "\n",
    "\n",
    "class UserSerializer(serializers.HyperlinkedModelSerializer):\n",
    "    class Meta:\n",
    "        model = User\n",
    "        fields = ['url', 'username', 'email', 'groups']\n",
    "\n",
    "\n",
    "class GroupSerializer(serializers.HyperlinkedModelSerializer):\n",
    "    class Meta:\n",
    "        model = Group\n",
    "        fields = ['url', 'name']\n",
    "```\n",
    "### Create views (A00XXXXXX/SEL4C/app1/views.py )\n",
    "```\n",
    "from django.contrib.auth.models import User, Group\n",
    "from rest_framework import viewsets\n",
    "from rest_framework import permissions\n",
    "from SEL4C.app1.serializers import UserSerializer, GroupSerializer\n",
    "\n",
    "\n",
    "class UserViewSet(viewsets.ModelViewSet):\n",
    "    \"\"\"\n",
    "    API endpoint that allows users to be viewed or edited.\n",
    "    \"\"\"\n",
    "    queryset = User.objects.all().order_by('-date_joined')\n",
    "    serializer_class = UserSerializer\n",
    "    permission_classes = [permissions.IsAuthenticated]\n",
    "\n",
    "\n",
    "class GroupViewSet(viewsets.ModelViewSet):\n",
    "    \"\"\"\n",
    "    API endpoint that allows groups to be viewed or edited.\n",
    "    \"\"\"\n",
    "    queryset = Group.objects.all()\n",
    "    serializer_class = GroupSerializer\n",
    "    permission_classes = [permissions.IsAuthenticated]\n",
    "```\n",
    "### Create views (A00XXXXXX/SEL4C/urls.py)\n",
    "```\n",
    "from django.urls import include, path\n",
    "from rest_framework import routers\n",
    "from SEL4C.app1 import views\n",
    "\n",
    "router = routers.DefaultRouter()\n",
    "router.register(r'users', views.UserViewSet)\n",
    "router.register(r'groups', views.GroupViewSet)\n",
    "\n",
    "# Wire up our API using automatic URL routing.\n",
    "# Additionally, we include login URLs for the browsable API.\n",
    "urlpatterns = [\n",
    "    path('', include(router.urls)),\n",
    "    path('api-auth/', include('rest_framework.urls', namespace='rest_framework'))\n",
    "]\n",
    "```\n",
    "### Modify Settings (A00XXXXXX/SEL4C/settings.py)\n",
    "```\n",
    "REST_FRAMEWORK = {\n",
    "    'DEFAULT_PAGINATION_CLASS': 'rest_framework.pagination.PageNumberPagination',\n",
    "    'PAGE_SIZE': 10\n",
    "}\n",
    "\n",
    "INSTALLED_APPS = [\n",
    "    ...\n",
    "    'rest_framework',\n",
    "]\n",
    "```\n",
    "### Run the server\n",
    "```\n",
    "python manage.py runserver\n",
    "```\n",
    "### Test with CURL the users service\n",
    "```\n",
    "curl -H 'Accept: application/json; indent=4' -u A00XXXXXX:password http://127.0.0.1:8000/users/\n",
    "\n",
    "```\n",
    "### Install requirements\n",
    "```\n",
    "pip install -r requirements.txt\n",
    "```\n",
    "## Test with NoteBook"
   ]
  },
  {
   "cell_type": "code",
   "execution_count": 2,
   "id": "ab1306f4",
   "metadata": {},
   "outputs": [
    {
     "name": "stdout",
     "output_type": "stream",
     "text": [
      "Defaulting to user installation because normal site-packages is not writeable\n",
      "Requirement already satisfied: pip in /Users/ivan/Library/Python/3.9/lib/python/site-packages (23.2.1)\n",
      "Defaulting to user installation because normal site-packages is not writeable\n",
      "Requirement already satisfied: numpy in /Users/ivan/Library/Python/3.9/lib/python/site-packages (1.25.2)\n",
      "Defaulting to user installation because normal site-packages is not writeable\n",
      "Requirement already satisfied: requests in /Users/ivan/Library/Python/3.9/lib/python/site-packages (2.31.0)\n",
      "Requirement already satisfied: charset-normalizer<4,>=2 in /Users/ivan/Library/Python/3.9/lib/python/site-packages (from requests) (3.2.0)\n",
      "Requirement already satisfied: idna<4,>=2.5 in /Users/ivan/Library/Python/3.9/lib/python/site-packages (from requests) (3.4)\n",
      "Requirement already satisfied: urllib3<3,>=1.21.1 in /Users/ivan/Library/Python/3.9/lib/python/site-packages (from requests) (2.0.4)\n",
      "Requirement already satisfied: certifi>=2017.4.17 in /Users/ivan/Library/Python/3.9/lib/python/site-packages (from requests) (2023.7.22)\n"
     ]
    },
    {
     "name": "stderr",
     "output_type": "stream",
     "text": [
      "/Users/ivan/Library/Python/3.9/lib/python/site-packages/urllib3/__init__.py:34: NotOpenSSLWarning: urllib3 v2.0 only supports OpenSSL 1.1.1+, currently the 'ssl' module is compiled with 'LibreSSL 2.8.3'. See: https://github.com/urllib3/urllib3/issues/3020\n",
      "  warnings.warn(\n"
     ]
    }
   ],
   "source": [
    "import sys\n",
    "!{sys.executable} -m pip install --upgrade pip\n",
    "!{sys.executable} -m pip install numpy\n",
    "!{sys.executable} -m pip install requests\n",
    "import requests"
   ]
  },
  {
   "cell_type": "code",
   "execution_count": 5,
   "id": "30b429e7",
   "metadata": {},
   "outputs": [
    {
     "data": {
      "text/plain": [
       "{'count': 1,\n",
       " 'next': None,\n",
       " 'previous': None,\n",
       " 'results': [{'url': 'http://127.0.0.1:8000/users/1/',\n",
       "   'username': 'A00XXXXXX',\n",
       "   'email': 'A00XXXXXX@example.com',\n",
       "   'groups': []}]}"
      ]
     },
     "execution_count": 5,
     "metadata": {},
     "output_type": "execute_result"
    }
   ],
   "source": [
    "api_url = \"http://127.0.0.1:8000/users/\"\n",
    "response = requests.get(api_url, auth=('A00XXXXXX', 'password'))\n",
    "response.json()"
   ]
  },
  {
   "cell_type": "code",
   "execution_count": 13,
   "id": "cf67abc1",
   "metadata": {},
   "outputs": [
    {
     "data": {
      "text/plain": [
       "{'count': 0, 'next': None, 'previous': None, 'results': []}"
      ]
     },
     "execution_count": 13,
     "metadata": {},
     "output_type": "execute_result"
    }
   ],
   "source": [
    "api_url = \"http://localhost:8000/home\"\n",
    "response = requests.get(api_url, auth=('A00XXXXXX', 'password'))\n",
    "response.json()"
   ]
  },
  {
   "cell_type": "markdown",
   "id": "124311bb",
   "metadata": {},
   "source": [
    "## Sourced from\n",
    "* [Django Rest Framework](https://www.django-rest-framework.org/tutorial/quickstart/)"
   ]
  }
 ],
 "metadata": {
  "kernelspec": {
   "display_name": "Python 3 (ipykernel)",
   "language": "python",
   "name": "python3"
  },
  "language_info": {
   "codemirror_mode": {
    "name": "ipython",
    "version": 3
   },
   "file_extension": ".py",
   "mimetype": "text/x-python",
   "name": "python",
   "nbconvert_exporter": "python",
   "pygments_lexer": "ipython3",
   "version": "3.9.6"
  }
 },
 "nbformat": 4,
 "nbformat_minor": 5
}
