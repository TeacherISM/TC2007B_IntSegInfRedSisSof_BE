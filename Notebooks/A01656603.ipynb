{
 "cells": [
  {
   "cell_type": "markdown",
   "id": "078bceed-2d4d-4708-a513-fbc52e76cbdd",
   "metadata": {},
   "source": [
    "<img src=\"https://maestriasydiplomadostec.blob.core.windows.net/maestriasydiplomados/uploads/escuela_posgrado/logo/6/ingenieria.jpg\" alt=\"HTML5\" style=\"width:500px;height:100px\">\n",
    "\n",
    "# **Integración de seguridad informática en redes y sistemas de software**\n",
    "\n",
    "*Grupo:* TC2007B.452\n",
    "\n",
    "*Liga Canvas:* https://experiencia21.tec.mx/courses/422067\n",
    "\n",
    "\n",
    "*Alumno*\n",
    "<ul>\n",
    "  <li>Román Mauricio Elias Valencia - <a href=\"mailto:a01656603@tec.mx\">a01656603@tec.mx</a></li>\n",
    "</ul>\n",
    "\n",
    "*Profesor*\n",
    "<ul>\n",
    "  <li>Ivan Santiago Méndez - <a href=\"mailto:ivan.santiago@tec.mx\">ivan.santiago@tec.mx</a></li>\n",
    "</ul>"
   ]
  },
  {
   "cell_type": "code",
   "execution_count": 6,
   "id": "e0fa127a-1cdd-42ea-8d6c-3fc553ad08bb",
   "metadata": {},
   "outputs": [],
   "source": [
    "import sys\n",
    "import requests"
   ]
  },
  {
   "cell_type": "markdown",
   "id": "85e152de-4ca0-451a-acea-be46af62a8eb",
   "metadata": {},
   "source": [
    "### Clase #3\n",
    "---"
   ]
  },
  {
   "cell_type": "code",
   "execution_count": 5,
   "id": "8f8382ed-3b4f-4fb8-9d36-451e2b2221e8",
   "metadata": {},
   "outputs": [
    {
     "name": "stdout",
     "output_type": "stream",
     "text": [
      "Hello world\n",
      "This is Jupyter Notebook\n"
     ]
    }
   ],
   "source": [
    "print(\"Hello world\")\n",
    "print(\"This is Jupyter Notebook\")"
   ]
  },
  {
   "cell_type": "markdown",
   "id": "3c5ad6bd-b403-436b-bcc9-c09f2bac69ae",
   "metadata": {},
   "source": [
    "### Clase #8\n",
    "---"
   ]
  },
  {
   "cell_type": "code",
   "execution_count": 4,
   "id": "7e5243f3-8870-46fc-9c51-711d4d527bc8",
   "metadata": {},
   "outputs": [
    {
     "data": {
      "text/plain": [
       "{'count': 1,\n",
       " 'next': None,\n",
       " 'previous': None,\n",
       " 'results': [{'url': 'http://127.0.0.1:8000/users/1/',\n",
       "   'username': 'A01656603',\n",
       "   'email': 'A01656603@tec.mx',\n",
       "   'groups': []}]}"
      ]
     },
     "execution_count": 4,
     "metadata": {},
     "output_type": "execute_result"
    }
   ],
   "source": [
    "api_url = \"http://127.0.0.1:8000/users/\"\n",
    "response = requests.get(api_url, auth=('A01656603','password'))\n",
    "response.json()"
   ]
  },
  {
   "cell_type": "markdown",
   "id": "88fefce5-feb0-4fc3-9243-3a6b8be7e1d2",
   "metadata": {},
   "source": [
    "### Clase #13\n",
    "---"
   ]
  },
  {
   "cell_type": "code",
   "execution_count": 34,
   "id": "90cf4f04-e8d6-4bb4-958a-7495ac837a92",
   "metadata": {},
   "outputs": [
    {
     "name": "stdout",
     "output_type": "stream",
     "text": [
      "<Response [200]>\n"
     ]
    }
   ],
   "source": [
    "api_url = \"http://localhost:8000/api/schema/\"\n",
    "response = requests.get(api_url)\n",
    "print(response)"
   ]
  },
  {
   "cell_type": "code",
   "execution_count": 35,
   "id": "40398a8e-b9ab-40dc-a632-91a119ca061d",
   "metadata": {},
   "outputs": [
    {
     "name": "stdout",
     "output_type": "stream",
     "text": [
      "<Response [200]>\n"
     ]
    }
   ],
   "source": [
    "api_url = \"http://127.0.0.1:8000/api/schema/swagger-ui/\"\n",
    "response = requests.get(api_url)\n",
    "print(response)"
   ]
  },
  {
   "cell_type": "code",
   "execution_count": 36,
   "id": "c17310f0-cab1-4299-b12a-13747e848383",
   "metadata": {},
   "outputs": [
    {
     "name": "stdout",
     "output_type": "stream",
     "text": [
      "<Response [200]>\n"
     ]
    }
   ],
   "source": [
    "api_url = \"http://127.0.0.1:8000/api/schema/redoc/\"\n",
    "response = requests.get(api_url)\n",
    "print(response)"
   ]
  },
  {
   "cell_type": "code",
   "execution_count": 39,
   "id": "8a9cb5aa-f727-4d47-ad87-cea50b8d2b09",
   "metadata": {},
   "outputs": [],
   "source": [
    "base_url = \"http://localhost:8000\"\n",
    "\n",
    "endpoints = [\n",
    "    \"/groups/\",\n",
    "    \"/groups/1/\",\n",
    "    \"/users/\",\n",
    "    \"/users/1/\",\n",
    "    \"/usuario/\",\n",
    "    \"/usuario/1/\",\n",
    "]\n",
    "\n",
    "for endpoint in endpoints:\n",
    "    url = f\"{base_url}{endpoint}\"\n",
    "    response = requests.get(url, auth=('A01656603','password'))\n",
    "\n",
    "    if response.status_code == 200:\n",
    "        data = response.json()\n",
    "    else:\n",
    "        print(f\"Error en la solicitud a {url}. Código de estado: {response.status_code}\")"
   ]
  }
 ],
 "metadata": {
  "kernelspec": {
   "display_name": "Python 3 (ipykernel)",
   "language": "python",
   "name": "python3"
  },
  "language_info": {
   "codemirror_mode": {
    "name": "ipython",
    "version": 3
   },
   "file_extension": ".py",
   "mimetype": "text/x-python",
   "name": "python",
   "nbconvert_exporter": "python",
   "pygments_lexer": "ipython3",
   "version": "3.11.3"
  }
 },
 "nbformat": 4,
 "nbformat_minor": 5
}
