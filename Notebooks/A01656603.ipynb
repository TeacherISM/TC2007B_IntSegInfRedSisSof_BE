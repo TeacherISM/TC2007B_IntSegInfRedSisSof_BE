{
 "cells": [
  {
   "cell_type": "markdown",
   "id": "078bceed-2d4d-4708-a513-fbc52e76cbdd",
   "metadata": {},
   "source": [
    "<img src=\"https://javier.rodriguez.org.mx/itesm/2014/tecnologico-de-monterrey-blue-small.png\" alt=\"HTML5\" style=\"width:400px;height:100px\">\n",
    "\n",
    "# Román Mauricio Elias Valencia\n"
   ]
  },
  {
   "cell_type": "code",
   "execution_count": 5,
   "id": "8f8382ed-3b4f-4fb8-9d36-451e2b2221e8",
   "metadata": {},
   "outputs": [
    {
     "name": "stdout",
     "output_type": "stream",
     "text": [
      "Hello world\n",
      "This is Jupyter Notebook\n"
     ]
    }
   ],
   "source": [
    "print(\"Hello world\")\n",
    "print(\"This is Jupyter Notebook\")"
   ]
  }
 ],
 "metadata": {
  "kernelspec": {
   "display_name": "Python 3 (ipykernel)",
   "language": "python",
   "name": "python3"
  },
  "language_info": {
   "codemirror_mode": {
    "name": "ipython",
    "version": 3
   },
   "file_extension": ".py",
   "mimetype": "text/x-python",
   "name": "python",
   "nbconvert_exporter": "python",
   "pygments_lexer": "ipython3",
   "version": "3.11.4"
  }
 },
 "nbformat": 4,
 "nbformat_minor": 5
}
