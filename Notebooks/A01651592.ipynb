{
 "cells": [
  {
   "cell_type": "markdown",
   "id": "2f970195-6880-425b-bc89-bf283900c48f",
   "metadata": {},
   "source": [
    "# Adrian"
   ]
  },
  {
   "cell_type": "markdown",
   "id": "e8f0b0a7-7f84-4db3-923a-c56e87e726c2",
   "metadata": {},
   "source": [
    "## Generación de servicio BE (Django), con autenticación básica y pruebas manuales."
   ]
  },
  {
   "cell_type": "code",
   "execution_count": 15,
   "id": "d8613116-78e9-4ce4-91a1-df882b369c17",
   "metadata": {},
   "outputs": [],
   "source": [
    "import sys\n",
    "import requests"
   ]
  },
  {
   "cell_type": "code",
   "execution_count": 3,
   "id": "40853b45-b147-4ef9-98fd-5ae5d8d04058",
   "metadata": {},
   "outputs": [
    {
     "data": {
      "text/plain": [
       "{'count': 1,\n",
       " 'next': None,\n",
       " 'previous': None,\n",
       " 'results': [{'url': 'http://127.0.0.1:8000/users/1/',\n",
       "   'username': 'A01651592',\n",
       "   'email': 'A01651592@tec.mx',\n",
       "   'groups': []}]}"
      ]
     },
     "execution_count": 3,
     "metadata": {},
     "output_type": "execute_result"
    }
   ],
   "source": [
    "api_url = \"http://127.0.0.1:8000/users/\"\n",
    "response = requests.get(api_url, auth = ('A01651592','A01651592'))\n",
    "response.json()"
   ]
  },
  {
   "cell_type": "markdown",
   "id": "53472d1b-7b8f-48dd-8473-0b3710965740",
   "metadata": {},
   "source": [
    "## Generación de servicio BE (Django), con autenticación básica y pruebas manuales."
   ]
  },
  {
   "cell_type": "code",
   "execution_count": 25,
   "id": "f0aeff79-ab2a-486f-8a7f-26c627cef44f",
   "metadata": {},
   "outputs": [
    {
     "name": "stdout",
     "output_type": "stream",
     "text": [
      "GET request to http://127.0.0.1:8000/groups//groups/1/ failed with status code: 404\n",
      "GET request to http://127.0.0.1:8000/alumnos/ successful.\n",
      "{'count': 0, 'next': None, 'previous': None, 'results': []}\n",
      "GET request to http://127.0.0.1:8000/alumnos/1/ failed with status code: 404\n",
      "GET request to http://127.0.0.1:8000/users/ successful.\n",
      "{'count': 1, 'next': None, 'previous': None, 'results': [{'url': 'http://127.0.0.1:8000/users/1/', 'password': 'pbkdf2_sha256$600000$GdMc2MAu02LmIbIUZ2nTvW$L+8rLNeSjsogFSOPcK/AG9TwQY0gk7PCKRmiaMkbcUI=', 'last_login': None, 'is_superuser': True, 'username': 'A01651592', 'first_name': '', 'last_name': '', 'email': 'A01651592@tec.mx', 'is_staff': True, 'is_active': True, 'date_joined': '2023-08-17T00:28:41.344734Z', 'groups': [], 'user_permissions': []}]}\n",
      "GET request to http://127.0.0.1:8000/users/1/ successful.\n",
      "{'url': 'http://127.0.0.1:8000/users/1/', 'password': 'pbkdf2_sha256$600000$GdMc2MAu02LmIbIUZ2nTvW$L+8rLNeSjsogFSOPcK/AG9TwQY0gk7PCKRmiaMkbcUI=', 'last_login': None, 'is_superuser': True, 'username': 'A01651592', 'first_name': '', 'last_name': '', 'email': 'A01651592@tec.mx', 'is_staff': True, 'is_active': True, 'date_joined': '2023-08-17T00:28:41.344734Z', 'groups': [], 'user_permissions': []}\n"
     ]
    }
   ],
   "source": [
    "base_url = \"http://127.0.0.1:8000\"\n",
    "\n",
    "endpoints = [\n",
    "    \"/groups/\"\n",
    "    \"/groups/1/\",\n",
    "    \"/alumnos/\",\n",
    "    \"/alumnos/1/\",\n",
    "    \"/users/\",\n",
    "    \"/users/1/\",\n",
    "]\n",
    "\n",
    "for endpoint in endpoints:\n",
    "    url = f\"{base_url}{endpoint}\"\n",
    "    response = requests.get(url,auth=('A01651592','A01651592'))\n",
    "\n",
    "    if response.status_code == 200:\n",
    "        data = response.json()\n",
    "        print(f\"GET request to {url} successful.\")\n",
    "        print(data)\n",
    "    \n",
    "    else:\n",
    "        print(f\"GET request to {url} failed with status code: {response.status_code}\")"
   ]
  },
  {
   "cell_type": "code",
   "execution_count": 4,
   "id": "ed247686-bd10-4ca8-906d-5973cb0ddf22",
   "metadata": {},
   "outputs": [
    {
     "name": "stdout",
     "output_type": "stream",
     "text": [
      "<Response [200]>\n"
     ]
    }
   ],
   "source": [
    "api_url = \"http://127.0.0.1:8000/api/schema/\"\n",
    "response=requests.get(api_url)\n",
    "print(response)"
   ]
  },
  {
   "cell_type": "code",
   "execution_count": 22,
   "id": "f3187d25-b6d6-4774-a07b-f6220add0f6e",
   "metadata": {},
   "outputs": [
    {
     "name": "stdout",
     "output_type": "stream",
     "text": [
      "<Response [200]>\n"
     ]
    }
   ],
   "source": [
    "api_url = \"http://127.0.0.1:8000/api/schema/swagger-ui/\"\n",
    "response=requests.get(api_url)\n",
    "print(response)"
   ]
  },
  {
   "cell_type": "code",
   "execution_count": 23,
   "id": "5df5a0e0-1a5b-450d-ac7e-a6f37545e6ff",
   "metadata": {},
   "outputs": [
    {
     "name": "stdout",
     "output_type": "stream",
     "text": [
      "<Response [200]>\n"
     ]
    }
   ],
   "source": [
    "api_url = \"http://127.0.0.1:8000/api/schema/redoc/\"\n",
    "response=requests.get(api_url)\n",
    "print(response)"
   ]
  },
  {
   "cell_type": "code",
   "execution_count": null,
   "id": "fc5eb5bc-491f-4beb-8f25-baacf17eeb59",
   "metadata": {},
   "outputs": [],
   "source": []
  }
 ],
 "metadata": {
  "kernelspec": {
   "display_name": "Python 3 (ipykernel)",
   "language": "python",
   "name": "python3"
  },
  "language_info": {
   "codemirror_mode": {
    "name": "ipython",
    "version": 3
   },
   "file_extension": ".py",
   "mimetype": "text/x-python",
   "name": "python",
   "nbconvert_exporter": "python",
   "pygments_lexer": "ipython3",
   "version": "3.11.0"
  }
 },
 "nbformat": 4,
 "nbformat_minor": 5
}
