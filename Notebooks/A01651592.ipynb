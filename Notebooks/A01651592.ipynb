{
 "cells": [
  {
   "cell_type": "markdown",
   "id": "2f970195-6880-425b-bc89-bf283900c48f",
   "metadata": {},
   "source": [
    "# Adrian"
   ]
  },
  {
   "cell_type": "markdown",
   "id": "e8f0b0a7-7f84-4db3-923a-c56e87e726c2",
   "metadata": {},
   "source": [
    "## Generación de servicio BE (Django), con autenticación básica y pruebas manuales."
   ]
  },
  {
   "cell_type": "code",
   "execution_count": 1,
   "id": "d8613116-78e9-4ce4-91a1-df882b369c17",
   "metadata": {},
   "outputs": [],
   "source": [
    "import sys\n",
    "import requests"
   ]
  },
  {
   "cell_type": "code",
   "execution_count": 3,
   "id": "40853b45-b147-4ef9-98fd-5ae5d8d04058",
   "metadata": {},
   "outputs": [
    {
     "data": {
      "text/plain": [
       "{'count': 1,\n",
       " 'next': None,\n",
       " 'previous': None,\n",
       " 'results': [{'url': 'http://127.0.0.1:8000/users/1/',\n",
       "   'username': 'A01651592',\n",
       "   'email': 'A01651592@tec.mx',\n",
       "   'groups': []}]}"
      ]
     },
     "execution_count": 3,
     "metadata": {},
     "output_type": "execute_result"
    }
   ],
   "source": [
    "api_url = \"http://127.0.0.1:8000/users/\"\n",
    "response = requests.get(api_url, auth = ('A01651592','A01651592'))\n",
    "response.json()"
   ]
  }
 ],
 "metadata": {
  "kernelspec": {
   "display_name": "Python 3 (ipykernel)",
   "language": "python",
   "name": "python3"
  },
  "language_info": {
   "codemirror_mode": {
    "name": "ipython",
    "version": 3
   },
   "file_extension": ".py",
   "mimetype": "text/x-python",
   "name": "python",
   "nbconvert_exporter": "python",
   "pygments_lexer": "ipython3",
   "version": "3.11.0"
  }
 },
 "nbformat": 4,
 "nbformat_minor": 5
}
