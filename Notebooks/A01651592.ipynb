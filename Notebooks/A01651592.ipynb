{
 "cells": [
  {
   "cell_type": "markdown",
   "id": "2f970195-6880-425b-bc89-bf283900c48f",
   "metadata": {},
   "source": [
    "# Adrian"
   ]
  },
  {
   "cell_type": "code",
   "execution_count": 1,
   "id": "1b5278ae-1ef1-43c7-a55f-ab3116113849",
   "metadata": {},
   "outputs": [
    {
     "name": "stdout",
     "output_type": "stream",
     "text": [
      "Hola\n"
     ]
    }
   ],
   "source": [
    "print(\"Hola\")"
   ]
  },
  {
   "cell_type": "code",
   "execution_count": null,
   "id": "d8613116-78e9-4ce4-91a1-df882b369c17",
   "metadata": {},
   "outputs": [],
   "source": []
  }
 ],
 "metadata": {
  "kernelspec": {
   "display_name": "Python 3 (ipykernel)",
   "language": "python",
   "name": "python3"
  },
  "language_info": {
   "codemirror_mode": {
    "name": "ipython",
    "version": 3
   },
   "file_extension": ".py",
   "mimetype": "text/x-python",
   "name": "python",
   "nbconvert_exporter": "python",
   "pygments_lexer": "ipython3",
   "version": "3.11.0"
  }
 },
 "nbformat": 4,
 "nbformat_minor": 5
}
