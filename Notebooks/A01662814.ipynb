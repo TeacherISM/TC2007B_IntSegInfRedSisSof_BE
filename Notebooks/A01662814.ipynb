{
 "cells": [
  {
   "cell_type": "markdown",
   "id": "c3c67617",
   "metadata": {},
   "source": [
    "## Andrew Williams"
   ]
  },
  {
   "cell_type": "code",
   "execution_count": 2,
   "id": "cbbd9bb6",
   "metadata": {},
   "outputs": [
    {
     "name": "stdout",
     "output_type": "stream",
     "text": [
      "Hola Mundo\n"
     ]
    }
   ],
   "source": [
    "print(\"Hola Mundo\")"
   ]
  },
  {
   "cell_type": "code",
   "execution_count": 1,
   "id": "d6e39352",
   "metadata": {},
   "outputs": [
    {
     "name": "stdout",
     "output_type": "stream",
     "text": [
      "Requirement already satisfied: pip in /Users/will/anaconda3/lib/python3.11/site-packages (23.2.1)\n",
      "Requirement already satisfied: numpy in /Users/will/anaconda3/lib/python3.11/site-packages (1.24.3)\n",
      "Requirement already satisfied: requests in /Users/will/anaconda3/lib/python3.11/site-packages (2.31.0)\n",
      "Requirement already satisfied: charset-normalizer<4,>=2 in /Users/will/anaconda3/lib/python3.11/site-packages (from requests) (2.0.4)\n",
      "Requirement already satisfied: idna<4,>=2.5 in /Users/will/anaconda3/lib/python3.11/site-packages (from requests) (3.4)\n",
      "Requirement already satisfied: urllib3<3,>=1.21.1 in /Users/will/anaconda3/lib/python3.11/site-packages (from requests) (1.26.16)\n",
      "Requirement already satisfied: certifi>=2017.4.17 in /Users/will/anaconda3/lib/python3.11/site-packages (from requests) (2023.7.22)\n"
     ]
    }
   ],
   "source": [
    "import sys \n",
    "!{sys.executable} -m pip install --upgrade pip\n",
    "!{sys.executable} -m pip install numpy\n",
    "!{sys.executable} -m pip install requests \n",
    "import requests"
   ]
  },
  {
   "cell_type": "code",
   "execution_count": 16,
   "id": "d74904d7",
   "metadata": {},
   "outputs": [
    {
     "name": "stdout",
     "output_type": "stream",
     "text": [
      "{'count': 1, 'next': None, 'previous': None, 'results': [{'url': 'http://127.0.0.1:8000/users/1/', 'username': 'A01662814', 'email': 'A01662814@tec.mx', 'groups': []}]}\n"
     ]
    }
   ],
   "source": [
    "api_url = \"http://127.0.0.1:8000/users/\"\n",
    "response = requests.get(api_url, auth=('A01662814','password'))\n",
    "data = response.json()\n",
    "print(data)\n"
   ]
  },
  {
   "cell_type": "code",
   "execution_count": 3,
   "id": "920b04d7",
   "metadata": {},
   "outputs": [
    {
     "name": "stdout",
     "output_type": "stream",
     "text": [
      "Requirement already satisfied: pip in /Users/will/anaconda3/lib/python3.11/site-packages (23.2.1)\n",
      "Requirement already satisfied: requests in /Users/will/anaconda3/lib/python3.11/site-packages (2.31.0)\n",
      "Requirement already satisfied: charset-normalizer<4,>=2 in /Users/will/anaconda3/lib/python3.11/site-packages (from requests) (2.0.4)\n",
      "Requirement already satisfied: idna<4,>=2.5 in /Users/will/anaconda3/lib/python3.11/site-packages (from requests) (3.4)\n",
      "Requirement already satisfied: urllib3<3,>=1.21.1 in /Users/will/anaconda3/lib/python3.11/site-packages (from requests) (1.26.16)\n",
      "Requirement already satisfied: certifi>=2017.4.17 in /Users/will/anaconda3/lib/python3.11/site-packages (from requests) (2023.7.22)\n"
     ]
    }
   ],
   "source": [
    "import sys\n",
    "!{sys.executable} -m pip install --upgrade pip\n",
    "!{sys.executable} -m pip install requests\n",
    "import requests"
   ]
  },
  {
   "cell_type": "code",
   "execution_count": 4,
   "id": "b16f03d2",
   "metadata": {},
   "outputs": [
    {
     "name": "stdout",
     "output_type": "stream",
     "text": [
      "{'count': 1, 'next': None, 'previous': None, 'results': [{'url': 'http://127.0.0.1:8000/users/1/', 'username': 'A01662814', 'email': 'A01662814@tec.mx', 'groups': []}]}\n"
     ]
    }
   ],
   "source": [
    "api_url = \"http://127.0.0.1:8000/users/\"\n",
    "response = requests.get(api_url, auth=('A01662814','password'))\n",
    "data = response.json()\n",
    "print(data)\n"
   ]
  },
  {
   "cell_type": "code",
   "execution_count": 12,
   "id": "7a25d33d",
   "metadata": {},
   "outputs": [
    {
     "name": "stdout",
     "output_type": "stream",
     "text": [
      "<bound method Response.json of <Response [200]>>\n",
      "<bound method Response.json of <Response [200]>>\n",
      "<bound method Response.json of <Response [200]>>\n",
      "<bound method Response.json of <Response [200]>>\n",
      "<bound method Response.json of <Response [200]>>\n",
      "<bound method Response.json of <Response [200]>>\n"
     ]
    }
   ],
   "source": [
    "#Base url of the api\n",
    "base_url = \"http://localhost:8000\"\n",
    "\n",
    "#Endpoints\n",
    "endpoints = [\n",
    "    \"/groups/\",\n",
    "    \"/groups/1/\",\n",
    "    \"/reports/\",\n",
    "    \"/reports/1/\",\n",
    "    \"/users/\",\n",
    "    \"/users/1/\"\n",
    "]\n",
    "\n",
    "for endpoint in endpoints:\n",
    "    url = f\"{base_url}{endpoint}\"\n",
    "    response = requests.get(url, auth= (\"A01662814\",\"password\"))\n",
    "    data = response.json\n",
    "    print(data)"
   ]
  },
  {
   "cell_type": "code",
   "execution_count": 14,
   "id": "a1f46ce9",
   "metadata": {},
   "outputs": [
    {
     "name": "stdout",
     "output_type": "stream",
     "text": [
      "<Response [200]>\n"
     ]
    }
   ],
   "source": [
    "api_url = api_url = \"http://127.0.0.1:8000/api/schema/\"\n",
    "response = requests.get(api_url)\n",
    "print(response)"
   ]
  },
  {
   "cell_type": "code",
   "execution_count": 15,
   "id": "211df136",
   "metadata": {},
   "outputs": [
    {
     "name": "stdout",
     "output_type": "stream",
     "text": [
      "<Response [200]>\n"
     ]
    }
   ],
   "source": [
    "api_url = api_url = \"http://127.0.0.1:8000/api/schema/swagger-ui/\"\n",
    "response = requests.get(api_url)\n",
    "print(response)"
   ]
  },
  {
   "cell_type": "code",
   "execution_count": 16,
   "id": "77a72f80",
   "metadata": {},
   "outputs": [
    {
     "name": "stdout",
     "output_type": "stream",
     "text": [
      "<Response [200]>\n"
     ]
    }
   ],
   "source": [
    "api_url = api_url = \"http://127.0.0.1:8000/api/schema/redoc/\"\n",
    "response = requests.get(api_url)\n",
    "print(response)"
   ]
  },
  {
   "cell_type": "code",
   "execution_count": null,
   "id": "ba8895bc",
   "metadata": {},
   "outputs": [],
   "source": []
  }
 ],
 "metadata": {
  "kernelspec": {
   "display_name": "Python 3 (ipykernel)",
   "language": "python",
   "name": "python3"
  },
  "language_info": {
   "codemirror_mode": {
    "name": "ipython",
    "version": 3
   },
   "file_extension": ".py",
   "mimetype": "text/x-python",
   "name": "python",
   "nbconvert_exporter": "python",
   "pygments_lexer": "ipython3",
   "version": "3.11.4"
  }
 },
 "nbformat": 4,
 "nbformat_minor": 5
}
