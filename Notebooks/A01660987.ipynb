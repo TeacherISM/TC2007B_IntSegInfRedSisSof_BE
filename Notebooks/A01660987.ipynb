{
 "cells": [
  {
   "cell_type": "markdown",
   "id": "205d1aa4-9d94-4ccd-a18e-20574a498fac",
   "metadata": {},
   "source": [
    "# Diego Andrés Figueroa Peart A01660987"
   ]
  },
  {
   "cell_type": "code",
   "execution_count": 2,
   "id": "c33d9e62-4b14-407e-a202-65391ba802c1",
   "metadata": {
    "jp-MarkdownHeadingCollapsed": true
   },
   "outputs": [
    {
     "name": "stdout",
     "output_type": "stream",
     "text": [
      "Hola, mundo!\n"
     ]
    }
   ],
   "source": [
    "print(\"Hola, mundo!\")"
   ]
  },
  {
   "cell_type": "code",
   "execution_count": null,
   "id": "4f987205-a1aa-4b69-9425-90b16a3ec9a1",
   "metadata": {},
   "outputs": [],
   "source": []
  }
 ],
 "metadata": {
  "kernelspec": {
   "display_name": "Python 3 (ipykernel)",
   "language": "python",
   "name": "python3"
  },
  "language_info": {
   "codemirror_mode": {
    "name": "ipython",
    "version": 3
   },
   "file_extension": ".py",
   "mimetype": "text/x-python",
   "name": "python",
   "nbconvert_exporter": "python",
   "pygments_lexer": "ipython3",
   "version": "3.11.2"
  }
 },
 "nbformat": 4,
 "nbformat_minor": 5
}
