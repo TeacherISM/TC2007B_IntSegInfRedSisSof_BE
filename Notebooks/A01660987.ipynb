{
 "cells": [
  {
   "attachments": {},
   "cell_type": "markdown",
   "id": "205d1aa4-9d94-4ccd-a18e-20574a498fac",
   "metadata": {},
   "source": [
    "# Diego Andrés Figueroa Peart A01660987"
   ]
  },
  {
   "attachments": {},
   "cell_type": "markdown",
   "id": "cc3a0466-c38c-41af-b86d-9761f1cb2a64",
   "metadata": {},
   "source": [
    "## Actividad 4.1 Clonado de repositorio y generación de markdown"
   ]
  },
  {
   "cell_type": "code",
   "execution_count": 1,
   "id": "c33d9e62-4b14-407e-a202-65391ba802c1",
   "metadata": {
    "jp-MarkdownHeadingCollapsed": true
   },
   "outputs": [
    {
     "name": "stdout",
     "output_type": "stream",
     "text": [
      "Hola, mundo!\n"
     ]
    }
   ],
   "source": [
    "print(\"Hola, mundo!\")"
   ]
  },
  {
   "cell_type": "code",
   "execution_count": 3,
   "id": "9f1cf63b-b3d7-4ac3-8ae4-50924404d0a5",
   "metadata": {
    "jp-MarkdownHeadingCollapsed": true
   },
   "outputs": [
    {
     "name": "stdout",
     "output_type": "stream",
     "text": [
      "30\n"
     ]
    }
   ],
   "source": [
    "x = 5\n",
    "y = 6\n",
    "print(x*y)"
   ]
  },
  {
   "cell_type": "markdown",
   "id": "46550167-56e8-4242-91e7-b6a37e2273e1",
   "metadata": {},
   "source": [
    "## Actividad 4.2 Generación de servicio BE (Django)"
   ]
  },
  {
   "cell_type": "markdown",
   "id": "2561594e-35b4-4fc9-9163-825c389cf353",
   "metadata": {},
   "source": [
    "Django REST Framework fue utilizado para crear una aplicación web básica con autenticación de superusers.\n",
    "\n",
    "### Pruebas manuales:"
   ]
  },
  {
   "cell_type": "code",
   "execution_count": 1,
   "id": "e17e219e-7a87-4ef0-8377-82d43c051713",
   "metadata": {},
   "outputs": [
    {
     "name": "stdout",
     "output_type": "stream",
     "text": [
      "Requirement already satisfied: pip in c:\\programming\\python\\lib\\site-packages (23.2.1)\n"
     ]
    },
    {
     "name": "stderr",
     "output_type": "stream",
     "text": [
      "DEPRECATION: Loading egg at c:\\programming\\python\\lib\\site-packages\\vboxapi-1.0-py3.11.egg is deprecated. pip 23.3 will enforce this behaviour change. A possible replacement is to use pip for package installation..\n"
     ]
    },
    {
     "name": "stdout",
     "output_type": "stream",
     "text": [
      "Collecting numpy\n",
      "  Obtaining dependency information for numpy from https://files.pythonhosted.org/packages/72/b2/02770e60c4e2f7e158d923ab0dea4e9f146a2dbf267fec6d8dc61d475689/numpy-1.25.2-cp311-cp311-win_amd64.whl.metadata\n",
      "  Downloading numpy-1.25.2-cp311-cp311-win_amd64.whl.metadata (5.7 kB)\n",
      "Downloading numpy-1.25.2-cp311-cp311-win_amd64.whl (15.5 MB)\n",
      "   ---------------------------------------- 0.0/15.5 MB ? eta -:--:--\n",
      "   ---------------------------------------- 0.0/15.5 MB 1.3 MB/s eta 0:00:13\n",
      "   ---------------------------------------- 0.1/15.5 MB 812.7 kB/s eta 0:00:20\n",
      "   ---------------------------------------- 0.1/15.5 MB 812.7 kB/s eta 0:00:20\n",
      "   ---------------------------------------- 0.1/15.5 MB 812.7 kB/s eta 0:00:20\n",
      "   ---------------------------------------- 0.1/15.5 MB 514.3 kB/s eta 0:00:30\n",
      "   ---------------------------------------- 0.1/15.5 MB 566.5 kB/s eta 0:00:28\n",
      "    --------------------------------------- 0.3/15.5 MB 871.5 kB/s eta 0:00:18\n",
      "    --------------------------------------- 0.3/15.5 MB 871.5 kB/s eta 0:00:18\n",
      "    --------------------------------------- 0.3/15.5 MB 791.9 kB/s eta 0:00:20\n",
      "    --------------------------------------- 0.3/15.5 MB 791.9 kB/s eta 0:00:20\n",
      "    --------------------------------------- 0.4/15.5 MB 716.8 kB/s eta 0:00:22\n",
      "   - -------------------------------------- 0.4/15.5 MB 839.7 kB/s eta 0:00:19\n",
      "   - -------------------------------------- 0.4/15.5 MB 839.7 kB/s eta 0:00:19\n",
      "   - -------------------------------------- 0.4/15.5 MB 839.7 kB/s eta 0:00:19\n",
      "   - -------------------------------------- 0.5/15.5 MB 763.7 kB/s eta 0:00:20\n",
      "   - -------------------------------------- 0.7/15.5 MB 933.4 kB/s eta 0:00:16\n",
      "   - -------------------------------------- 0.7/15.5 MB 935.8 kB/s eta 0:00:16\n",
      "   -- ------------------------------------- 1.0/15.5 MB 1.2 MB/s eta 0:00:12\n",
      "   -- ------------------------------------- 1.1/15.5 MB 1.2 MB/s eta 0:00:12\n",
      "   --- ------------------------------------ 1.4/15.5 MB 1.5 MB/s eta 0:00:10\n",
      "   ---- ----------------------------------- 1.6/15.5 MB 1.7 MB/s eta 0:00:09\n",
      "   ----- ---------------------------------- 2.1/15.5 MB 2.1 MB/s eta 0:00:07\n",
      "   ----- ---------------------------------- 2.2/15.5 MB 2.2 MB/s eta 0:00:07\n",
      "   ------ --------------------------------- 2.5/15.5 MB 2.2 MB/s eta 0:00:06\n",
      "   ------ --------------------------------- 2.5/15.5 MB 2.2 MB/s eta 0:00:07\n",
      "   ------ --------------------------------- 2.5/15.5 MB 2.2 MB/s eta 0:00:07\n",
      "   ------ --------------------------------- 2.7/15.5 MB 2.1 MB/s eta 0:00:07\n",
      "   ------- -------------------------------- 2.9/15.5 MB 2.2 MB/s eta 0:00:06\n",
      "   -------- ------------------------------- 3.2/15.5 MB 2.4 MB/s eta 0:00:06\n",
      "   -------- ------------------------------- 3.4/15.5 MB 2.5 MB/s eta 0:00:05\n",
      "   -------- ------------------------------- 3.4/15.5 MB 2.4 MB/s eta 0:00:06\n",
      "   --------- ------------------------------ 3.5/15.5 MB 2.4 MB/s eta 0:00:05\n",
      "   --------- ------------------------------ 3.7/15.5 MB 2.5 MB/s eta 0:00:05\n",
      "   ---------- ----------------------------- 4.0/15.5 MB 2.5 MB/s eta 0:00:05\n",
      "   ---------- ----------------------------- 4.0/15.5 MB 2.5 MB/s eta 0:00:05\n",
      "   ---------- ----------------------------- 4.1/15.5 MB 2.5 MB/s eta 0:00:05\n",
      "   ---------- ----------------------------- 4.2/15.5 MB 2.5 MB/s eta 0:00:05\n",
      "   ----------- ---------------------------- 4.6/15.5 MB 2.6 MB/s eta 0:00:05\n",
      "   ----------- ---------------------------- 4.6/15.5 MB 2.6 MB/s eta 0:00:05\n",
      "   ------------ --------------------------- 4.8/15.5 MB 2.6 MB/s eta 0:00:05\n",
      "   ------------ --------------------------- 5.0/15.5 MB 2.7 MB/s eta 0:00:04\n",
      "   ------------ --------------------------- 5.0/15.5 MB 2.6 MB/s eta 0:00:04\n",
      "   ------------- -------------------------- 5.2/15.5 MB 2.6 MB/s eta 0:00:04\n",
      "   -------------- ------------------------- 5.5/15.5 MB 2.7 MB/s eta 0:00:04\n",
      "   -------------- ------------------------- 5.5/15.5 MB 2.7 MB/s eta 0:00:04\n",
      "   -------------- ------------------------- 5.8/15.5 MB 2.7 MB/s eta 0:00:04\n",
      "   --------------- ------------------------ 5.8/15.5 MB 2.7 MB/s eta 0:00:04\n",
      "   --------------- ------------------------ 6.0/15.5 MB 2.7 MB/s eta 0:00:04\n",
      "   ---------------- ----------------------- 6.3/15.5 MB 2.8 MB/s eta 0:00:04\n",
      "   ---------------- ----------------------- 6.5/15.5 MB 2.8 MB/s eta 0:00:04\n",
      "   ---------------- ----------------------- 6.6/15.5 MB 2.8 MB/s eta 0:00:04\n",
      "   ----------------- ---------------------- 6.7/15.5 MB 2.8 MB/s eta 0:00:04\n",
      "   ----------------- ---------------------- 7.0/15.5 MB 2.9 MB/s eta 0:00:04\n",
      "   ------------------ --------------------- 7.1/15.5 MB 2.9 MB/s eta 0:00:03\n",
      "   ------------------ --------------------- 7.2/15.5 MB 2.9 MB/s eta 0:00:03\n",
      "   ------------------- -------------------- 7.5/15.5 MB 2.9 MB/s eta 0:00:03\n",
      "   ------------------- -------------------- 7.6/15.5 MB 2.9 MB/s eta 0:00:03\n",
      "   ------------------- -------------------- 7.8/15.5 MB 2.9 MB/s eta 0:00:03\n",
      "   -------------------- ------------------- 8.1/15.5 MB 3.0 MB/s eta 0:00:03\n",
      "   --------------------- ------------------ 8.5/15.5 MB 3.1 MB/s eta 0:00:03\n",
      "   ---------------------- ----------------- 8.7/15.5 MB 3.1 MB/s eta 0:00:03\n",
      "   ----------------------- ---------------- 9.1/15.5 MB 3.1 MB/s eta 0:00:03\n",
      "   ------------------------ --------------- 9.3/15.5 MB 3.2 MB/s eta 0:00:02\n",
      "   ------------------------ --------------- 9.5/15.5 MB 3.2 MB/s eta 0:00:02\n",
      "   ------------------------- -------------- 9.7/15.5 MB 3.3 MB/s eta 0:00:02\n",
      "   ------------------------- -------------- 10.0/15.5 MB 3.3 MB/s eta 0:00:02\n",
      "   -------------------------- ------------- 10.2/15.5 MB 3.3 MB/s eta 0:00:02\n",
      "   --------------------------- ------------ 10.5/15.5 MB 3.7 MB/s eta 0:00:02\n",
      "   ---------------------------- ----------- 11.0/15.5 MB 4.2 MB/s eta 0:00:02\n",
      "   ----------------------------- ---------- 11.5/15.5 MB 4.4 MB/s eta 0:00:01\n",
      "   ------------------------------ --------- 12.0/15.5 MB 4.4 MB/s eta 0:00:01\n",
      "   ------------------------------- -------- 12.3/15.5 MB 4.4 MB/s eta 0:00:01\n",
      "   ------------------------------- -------- 12.4/15.5 MB 4.3 MB/s eta 0:00:01\n",
      "   --------------------------------- ------ 12.9/15.5 MB 4.7 MB/s eta 0:00:01\n",
      "   ---------------------------------- ----- 13.3/15.5 MB 4.7 MB/s eta 0:00:01\n",
      "   ----------------------------------- ---- 13.9/15.5 MB 5.0 MB/s eta 0:00:01\n",
      "   ------------------------------------ --- 14.2/15.5 MB 5.3 MB/s eta 0:00:01\n",
      "   -------------------------------------- - 14.8/15.5 MB 5.5 MB/s eta 0:00:01\n",
      "   ---------------------------------------  15.3/15.5 MB 6.0 MB/s eta 0:00:01\n",
      "   ---------------------------------------  15.5/15.5 MB 6.0 MB/s eta 0:00:01\n",
      "   ---------------------------------------  15.5/15.5 MB 6.0 MB/s eta 0:00:01\n",
      "   ---------------------------------------- 15.5/15.5 MB 5.7 MB/s eta 0:00:00\n",
      "Installing collected packages: numpy\n",
      "Successfully installed numpy-1.25.2\n"
     ]
    },
    {
     "name": "stderr",
     "output_type": "stream",
     "text": [
      "DEPRECATION: Loading egg at c:\\programming\\python\\lib\\site-packages\\vboxapi-1.0-py3.11.egg is deprecated. pip 23.3 will enforce this behaviour change. A possible replacement is to use pip for package installation..\n"
     ]
    },
    {
     "name": "stdout",
     "output_type": "stream",
     "text": [
      "Requirement already satisfied: requests in c:\\programming\\python\\lib\\site-packages (2.31.0)\n",
      "Requirement already satisfied: charset-normalizer<4,>=2 in c:\\programming\\python\\lib\\site-packages (from requests) (3.2.0)\n",
      "Requirement already satisfied: idna<4,>=2.5 in c:\\programming\\python\\lib\\site-packages (from requests) (3.4)\n",
      "Requirement already satisfied: urllib3<3,>=1.21.1 in c:\\programming\\python\\lib\\site-packages (from requests) (2.0.4)\n",
      "Requirement already satisfied: certifi>=2017.4.17 in c:\\programming\\python\\lib\\site-packages (from requests) (2023.7.22)\n"
     ]
    },
    {
     "name": "stderr",
     "output_type": "stream",
     "text": [
      "DEPRECATION: Loading egg at c:\\programming\\python\\lib\\site-packages\\vboxapi-1.0-py3.11.egg is deprecated. pip 23.3 will enforce this behaviour change. A possible replacement is to use pip for package installation..\n"
     ]
    }
   ],
   "source": [
    "import sys\n",
    "!{sys.executable} -m pip install --upgrade pip\n",
    "!{sys.executable} -m pip install numpy\n",
    "!{sys.executable} -m pip install requests\n",
    "import requests"
   ]
  },
  {
   "cell_type": "code",
   "execution_count": 6,
   "id": "978f13d5-457f-44d7-b763-b14e9ef26268",
   "metadata": {},
   "outputs": [
    {
     "data": {
      "text/plain": [
       "{'count': 1,\n",
       " 'next': None,\n",
       " 'previous': None,\n",
       " 'results': [{'url': 'http://127.0.0.1:8000/users/1/',\n",
       "   'username': 'A01660987',\n",
       "   'email': 'A01660987@tec.mx',\n",
       "   'groups': []}]}"
      ]
     },
     "execution_count": 6,
     "metadata": {},
     "output_type": "execute_result"
    }
   ],
   "source": [
    "import requests\n",
    "api_url = \"http://127.0.0.1:8000/users/\"\n",
    "response = requests.get(api_url, auth= ('A01660987',\"password\"))\n",
    "response.json()"
   ]
  },
  {
   "cell_type": "code",
   "execution_count": 4,
   "id": "be2bfe8d-2a17-4e8f-9cae-f7108f8549b8",
   "metadata": {},
   "outputs": [
    {
     "data": {
      "text/plain": [
       "{'detail': 'Invalid username/password.'}"
      ]
     },
     "execution_count": 4,
     "metadata": {},
     "output_type": "execute_result"
    }
   ],
   "source": [
    "import requests\n",
    "api_url = \"http://127.0.0.1:8000/users/\"\n",
    "response = requests.get(api_url, auth= ('e',\"e\"))\n",
    "response.json()"
   ]
  },
  {
   "cell_type": "markdown",
   "id": "9498adf9-a3a7-45d8-be42-c8a546f356cb",
   "metadata": {},
   "source": [
    "## Actividad 4.3 Generación de especificación OpenAPI para creación de clientes basados en el estandar\n"
   ]
  },
  {
   "cell_type": "markdown",
   "id": "788a43eb-be50-4e96-ba39-818e5debfe5b",
   "metadata": {},
   "source": [
    "Prueba de endpoints y modelos users, groups, y home."
   ]
  },
  {
   "cell_type": "code",
   "execution_count": 21,
   "id": "79ad3785-ee81-40ce-86d3-8c9f594826cf",
   "metadata": {},
   "outputs": [
    {
     "name": "stdout",
     "output_type": "stream",
     "text": [
      "GET request to http://127.0.0.1:8000/groups/ successful.\n",
      "{'count': 0, 'next': None, 'previous': None, 'results': []}\n",
      "GET request to http://127.0.0.1:8000/groups/1/ failed with status code: 404\n",
      "GET request to http://127.0.0.1:8000/home/ successful.\n",
      "{'count': 0, 'next': None, 'previous': None, 'results': []}\n",
      "GET request to http://127.0.0.1:8000/home/1/ failed with status code: 404\n",
      "GET request to http://127.0.0.1:8000/users/ successful.\n",
      "{'count': 1, 'next': None, 'previous': None, 'results': [{'url': 'http://127.0.0.1:8000/users/1/', 'username': 'A01660987', 'email': 'A01660987@tec.mx', 'groups': []}]}\n",
      "GET request to http://127.0.0.1:8000/users/1/ successful.\n",
      "{'url': 'http://127.0.0.1:8000/users/1/', 'username': 'A01660987', 'email': 'A01660987@tec.mx', 'groups': []}\n"
     ]
    }
   ],
   "source": [
    "import requests\n",
    "\n",
    "base_url = \"http://127.0.0.1:8000\"\n",
    "\n",
    "endpoints = [\n",
    "    \"/groups/\",\n",
    "    \"/groups/1/\",\n",
    "    \"/home/\",\n",
    "    \"/home/1/\",\n",
    "    \"/users/\",\n",
    "    \"/users/1/\"\n",
    "]\n",
    "\n",
    "for endpoint in endpoints:\n",
    "    url = f\"{base_url}{endpoint}\"\n",
    "    response = requests.get(url, auth=('A01660987', 'password'))\n",
    "    if response.status_code == 200:\n",
    "        data = response.json()\n",
    "        print(f\"GET request to {url} successful.\")\n",
    "        print(data)\n",
    "    else:\n",
    "        print(f\"GET request to {url} failed with status code: {response.status_code}\")"
   ]
  },
  {
   "cell_type": "markdown",
   "id": "7bf69ac5-4460-4167-a027-5a8a9164ef9b",
   "metadata": {},
   "source": [
    "Prueba de API"
   ]
  },
  {
   "cell_type": "code",
   "execution_count": 16,
   "id": "68ea1412-3893-42fd-923a-e795904e82a8",
   "metadata": {},
   "outputs": [
    {
     "name": "stdout",
     "output_type": "stream",
     "text": [
      "<Response [200]>\n"
     ]
    }
   ],
   "source": [
    "api_url = \"http://127.0.0.1:8000/api/schema/\"\n",
    "response = requests.get(api_url)\n",
    "print(response)"
   ]
  },
  {
   "cell_type": "code",
   "execution_count": 25,
   "id": "25e980e8-8acd-4658-a019-34da0c28b6fb",
   "metadata": {},
   "outputs": [
    {
     "name": "stdout",
     "output_type": "stream",
     "text": [
      "<Response [200]>\n"
     ]
    }
   ],
   "source": [
    "api_url = \"http://127.0.0.1:8000/api/schema/swagger-ui/\"\n",
    "response = requests.get(api_url)\n",
    "print(response)"
   ]
  },
  {
   "cell_type": "code",
   "execution_count": 26,
   "id": "7dec96cf-fd98-4982-b27f-4f9c6a99c45b",
   "metadata": {},
   "outputs": [
    {
     "name": "stdout",
     "output_type": "stream",
     "text": [
      "<Response [200]>\n"
     ]
    }
   ],
   "source": [
    "api_url = \"http://127.0.0.1:8000/api/schema/redoc/\"\n",
    "response = requests.get(api_url)\n",
    "print(response)"
   ]
  },
  {
   "cell_type": "code",
   "execution_count": null,
   "id": "de399bdc-210b-4411-a44a-e267411e6865",
   "metadata": {},
   "outputs": [],
   "source": []
  }
 ],
 "metadata": {
  "kernelspec": {
   "display_name": "Python 3 (ipykernel)",
   "language": "python",
   "name": "python3"
  },
  "language_info": {
   "codemirror_mode": {
    "name": "ipython",
    "version": 3
   },
   "file_extension": ".py",
   "mimetype": "text/x-python",
   "name": "python",
   "nbconvert_exporter": "python",
   "pygments_lexer": "ipython3",
   "version": "3.11.2"
  }
 },
 "nbformat": 4,
 "nbformat_minor": 5
}
