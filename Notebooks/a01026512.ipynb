{
 "cells": [
  {
   "cell_type": "markdown",
   "id": "b7e7a6e0",
   "metadata": {},
   "source": [
    "# Diego Esteban Zepeda Ceballos"
   ]
  },
  {
   "cell_type": "code",
   "execution_count": 2,
   "id": "42a3c35d",
   "metadata": {},
   "outputs": [
    {
     "name": "stdout",
     "output_type": "stream",
     "text": [
      "Diego\n"
     ]
    }
   ],
   "source": [
    "print(\"Diego\")"
   ]
  },
  {
   "cell_type": "code",
   "execution_count": 2,
   "id": "3fa26c65",
   "metadata": {},
   "outputs": [
    {
     "name": "stdout",
     "output_type": "stream",
     "text": [
      "Requirement already satisfied: pip in /Users/ilest/Library/CloudStorage/OneDrive-Personal/Documentos/Programacion/GitHub/Tec/TC2007B_IntSegInfRedSisSof_BE/virtualEnv/lib/python3.11/site-packages (23.2.1)\n",
      "Requirement already satisfied: numpy in /Users/ilest/Library/CloudStorage/OneDrive-Personal/Documentos/Programacion/GitHub/Tec/TC2007B_IntSegInfRedSisSof_BE/virtualEnv/lib/python3.11/site-packages (1.25.2)\n",
      "Requirement already satisfied: requests in /Users/ilest/Library/CloudStorage/OneDrive-Personal/Documentos/Programacion/GitHub/Tec/TC2007B_IntSegInfRedSisSof_BE/virtualEnv/lib/python3.11/site-packages (2.31.0)\n",
      "Requirement already satisfied: charset-normalizer<4,>=2 in /Users/ilest/Library/CloudStorage/OneDrive-Personal/Documentos/Programacion/GitHub/Tec/TC2007B_IntSegInfRedSisSof_BE/virtualEnv/lib/python3.11/site-packages (from requests) (3.2.0)\n",
      "Requirement already satisfied: idna<4,>=2.5 in /Users/ilest/Library/CloudStorage/OneDrive-Personal/Documentos/Programacion/GitHub/Tec/TC2007B_IntSegInfRedSisSof_BE/virtualEnv/lib/python3.11/site-packages (from requests) (3.4)\n",
      "Requirement already satisfied: urllib3<3,>=1.21.1 in /Users/ilest/Library/CloudStorage/OneDrive-Personal/Documentos/Programacion/GitHub/Tec/TC2007B_IntSegInfRedSisSof_BE/virtualEnv/lib/python3.11/site-packages (from requests) (2.0.4)\n",
      "Requirement already satisfied: certifi>=2017.4.17 in /Users/ilest/Library/CloudStorage/OneDrive-Personal/Documentos/Programacion/GitHub/Tec/TC2007B_IntSegInfRedSisSof_BE/virtualEnv/lib/python3.11/site-packages (from requests) (2023.7.22)\n"
     ]
    }
   ],
   "source": [
    "import sys\n",
    "!{sys .executable} -m pip install --upgrade pip\n",
    "!{sys.executable} -m pip install numpy\n",
    "!{sys .executable} -m pip install requests\n",
    "import requests"
   ]
  },
  {
   "cell_type": "code",
   "execution_count": 27,
   "id": "498fd38b",
   "metadata": {},
   "outputs": [
    {
     "data": {
      "text/plain": [
       "{'count': 1,\n",
       " 'next': None,\n",
       " 'previous': None,\n",
       " 'results': [{'url': 'http://127.0.0.1:8000/users/2/',\n",
       "   'username': 'a01026512',\n",
       "   'email': 'a01026512@tec.mx',\n",
       "   'groups': []}]}"
      ]
     },
     "execution_count": 27,
     "metadata": {},
     "output_type": "execute_result"
    }
   ],
   "source": [
    "api_url = \"http://127.0.0.1:8000/users/\"\n",
    "response = requests.get(api_url, auth=('a01026512', 'password'))\n",
    "response.json()"
   ]
  },
  {
   "cell_type": "markdown",
   "id": "5a5cce03",
   "metadata": {},
   "source": []
  },
  {
   "cell_type": "code",
   "execution_count": 33,
   "id": "df0f2c28",
   "metadata": {},
   "outputs": [
    {
     "name": "stdout",
     "output_type": "stream",
     "text": [
      "<Response [200]>\n"
     ]
    }
   ],
   "source": [
    "api_url = \"http://127.0.0.1:8000/api/schema/\"\n",
    "response = requests.get(api_url)\n",
    "print(response)"
   ]
  },
  {
   "cell_type": "code",
   "execution_count": 30,
   "id": "9d82b507",
   "metadata": {},
   "outputs": [
    {
     "name": "stdout",
     "output_type": "stream",
     "text": [
      "<Response [200]>\n"
     ]
    }
   ],
   "source": [
    "api_url = \"http://127.0.0.1:8000/api/schema/swagger/\"\n",
    "response = requests.get(api_url)\n",
    "print(response)"
   ]
  },
  {
   "cell_type": "code",
   "execution_count": 8,
   "id": "9190f42a",
   "metadata": {},
   "outputs": [
    {
     "name": "stdout",
     "output_type": "stream",
     "text": [
      "<Response [200]>\n"
     ]
    }
   ],
   "source": [
    "api_url = \"http://127.0.0.1:8000/api/schema/redoc/\"\n",
    "response = requests.get(api_url)\n",
    "print(response)"
   ]
  },
  {
   "cell_type": "code",
   "execution_count": 37,
   "id": "0cb6c38f",
   "metadata": {},
   "outputs": [
    {
     "name": "stdout",
     "output_type": "stream",
     "text": [
      "GET request to http://127.0.0.1:8000/users/ failed with status code: 403\n",
      "GET request to http://127.0.0.1:8000/users/1/ failed with status code: 403\n",
      "GET request to http://127.0.0.1:8000/groups/ failed with status code: 403\n",
      "GET request to http://127.0.0.1:8000/groups/1/ failed with status code: 403\n",
      "GET request to http://127.0.0.1:8000/nft/ failed with status code: 403\n",
      "GET request to http://127.0.0.1:8000/nft/1/ failed with status code: 403\n"
     ]
    }
   ],
   "source": [
    "base_url = \"http://127.0.0.1:8000\"\n",
    "\n",
    "endpoints = [\n",
    "    \"/users/\",\n",
    "    \"/users/1/\",\n",
    "    \"/groups/\",\n",
    "    \"/groups/1/\",\n",
    "    \"/nft/\",\n",
    "    \"/nft/1/\",\n",
    "]\n",
    "\n",
    "for endpoint in endpoints:\n",
    "    url = f\"{base_url}{endpoint}\"\n",
    "    response = requests.get(url, auth=('A01026512', 'a01026512DEZC'))\n",
    "    \n",
    "    if response.status_code == 200:\n",
    "        data = response.json()\n",
    "        print(f\"GET request to {url} successful.\")\n",
    "        print(data)\n",
    "    else:\n",
    "        print(f\"GET request to {url} failed with status code: {response.status_code}\")"
   ]
  }
 ],
 "metadata": {
  "kernelspec": {
   "display_name": "Python 3 (ipykernel)",
   "language": "python",
   "name": "python3"
  },
  "language_info": {
   "codemirror_mode": {
    "name": "ipython",
    "version": 3
   },
   "file_extension": ".py",
   "mimetype": "text/x-python",
   "name": "python",
   "nbconvert_exporter": "python",
   "pygments_lexer": "ipython3",
   "version": "3.11.5"
  }
 },
 "nbformat": 4,
 "nbformat_minor": 5
}
