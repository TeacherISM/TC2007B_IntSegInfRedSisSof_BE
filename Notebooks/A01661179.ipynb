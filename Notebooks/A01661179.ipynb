{
 "cells": [
  {
   "cell_type": "markdown",
   "id": "0d7a730d-7d1c-4256-bb46-d1a021ffda8b",
   "metadata": {},
   "source": [
    "# Sebastián Íñigo López"
   ]
  },
  {
   "cell_type": "code",
   "execution_count": 1,
   "id": "f2034fba-c3e4-4544-9304-558d04b69476",
   "metadata": {},
   "outputs": [
    {
     "name": "stdout",
     "output_type": "stream",
     "text": [
      "Al final si me corrio el notebook\n"
     ]
    }
   ],
   "source": [
    "print(\"Al final si me corrio el notebook\")"
   ]
  },
  {
   "cell_type": "code",
   "execution_count": 2,
   "id": "fac38c6c-90ed-4a52-a9c6-19e3aa0d5f1f",
   "metadata": {},
   "outputs": [
    {
     "name": "stdout",
     "output_type": "stream",
     "text": [
      "Sebastian\n",
      "Iñigo\n",
      "Lopez\n"
     ]
    }
   ],
   "source": [
    "yo = [\"Sebastian\", \"Iñigo\", \"Lopez\"]\n",
    "\n",
    "for name in yo:\n",
    "    print(name)"
   ]
  },
  {
   "cell_type": "code",
   "execution_count": 1,
   "id": "1d8739ea-bbeb-4a5a-b308-4058081240c8",
   "metadata": {},
   "outputs": [
    {
     "data": {
      "text/plain": [
       "{'count': 1,\n",
       " 'next': None,\n",
       " 'previous': None,\n",
       " 'results': [{'url': 'http://127.0.0.1:8000/users/1/',\n",
       "   'username': 'A01661179',\n",
       "   'email': 'A01661179@tec.mx',\n",
       "   'groups': []}]}"
      ]
     },
     "execution_count": 1,
     "metadata": {},
     "output_type": "execute_result"
    }
   ],
   "source": [
    "import sys, json\n",
    "import requests\n",
    "api_url = \"http://127.0.0.1:8000/users/\"\n",
    "response = requests.get(api_url, auth=('A01661179','password'))\n",
    "response.json()"
   ]
  },
  {
   "cell_type": "code",
   "execution_count": 2,
   "id": "f8abc8cb-5136-4583-b30b-8a3e58e8f94d",
   "metadata": {},
   "outputs": [
    {
     "data": {
      "text/plain": [
       "{'count': 0, 'next': None, 'previous': None, 'results': []}"
      ]
     },
     "execution_count": 2,
     "metadata": {},
     "output_type": "execute_result"
    }
   ],
   "source": [
    "api_url = \"http://localhost:8000/userApp\"\n",
    "response = requests.get(api_url, auth=('A01661179','password'))\n",
    "response.json()"
   ]
  },
  {
   "cell_type": "code",
   "execution_count": 4,
   "id": "5bd5b174-8bf7-4079-bcad-5283c029fccf",
   "metadata": {},
   "outputs": [
    {
     "name": "stdout",
     "output_type": "stream",
     "text": [
      "Solicitud Aceptada a http://localhost:8000/groups/. Código de estado: 200\n",
      "Error en la solicitud a http://localhost:8000/groups/1/. Código de estado: 404\n",
      "Solicitud Aceptada a http://localhost:8000/users/. Código de estado: 200\n",
      "Solicitud Aceptada a http://localhost:8000/users/1/. Código de estado: 200\n",
      "Solicitud Aceptada a http://localhost:8000/userApp/. Código de estado: 200\n",
      "Error en la solicitud a http://localhost:8000/userApp/1/. Código de estado: 404\n"
     ]
    }
   ],
   "source": [
    "base_url = \"http://localhost:8000\"\n",
    "\n",
    "endpoints = [\n",
    "    \"/groups/\",\n",
    "    \"/groups/1/\",\n",
    "    \"/users/\",\n",
    "    \"/users/1/\",\n",
    "    \"/userApp/\",\n",
    "    \"/userApp/1/\",\n",
    "]\n",
    "\n",
    "for endpoint in endpoints:\n",
    "    url = f\"{base_url}{endpoint}\"\n",
    "    response = requests.get(url, auth=('A01661179','password'))\n",
    "\n",
    "    if response.status_code == 200:\n",
    "        print(f\"Solicitud Aceptada a {url}. Código de estado: {response.status_code}\")\n",
    "    else:\n",
    "        print(f\"Error en la solicitud a {url}. Código de estado: {response.status_code}\")"
   ]
  },
  {
   "cell_type": "code",
   "execution_count": 5,
   "id": "eb6a7be5-ce89-4751-8e65-37e72d60c840",
   "metadata": {},
   "outputs": [
    {
     "name": "stdout",
     "output_type": "stream",
     "text": [
      "<Response [200]>\n",
      "<Response [200]>\n"
     ]
    }
   ],
   "source": [
    "api_url = \"http://localhost:8000/api/schema/swagger-ui\"\n",
    "response = requests.get(api_url)\n",
    "print(response)\n",
    "api_url = \"http://localhost:8000/api/schema/redoc\"\n",
    "response = requests.get(api_url)\n",
    "print(response)"
   ]
  },
  {
   "cell_type": "code",
   "execution_count": null,
   "id": "7f843ccf-1e28-4d09-a3e4-23e485379ff7",
   "metadata": {},
   "outputs": [],
   "source": []
  }
 ],
 "metadata": {
  "kernelspec": {
   "display_name": "Python 3 (ipykernel)",
   "language": "python",
   "name": "python3"
  },
  "language_info": {
   "codemirror_mode": {
    "name": "ipython",
    "version": 3
   },
   "file_extension": ".py",
   "mimetype": "text/x-python",
   "name": "python",
   "nbconvert_exporter": "python",
   "pygments_lexer": "ipython3",
   "version": "3.10.3"
  }
 },
 "nbformat": 4,
 "nbformat_minor": 5
}
