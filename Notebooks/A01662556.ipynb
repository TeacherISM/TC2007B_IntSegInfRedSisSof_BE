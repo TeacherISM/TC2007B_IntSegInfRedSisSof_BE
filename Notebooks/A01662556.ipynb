{
 "cells": [
  {
   "cell_type": "markdown",
   "metadata": {},
   "source": [
    "# Iván Santiago Hernández Mendoza"
   ]
  },
  {
   "cell_type": "markdown",
   "metadata": {},
   "source": [
    "Notebook para información referente a BackEnd"
   ]
  },
  {
   "cell_type": "code",
   "execution_count": 3,
   "metadata": {},
   "outputs": [
    {
     "name": "stdout",
     "output_type": "stream",
     "text": [
      "Hola mundo\n"
     ]
    }
   ],
   "source": [
    "print(\"Hola mundo\")"
   ]
  },
  {
   "cell_type": "code",
   "execution_count": 4,
   "metadata": {},
   "outputs": [
    {
     "name": "stdout",
     "output_type": "stream",
     "text": [
      "3\n"
     ]
    }
   ],
   "source": [
    "A = 1\n",
    "B = 2\n",
    "C = A + B\n",
    "print(C)\n"
   ]
  },
  {
   "cell_type": "code",
   "execution_count": 1,
   "metadata": {},
   "outputs": [
    {
     "name": "stdout",
     "output_type": "stream",
     "text": [
      "Requirement already satisfied: pip in c:\\users\\isant\\anaconda3\\envs\\sel4c\\lib\\site-packages (23.2.1)\n",
      "Collecting numpy\n",
      "  Obtaining dependency information for numpy from https://files.pythonhosted.org/packages/72/b2/02770e60c4e2f7e158d923ab0dea4e9f146a2dbf267fec6d8dc61d475689/numpy-1.25.2-cp311-cp311-win_amd64.whl.metadata\n",
      "  Downloading numpy-1.25.2-cp311-cp311-win_amd64.whl.metadata (5.7 kB)\n",
      "Downloading numpy-1.25.2-cp311-cp311-win_amd64.whl (15.5 MB)\n",
      "   ---------------------------------------- 0.0/15.5 MB ? eta -:--:--\n",
      "   ---------------------------------------- 0.0/15.5 MB ? eta -:--:--\n",
      "   ---------------------------------------- 0.0/15.5 MB ? eta -:--:--\n",
      "   ---------------------------------------- 0.0/15.5 MB 326.8 kB/s eta 0:00:48\n",
      "   ---------------------------------------- 0.0/15.5 MB 326.8 kB/s eta 0:00:48\n",
      "   ---------------------------------------- 0.2/15.5 MB 762.6 kB/s eta 0:00:21\n",
      "   ---------------------------------------- 0.2/15.5 MB 762.6 kB/s eta 0:00:21\n",
      "    --------------------------------------- 0.3/15.5 MB 999.9 kB/s eta 0:00:16\n",
      "    --------------------------------------- 0.3/15.5 MB 999.9 kB/s eta 0:00:16\n",
      "   - -------------------------------------- 0.5/15.5 MB 1.1 MB/s eta 0:00:14\n",
      "   - -------------------------------------- 0.5/15.5 MB 1.1 MB/s eta 0:00:14\n",
      "   - -------------------------------------- 0.6/15.5 MB 1.2 MB/s eta 0:00:13\n",
      "   - -------------------------------------- 0.6/15.5 MB 1.3 MB/s eta 0:00:12\n",
      "   - -------------------------------------- 0.6/15.5 MB 1.3 MB/s eta 0:00:12\n",
      "   -- ------------------------------------- 0.8/15.5 MB 1.3 MB/s eta 0:00:12\n",
      "   -- ------------------------------------- 0.8/15.5 MB 1.3 MB/s eta 0:00:12\n",
      "   -- ------------------------------------- 1.0/15.5 MB 1.4 MB/s eta 0:00:11\n",
      "   -- ------------------------------------- 1.0/15.5 MB 1.4 MB/s eta 0:00:11\n",
      "   --- ------------------------------------ 1.2/15.5 MB 1.5 MB/s eta 0:00:10\n",
      "   --- ------------------------------------ 1.2/15.5 MB 1.5 MB/s eta 0:00:10\n",
      "   --- ------------------------------------ 1.4/15.5 MB 1.5 MB/s eta 0:00:10\n",
      "   --- ------------------------------------ 1.4/15.5 MB 1.5 MB/s eta 0:00:10\n",
      "   ---- ----------------------------------- 1.6/15.5 MB 1.6 MB/s eta 0:00:09\n",
      "   ---- ----------------------------------- 1.6/15.5 MB 1.6 MB/s eta 0:00:09\n",
      "   ---- ----------------------------------- 1.9/15.5 MB 1.6 MB/s eta 0:00:09\n",
      "   ---- ----------------------------------- 1.9/15.5 MB 1.6 MB/s eta 0:00:09\n",
      "   ---- ----------------------------------- 1.9/15.5 MB 1.5 MB/s eta 0:00:09\n",
      "   ----- ---------------------------------- 2.1/15.5 MB 1.7 MB/s eta 0:00:08\n",
      "   ----- ---------------------------------- 2.3/15.5 MB 1.7 MB/s eta 0:00:08\n",
      "   ------ --------------------------------- 2.3/15.5 MB 1.8 MB/s eta 0:00:08\n",
      "   ------ --------------------------------- 2.3/15.5 MB 1.8 MB/s eta 0:00:08\n",
      "   ------ --------------------------------- 2.6/15.5 MB 1.8 MB/s eta 0:00:08\n",
      "   ------ --------------------------------- 2.6/15.5 MB 1.8 MB/s eta 0:00:08\n",
      "   ------- -------------------------------- 2.9/15.5 MB 1.9 MB/s eta 0:00:07\n",
      "   ------- -------------------------------- 2.9/15.5 MB 1.9 MB/s eta 0:00:07\n",
      "   -------- ------------------------------- 3.2/15.5 MB 1.9 MB/s eta 0:00:07\n",
      "   -------- ------------------------------- 3.2/15.5 MB 1.9 MB/s eta 0:00:07\n",
      "   -------- ------------------------------- 3.5/15.5 MB 2.0 MB/s eta 0:00:07\n",
      "   -------- ------------------------------- 3.5/15.5 MB 2.0 MB/s eta 0:00:07\n",
      "   --------- ------------------------------ 3.8/15.5 MB 2.1 MB/s eta 0:00:06\n",
      "   --------- ------------------------------ 3.8/15.5 MB 2.1 MB/s eta 0:00:06\n",
      "   ---------- ----------------------------- 4.1/15.5 MB 2.1 MB/s eta 0:00:06\n",
      "   ---------- ----------------------------- 4.1/15.5 MB 2.1 MB/s eta 0:00:06\n",
      "   ----------- ---------------------------- 4.5/15.5 MB 2.2 MB/s eta 0:00:06\n",
      "   ----------- ---------------------------- 4.5/15.5 MB 2.2 MB/s eta 0:00:06\n",
      "   ------------ --------------------------- 4.8/15.5 MB 2.3 MB/s eta 0:00:05\n",
      "   ------------ --------------------------- 4.8/15.5 MB 2.3 MB/s eta 0:00:05\n",
      "   ------------ --------------------------- 4.8/15.5 MB 2.3 MB/s eta 0:00:05\n",
      "   ------------- -------------------------- 5.2/15.5 MB 2.3 MB/s eta 0:00:05\n",
      "   ------------- -------------------------- 5.2/15.5 MB 2.3 MB/s eta 0:00:05\n",
      "   -------------- ------------------------- 5.6/15.5 MB 2.4 MB/s eta 0:00:05\n",
      "   -------------- ------------------------- 5.6/15.5 MB 2.4 MB/s eta 0:00:05\n",
      "   --------------- ------------------------ 6.1/15.5 MB 2.5 MB/s eta 0:00:04\n",
      "   --------------- ------------------------ 6.1/15.5 MB 2.5 MB/s eta 0:00:04\n",
      "   --------------- ------------------------ 6.1/15.5 MB 2.5 MB/s eta 0:00:04\n",
      "   ---------------- ----------------------- 6.5/15.5 MB 2.5 MB/s eta 0:00:04\n",
      "   ---------------- ----------------------- 6.5/15.5 MB 2.5 MB/s eta 0:00:04\n",
      "   ----------------- ---------------------- 7.0/15.5 MB 2.6 MB/s eta 0:00:04\n",
      "   ----------------- ---------------------- 7.0/15.5 MB 2.6 MB/s eta 0:00:04\n",
      "   ------------------- -------------------- 7.5/15.5 MB 2.7 MB/s eta 0:00:03\n",
      "   ------------------- -------------------- 7.5/15.5 MB 2.7 MB/s eta 0:00:03\n",
      "   -------------------- ------------------- 8.0/15.5 MB 2.8 MB/s eta 0:00:03\n",
      "   -------------------- ------------------- 8.0/15.5 MB 2.8 MB/s eta 0:00:03\n",
      "   --------------------- ------------------ 8.6/15.5 MB 2.9 MB/s eta 0:00:03\n",
      "   --------------------- ------------------ 8.6/15.5 MB 2.9 MB/s eta 0:00:03\n",
      "   ---------------------- ----------------- 8.9/15.5 MB 2.9 MB/s eta 0:00:03\n",
      "   ----------------------- ---------------- 9.1/15.5 MB 3.0 MB/s eta 0:00:03\n",
      "   ----------------------- ---------------- 9.1/15.5 MB 3.0 MB/s eta 0:00:03\n",
      "   ------------------------- -------------- 9.7/15.5 MB 3.1 MB/s eta 0:00:02\n",
      "   ------------------------- -------------- 9.7/15.5 MB 3.1 MB/s eta 0:00:02\n",
      "   -------------------------- ------------- 10.3/15.5 MB 3.3 MB/s eta 0:00:02\n",
      "   -------------------------- ------------- 10.3/15.5 MB 3.3 MB/s eta 0:00:02\n",
      "   ---------------------------- ----------- 11.0/15.5 MB 3.7 MB/s eta 0:00:02\n",
      "   ---------------------------- ----------- 11.0/15.5 MB 3.7 MB/s eta 0:00:02\n",
      "   ------------------------------ --------- 11.7/15.5 MB 4.1 MB/s eta 0:00:01\n",
      "   ------------------------------ --------- 11.7/15.5 MB 4.1 MB/s eta 0:00:01\n",
      "   ------------------------------ --------- 11.9/15.5 MB 4.1 MB/s eta 0:00:01\n",
      "   ------------------------------- -------- 12.4/15.5 MB 4.5 MB/s eta 0:00:01\n",
      "   ------------------------------- -------- 12.4/15.5 MB 4.5 MB/s eta 0:00:01\n",
      "   --------------------------------- ------ 13.2/15.5 MB 5.0 MB/s eta 0:00:01\n",
      "   --------------------------------- ------ 13.2/15.5 MB 5.0 MB/s eta 0:00:01\n",
      "   ------------------------------------ --- 14.0/15.5 MB 5.2 MB/s eta 0:00:01\n",
      "   ------------------------------------ --- 14.0/15.5 MB 5.2 MB/s eta 0:00:01\n",
      "   -------------------------------------- - 14.8/15.5 MB 5.8 MB/s eta 0:00:01\n",
      "   -------------------------------------- - 14.8/15.5 MB 5.8 MB/s eta 0:00:01\n",
      "   ---------------------------------------  15.5/15.5 MB 6.2 MB/s eta 0:00:01\n",
      "   ---------------------------------------  15.5/15.5 MB 6.2 MB/s eta 0:00:01\n",
      "   ---------------------------------------  15.5/15.5 MB 6.2 MB/s eta 0:00:01\n",
      "   ---------------------------------------- 15.5/15.5 MB 5.7 MB/s eta 0:00:00\n",
      "Installing collected packages: numpy\n",
      "Successfully installed numpy-1.25.2\n",
      "Collecting requests\n",
      "  Obtaining dependency information for requests from https://files.pythonhosted.org/packages/70/8e/0e2d847013cb52cd35b38c009bb167a1a26b2ce6cd6965bf26b47bc0bf44/requests-2.31.0-py3-none-any.whl.metadata\n",
      "  Downloading requests-2.31.0-py3-none-any.whl.metadata (4.6 kB)\n",
      "Collecting charset-normalizer<4,>=2 (from requests)\n",
      "  Obtaining dependency information for charset-normalizer<4,>=2 from https://files.pythonhosted.org/packages/91/6e/db0e545302bf93b6dbbdc496dd192c7f8e8c3bb1584acba069256d8b51d4/charset_normalizer-3.2.0-cp311-cp311-win_amd64.whl.metadata\n",
      "  Downloading charset_normalizer-3.2.0-cp311-cp311-win_amd64.whl.metadata (31 kB)\n",
      "Requirement already satisfied: idna<4,>=2.5 in c:\\users\\isant\\anaconda3\\envs\\sel4c\\lib\\site-packages (from requests) (3.4)\n",
      "Collecting urllib3<3,>=1.21.1 (from requests)\n",
      "  Obtaining dependency information for urllib3<3,>=1.21.1 from https://files.pythonhosted.org/packages/9b/81/62fd61001fa4b9d0df6e31d47ff49cfa9de4af03adecf339c7bc30656b37/urllib3-2.0.4-py3-none-any.whl.metadata\n",
      "  Downloading urllib3-2.0.4-py3-none-any.whl.metadata (6.6 kB)\n",
      "Collecting certifi>=2017.4.17 (from requests)\n",
      "  Obtaining dependency information for certifi>=2017.4.17 from https://files.pythonhosted.org/packages/4c/dd/2234eab22353ffc7d94e8d13177aaa050113286e93e7b40eae01fbf7c3d9/certifi-2023.7.22-py3-none-any.whl.metadata\n",
      "  Downloading certifi-2023.7.22-py3-none-any.whl.metadata (2.2 kB)\n",
      "Using cached requests-2.31.0-py3-none-any.whl (62 kB)\n",
      "Downloading certifi-2023.7.22-py3-none-any.whl (158 kB)\n",
      "   ---------------------------------------- 0.0/158.3 kB ? eta -:--:--\n",
      "   ---------------------------------------- 0.0/158.3 kB ? eta -:--:--\n",
      "   ---------------------------------------- 0.0/158.3 kB ? eta -:--:--\n",
      "   -- ------------------------------------- 10.2/158.3 kB ? eta -:--:--\n",
      "   -- ------------------------------------- 10.2/158.3 kB ? eta -:--:--\n",
      "   ------- ------------------------------- 30.7/158.3 kB 217.9 kB/s eta 0:00:01\n",
      "   ------- ------------------------------- 30.7/158.3 kB 217.9 kB/s eta 0:00:01\n",
      "   ------- ------------------------------- 30.7/158.3 kB 217.9 kB/s eta 0:00:01\n",
      "   ------- ------------------------------- 30.7/158.3 kB 217.9 kB/s eta 0:00:01\n",
      "   ------- ------------------------------- 30.7/158.3 kB 217.9 kB/s eta 0:00:01\n",
      "   ------- ------------------------------- 30.7/158.3 kB 217.9 kB/s eta 0:00:01\n",
      "   ------- ------------------------------- 30.7/158.3 kB 217.9 kB/s eta 0:00:01\n",
      "   ------- ------------------------------- 30.7/158.3 kB 217.9 kB/s eta 0:00:01\n",
      "   ------- ------------------------------- 30.7/158.3 kB 217.9 kB/s eta 0:00:01\n",
      "   ------- ------------------------------- 30.7/158.3 kB 217.9 kB/s eta 0:00:01\n",
      "   ------- ------------------------------- 30.7/158.3 kB 217.9 kB/s eta 0:00:01\n",
      "   ------- ------------------------------- 30.7/158.3 kB 217.9 kB/s eta 0:00:01\n",
      "   ------- ------------------------------- 30.7/158.3 kB 217.9 kB/s eta 0:00:01\n",
      "   ---------- ----------------------------- 41.0/158.3 kB 43.7 kB/s eta 0:00:03\n",
      "   ---------- ----------------------------- 41.0/158.3 kB 43.7 kB/s eta 0:00:03\n",
      "   --------------- ------------------------ 61.4/158.3 kB 63.1 kB/s eta 0:00:02\n",
      "   --------------- ------------------------ 61.4/158.3 kB 63.1 kB/s eta 0:00:02\n",
      "   --------------- ------------------------ 61.4/158.3 kB 63.1 kB/s eta 0:00:02\n",
      "   --------------- ------------------------ 61.4/158.3 kB 63.1 kB/s eta 0:00:02\n",
      "   --------------- ------------------------ 61.4/158.3 kB 63.1 kB/s eta 0:00:02\n",
      "   ------------------ --------------------- 71.7/158.3 kB 59.6 kB/s eta 0:00:02\n",
      "   ------------------ --------------------- 71.7/158.3 kB 59.6 kB/s eta 0:00:02\n",
      "   ------------------ --------------------- 71.7/158.3 kB 59.6 kB/s eta 0:00:02\n",
      "   ------------------ --------------------- 71.7/158.3 kB 59.6 kB/s eta 0:00:02\n",
      "   ------------------ --------------------- 71.7/158.3 kB 59.6 kB/s eta 0:00:02\n",
      "   ------------------ --------------------- 71.7/158.3 kB 59.6 kB/s eta 0:00:02\n",
      "   ------------------ --------------------- 71.7/158.3 kB 59.6 kB/s eta 0:00:02\n",
      "   ------------------ --------------------- 71.7/158.3 kB 59.6 kB/s eta 0:00:02\n",
      "   ----------------------- ---------------- 92.2/158.3 kB 57.0 kB/s eta 0:00:02\n",
      "   ----------------------- ---------------- 92.2/158.3 kB 57.0 kB/s eta 0:00:02\n",
      "   ----------------------- ---------------- 92.2/158.3 kB 57.0 kB/s eta 0:00:02\n",
      "   ----------------------- ---------------- 92.2/158.3 kB 57.0 kB/s eta 0:00:02\n",
      "   ----------------------- ---------------- 92.2/158.3 kB 57.0 kB/s eta 0:00:02\n",
      "   ----------------------- ---------------- 92.2/158.3 kB 57.0 kB/s eta 0:00:02\n",
      "   ----------------------- ---------------- 92.2/158.3 kB 57.0 kB/s eta 0:00:02\n",
      "   --------------------------- ----------- 112.6/158.3 kB 58.5 kB/s eta 0:00:01\n",
      "   --------------------------- ----------- 112.6/158.3 kB 58.5 kB/s eta 0:00:01\n",
      "   --------------------------- ----------- 112.6/158.3 kB 58.5 kB/s eta 0:00:01\n",
      "   --------------------------- ----------- 112.6/158.3 kB 58.5 kB/s eta 0:00:01\n",
      "   ------------------------------ -------- 122.9/158.3 kB 57.7 kB/s eta 0:00:01\n",
      "   ------------------------------ -------- 122.9/158.3 kB 57.7 kB/s eta 0:00:01\n",
      "   ------------------------------ -------- 122.9/158.3 kB 57.7 kB/s eta 0:00:01\n",
      "   ------------------------------ -------- 122.9/158.3 kB 57.7 kB/s eta 0:00:01\n",
      "   ------------------------------ -------- 122.9/158.3 kB 57.7 kB/s eta 0:00:01\n",
      "   ------------------------------ -------- 122.9/158.3 kB 57.7 kB/s eta 0:00:01\n",
      "   ------------------------------ -------- 122.9/158.3 kB 57.7 kB/s eta 0:00:01\n",
      "   ------------------------------ -------- 122.9/158.3 kB 57.7 kB/s eta 0:00:01\n",
      "   ------------------------------ -------- 122.9/158.3 kB 57.7 kB/s eta 0:00:01\n",
      "   ----------------------------------- --- 143.4/158.3 kB 56.4 kB/s eta 0:00:01\n",
      "   ----------------------------------- --- 143.4/158.3 kB 56.4 kB/s eta 0:00:01\n",
      "   ----------------------------------- --- 143.4/158.3 kB 56.4 kB/s eta 0:00:01\n",
      "   ----------------------------------- --- 143.4/158.3 kB 56.4 kB/s eta 0:00:01\n",
      "   --------------------------------------- 158.3/158.3 kB 57.4 kB/s eta 0:00:00\n",
      "Using cached charset_normalizer-3.2.0-cp311-cp311-win_amd64.whl (96 kB)\n",
      "Using cached urllib3-2.0.4-py3-none-any.whl (123 kB)\n",
      "Installing collected packages: urllib3, charset-normalizer, certifi, requests\n",
      "Successfully installed certifi-2023.7.22 charset-normalizer-3.2.0 requests-2.31.0 urllib3-2.0.4\n"
     ]
    }
   ],
   "source": [
    "import sys\n",
    "!{sys.executable} -m pip install --upgrade pip\n",
    "!{sys.executable} -m pip install numpy\n",
    "!{sys.executable} -m pip install requests\n",
    "import requests"
   ]
  },
  {
   "cell_type": "code",
   "execution_count": 10,
   "metadata": {},
   "outputs": [
    {
     "data": {
      "text/plain": [
       "{'count': 1,\n",
       " 'next': None,\n",
       " 'previous': None,\n",
       " 'results': [{'url': 'http://127.0.0.1:8000/users/1/',\n",
       "   'username': 'A01662556',\n",
       "   'email': 'A01662556@tec.mx',\n",
       "   'groups': []}]}"
      ]
     },
     "execution_count": 10,
     "metadata": {},
     "output_type": "execute_result"
    }
   ],
   "source": [
    "api_url = \"http://127.0.0.1:8000/users/\"\n",
    "response = requests.get(api_url, auth=('A01662556', 'django040903'))\n",
    "response.json()"
   ]
  },
  {
   "cell_type": "markdown",
   "metadata": {},
   "source": [
    "## Clase 3\n"
   ]
  },
  {
   "cell_type": "code",
   "execution_count": 1,
   "metadata": {},
   "outputs": [
    {
     "name": "stdout",
     "output_type": "stream",
     "text": [
      "Requirement already satisfied: pip in c:\\users\\isant\\anaconda3\\envs\\sel4c\\lib\\site-packages (23.2.1)\n",
      "Requirement already satisfied: requests in c:\\users\\isant\\anaconda3\\envs\\sel4c\\lib\\site-packages (2.31.0)\n",
      "Requirement already satisfied: charset-normalizer<4,>=2 in c:\\users\\isant\\anaconda3\\envs\\sel4c\\lib\\site-packages (from requests) (3.2.0)\n",
      "Requirement already satisfied: idna<4,>=2.5 in c:\\users\\isant\\anaconda3\\envs\\sel4c\\lib\\site-packages (from requests) (3.4)\n",
      "Requirement already satisfied: urllib3<3,>=1.21.1 in c:\\users\\isant\\anaconda3\\envs\\sel4c\\lib\\site-packages (from requests) (2.0.4)\n",
      "Requirement already satisfied: certifi>=2017.4.17 in c:\\users\\isant\\anaconda3\\envs\\sel4c\\lib\\site-packages (from requests) (2023.7.22)\n"
     ]
    }
   ],
   "source": [
    "import sys\n",
    "!{sys.executable} -m pip install --upgrade pip\n",
    "!{sys.executable} -m pip install requests\n",
    "import requests"
   ]
  },
  {
   "cell_type": "code",
   "execution_count": 3,
   "metadata": {},
   "outputs": [
    {
     "data": {
      "text/plain": [
       "{'count': 0, 'next': None, 'previous': None, 'results': []}"
      ]
     },
     "execution_count": 3,
     "metadata": {},
     "output_type": "execute_result"
    }
   ],
   "source": [
    "api_url = \"http://localhost:8000/appusers\"\n",
    "response = requests.get(api_url, auth=('A01662556', 'django040903'))\n",
    "response.json()"
   ]
  },
  {
   "cell_type": "code",
   "execution_count": 4,
   "metadata": {},
   "outputs": [
    {
     "name": "stdout",
     "output_type": "stream",
     "text": [
      "GET request to http://localhost:8000/groups/ successful.\n",
      "{'count': 0, 'next': None, 'previous': None, 'results': []}\n",
      "GET request to http://localhost:8000/groups/1/ failed\n",
      "GET request to http://localhost:8000/appusers/ successful.\n",
      "{'count': 0, 'next': None, 'previous': None, 'results': []}\n",
      "GET request to http://localhost:8000/appusers/1/ failed\n",
      "GET request to http://localhost:8000/users/ successful.\n",
      "{'count': 1, 'next': None, 'previous': None, 'results': [{'url': 'http://localhost:8000/users/1/', 'username': 'A01662556', 'email': 'A01662556@tec.mx', 'groups': []}]}\n",
      "GET request to http://localhost:8000/users/1/ successful.\n",
      "{'url': 'http://localhost:8000/users/1/', 'username': 'A01662556', 'email': 'A01662556@tec.mx', 'groups': []}\n"
     ]
    }
   ],
   "source": [
    "# Define the base URL for the API\n",
    "base_url = \"http://localhost:8000\"\n",
    "\n",
    "# Define the endpoint paths\n",
    "endpoints = [\n",
    "    \"/groups/\",\n",
    "    \"/groups/1/\",\n",
    "    \"/appusers/\",\n",
    "    \"/appusers/1/\",\n",
    "    \"/users/\",\n",
    "    \"/users/1/\"\n",
    "    \n",
    "]\n",
    "\n",
    "# Loop through the endpoints and make GET requests\n",
    "for endpoint in endpoints:\n",
    "    url = f\"{base_url}{endpoint}\"\n",
    "    response = requests.get(url, auth=('A01662556', 'django040903'))\n",
    "    \n",
    "    if response.status_code == 200:\n",
    "        data = response.json()\n",
    "        print(f\"GET request to {url} successful.\")\n",
    "        print(data)\n",
    "    else:\n",
    "        print(f\"GET request to {url} failed\")"
   ]
  },
  {
   "cell_type": "code",
   "execution_count": 5,
   "metadata": {},
   "outputs": [
    {
     "name": "stdout",
     "output_type": "stream",
     "text": [
      "<Response [200]>\n"
     ]
    }
   ],
   "source": [
    "api_url = \"http://localhost:8000/api/schema/\"\n",
    "response = requests.get(api_url)\n",
    "print(response)"
   ]
  },
  {
   "cell_type": "code",
   "execution_count": 6,
   "metadata": {},
   "outputs": [
    {
     "name": "stdout",
     "output_type": "stream",
     "text": [
      "<Response [200]>\n"
     ]
    }
   ],
   "source": [
    "api_url = \"http://127.0.0.1:8000/api/schema/swagger-ui/\"\n",
    "response = requests.get(api_url)\n",
    "print(response)"
   ]
  },
  {
   "cell_type": "code",
   "execution_count": 7,
   "metadata": {},
   "outputs": [
    {
     "name": "stdout",
     "output_type": "stream",
     "text": [
      "<Response [200]>\n"
     ]
    }
   ],
   "source": [
    "api_url = \"http://127.0.0.1:8000/api/schema/redoc/\"\n",
    "response = requests.get(api_url)\n",
    "print(response)"
   ]
  },
  {
   "cell_type": "code",
   "execution_count": null,
   "metadata": {},
   "outputs": [],
   "source": []
  },
  {
   "cell_type": "code",
   "execution_count": null,
   "metadata": {},
   "outputs": [],
   "source": []
  }
 ],
 "metadata": {
  "kernelspec": {
   "display_name": "Python 3 (ipykernel)",
   "language": "python",
   "name": "python3"
  },
  "language_info": {
   "codemirror_mode": {
    "name": "ipython",
    "version": 3
   },
   "file_extension": ".py",
   "mimetype": "text/x-python",
   "name": "python",
   "nbconvert_exporter": "python",
   "pygments_lexer": "ipython3",
   "version": "3.11.4"
  }
 },
 "nbformat": 4,
 "nbformat_minor": 2
}
