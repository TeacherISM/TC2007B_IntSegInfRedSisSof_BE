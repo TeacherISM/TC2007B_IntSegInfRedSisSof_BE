{
 "cells": [
  {
   "cell_type": "markdown",
   "id": "b7191a00",
   "metadata": {},
   "source": [
    "# Josué Fuentes"
   ]
  },
  {
   "cell_type": "code",
   "execution_count": 1,
   "id": "2d7a26a1",
   "metadata": {},
   "outputs": [
    {
     "name": "stdout",
     "output_type": "stream",
     "text": [
      "Hola como tas\n"
     ]
    }
   ],
   "source": [
    "print(\"Hola como tas\")\n",
    "# Suma y resta\n",
    "# Operaciones de suma y resta\n",
    "numero1 = 10\n",
    "numero2 = 5\n",
    "\n",
    "# Suma\n",
    "resultado_suma = numero1 + numero2\n",
    "print(\"Suma:\", resultado_suma)\n",
    "\n",
    "# Resta\n",
    "resultado_resta = numero1 - numero2\n",
    "print(\"Resta:\", resultado_resta)"
   ]
  },
  {
   "cell_type": "code",
   "execution_count": 2,
   "id": "dc8b5876",
   "metadata": {},
   "outputs": [
    {
     "name": "stdout",
     "output_type": "stream",
     "text": [
      "Requirement already satisfied: pip in /Users/a74525/Documents/GitHub/TC2007B_IntSegInfRedSisSof_BE/virtualEnv/lib/python3.8/site-packages (23.2.1)\n",
      "Requirement already satisfied: numpy in /Users/a74525/Documents/GitHub/TC2007B_IntSegInfRedSisSof_BE/virtualEnv/lib/python3.8/site-packages (1.24.4)\n",
      "Requirement already satisfied: requests in /Users/a74525/Documents/GitHub/TC2007B_IntSegInfRedSisSof_BE/virtualEnv/lib/python3.8/site-packages (2.31.0)\n",
      "Requirement already satisfied: charset-normalizer<4,>=2 in /Users/a74525/Documents/GitHub/TC2007B_IntSegInfRedSisSof_BE/virtualEnv/lib/python3.8/site-packages (from requests) (3.2.0)\n",
      "Requirement already satisfied: idna<4,>=2.5 in /Users/a74525/Documents/GitHub/TC2007B_IntSegInfRedSisSof_BE/virtualEnv/lib/python3.8/site-packages (from requests) (3.4)\n",
      "Requirement already satisfied: urllib3<3,>=1.21.1 in /Users/a74525/Documents/GitHub/TC2007B_IntSegInfRedSisSof_BE/virtualEnv/lib/python3.8/site-packages (from requests) (2.0.4)\n",
      "Requirement already satisfied: certifi>=2017.4.17 in /Users/a74525/Documents/GitHub/TC2007B_IntSegInfRedSisSof_BE/virtualEnv/lib/python3.8/site-packages (from requests) (2023.7.22)\n"
     ]
    }
   ],
   "source": [
    "import sys\n",
    "!{sys.executable} -m pip install --upgrade pip\n",
    "!{sys.executable} -m pip install numpy\n",
    "!{sys.executable} -m pip install requests\n",
    "import requests\n"
   ]
  },
  {
   "cell_type": "code",
   "execution_count": 7,
   "id": "58cdb190",
   "metadata": {},
   "outputs": [
    {
     "data": {
      "text/plain": [
       "{'count': 1,\n",
       " 'next': None,\n",
       " 'previous': None,\n",
       " 'results': [{'url': 'http://127.0.0.1:8000/users/1/',\n",
       "   'username': 'A01661894',\n",
       "   'email': 'A01661894@tec.mx',\n",
       "   'groups': []}]}"
      ]
     },
     "execution_count": 7,
     "metadata": {},
     "output_type": "execute_result"
    }
   ],
   "source": [
    "api_url = \"http://127.0.0.1:8000/users/\"\n",
    "response = requests.get(api_url, auth=('A01661894', 'jony123'))\n",
    "response.json()"
   ]
  }
 ],
 "metadata": {
  "kernelspec": {
   "display_name": "Python 3 (ipykernel)",
   "language": "python",
   "name": "python3"
  },
  "language_info": {
   "codemirror_mode": {
    "name": "ipython",
    "version": 3
   },
   "file_extension": ".py",
   "mimetype": "text/x-python",
   "name": "python",
   "nbconvert_exporter": "python",
   "pygments_lexer": "ipython3",
   "version": "3.8.9"
  }
 },
 "nbformat": 4,
 "nbformat_minor": 5
}
