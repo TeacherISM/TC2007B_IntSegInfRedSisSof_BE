{
 "cells": [
  {
   "cell_type": "markdown",
   "id": "7948b430-08f6-453f-960c-20e399c4ae7a",
   "metadata": {},
   "source": [
    "# Sofía Donlucas Bañuelos"
   ]
  },
  {
   "cell_type": "code",
   "execution_count": 1,
   "id": "5a79ff34-02d3-4e44-aa55-1ba9220a0050",
   "metadata": {},
   "outputs": [
    {
     "name": "stdout",
     "output_type": "stream",
     "text": [
      "hola mundo ejecutando por python\n"
     ]
    }
   ],
   "source": [
    "print(\"hola mundo ejecutando por python\")"
   ]
  },
  {
   "cell_type": "code",
   "execution_count": null,
   "id": "5fd8a429-fe90-463d-bf32-a751900f8043",
   "metadata": {},
   "outputs": [],
   "source": []
  }
 ],
 "metadata": {
  "kernelspec": {
   "display_name": "Python 3 (ipykernel)",
   "language": "python",
   "name": "python3"
  },
  "language_info": {
   "codemirror_mode": {
    "name": "ipython",
    "version": 3
   },
   "file_extension": ".py",
   "mimetype": "text/x-python",
   "name": "python",
   "nbconvert_exporter": "python",
   "pygments_lexer": "ipython3",
   "version": "3.11.4"
  }
 },
 "nbformat": 4,
 "nbformat_minor": 5
}
