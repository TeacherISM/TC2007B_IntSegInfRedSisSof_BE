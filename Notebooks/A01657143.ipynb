{
 "cells": [
  {
   "cell_type": "markdown",
   "id": "da7507a8-38e4-4b9c-992a-90e0ca1b0dc5",
   "metadata": {},
   "source": [
    "### Creación de app en Django\n",
    "\n",
    "Se creo una aplicación dentro de nuestros entornos vituales, donde se utilizó django para correr una aplicación donde colocamos nivels minimos de seguridad con credenciales de acceso en la autenticación del usuario.\n",
    "\n",
    "Ademas de eso, se modificaron los archivos views, settings, urls y se creo el archivo serealize para poder tener los datos de la cuenta."
   ]
  },
  {
   "attachments": {},
   "cell_type": "markdown",
   "id": "f53aecb0-c194-4e0a-8731-560a0c1a9d6b",
   "metadata": {},
   "source": [
    "### Resultado\n",
    "\n",
    "]}]"
   ]
  },
  {
   "cell_type": "code",
   "execution_count": 2,
   "id": "4d3630bf-490a-4ccd-ba64-f1cfbb2d4dd1",
   "metadata": {},
   "outputs": [],
   "source": [
    "import sys\n",
    "import requests"
   ]
  },
  {
   "cell_type": "code",
   "execution_count": 4,
   "id": "52d978d7-c332-4cb7-bb00-a2d65e9f591f",
   "metadata": {},
   "outputs": [
    {
     "data": {
      "text/plain": [
       "[{'url': 'http://127.0.0.1:8000/users/1/',\n",
       "  'username': 'A01657143',\n",
       "  'email': 'A01657143@tec.mx',\n",
       "  'groups': []}]"
      ]
     },
     "execution_count": 4,
     "metadata": {},
     "output_type": "execute_result"
    }
   ],
   "source": [
    "api_url = 'http://127.0.0.1:8000/users/'\n",
    "response = requests.get(api_url, auth= ('A01657143', 'bulldog1423'))\n",
    "response.json()"
   ]
  },
  {
   "cell_type": "code",
   "execution_count": null,
   "id": "64c0326b-fcaa-4a0e-b847-eb2e122b2a35",
   "metadata": {},
   "outputs": [],
   "source": []
  }
 ],
 "metadata": {
  "kernelspec": {
   "display_name": "Python 3 (ipykernel)",
   "language": "python",
   "name": "python3"
  },
  "language_info": {
   "codemirror_mode": {
    "name": "ipython",
    "version": 3
   },
   "file_extension": ".py",
   "mimetype": "text/x-python",
   "name": "python",
   "nbconvert_exporter": "python",
   "pygments_lexer": "ipython3",
   "version": "3.11.3"
  }
 },
 "nbformat": 4,
 "nbformat_minor": 5
}
