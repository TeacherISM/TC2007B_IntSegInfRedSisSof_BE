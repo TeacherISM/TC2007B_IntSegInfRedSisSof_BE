{
 "cells": [
  {
   "cell_type": "markdown",
   "id": "da7507a8-38e4-4b9c-992a-90e0ca1b0dc5",
   "metadata": {},
   "source": [
    "### Creación de app en Django\n",
    "\n",
    "Se creo una aplicación dentro de nuestros entornos vituales, donde se utilizó django para correr una aplicación donde colocamos nivels minimos de seguridad con credenciales de acceso en la autenticación del usuario.\n",
    "\n",
    "Ademas de eso, se modificaron los archivos views, settings, urls y se creo el archivo serealize para poder tener los datos de la cuenta."
   ]
  },
  {
   "attachments": {},
   "cell_type": "markdown",
   "id": "f53aecb0-c194-4e0a-8731-560a0c1a9d6b",
   "metadata": {},
   "source": [
    "### Resultado\n",
    "\n",
    "]}]"
   ]
  },
  {
   "cell_type": "code",
   "execution_count": 2,
   "id": "4d3630bf-490a-4ccd-ba64-f1cfbb2d4dd1",
   "metadata": {},
   "outputs": [],
   "source": [
    "import sys\n",
    "import requests"
   ]
  },
  {
   "cell_type": "code",
   "execution_count": 4,
   "id": "52d978d7-c332-4cb7-bb00-a2d65e9f591f",
   "metadata": {},
   "outputs": [
    {
     "data": {
      "text/plain": [
       "[{'url': 'http://127.0.0.1:8000/users/1/',\n",
       "  'username': 'A01657143',\n",
       "  'email': 'A01657143@tec.mx',\n",
       "  'groups': []}]"
      ]
     },
     "execution_count": 4,
     "metadata": {},
     "output_type": "execute_result"
    }
   ],
   "source": [
    "api_url = 'http://127.0.0.1:8000/users/'\n",
    "response = requests.get(api_url, auth= ('A01657143', 'bulldog1423'))\n",
    "response.json()"
   ]
  },
  {
   "cell_type": "markdown",
   "id": "ad6836f4-deda-4579-a9fb-41f35baf1b7e",
   "metadata": {},
   "source": [
    "## Tercer entrega:\n",
    "implementación del modelo Creacion de Gatos, más el api"
   ]
  },
  {
   "cell_type": "code",
   "execution_count": 8,
   "id": "c83e3fe3-efe9-48a5-8d6a-1693b96d1776",
   "metadata": {},
   "outputs": [],
   "source": [
    "import sys\n",
    "import requests"
   ]
  },
  {
   "cell_type": "code",
   "execution_count": 10,
   "id": "7761376c-3455-4d71-a22c-2368a1132b32",
   "metadata": {},
   "outputs": [
    {
     "data": {
      "text/plain": [
       "{'detail': 'Invalid username/password.'}"
      ]
     },
     "execution_count": 10,
     "metadata": {},
     "output_type": "execute_result"
    }
   ],
   "source": [
    "api_url = 'http://127.0.0.1:8000/cats/'\n",
    "response = requests.get(api_url, auth= ('A01657143', 'bulldog1423'))\n",
    "response.json()"
   ]
  },
  {
   "cell_type": "code",
   "execution_count": 11,
   "id": "2c62888a-0aac-4f4d-b476-24d93ed9b15f",
   "metadata": {},
   "outputs": [
    {
     "name": "stdout",
     "output_type": "stream",
     "text": [
      "<Response [200]>\n"
     ]
    }
   ],
   "source": [
    "\n",
    "api_url = \"http://127.0.0.1:8000/api/schema/\"\n",
    "response = requests.get(api_url)\n",
    "print(response)"
   ]
  },
  {
   "cell_type": "code",
   "execution_count": null,
   "id": "960a73ce-b55a-4c23-a99d-690b6a20bb24",
   "metadata": {},
   "outputs": [],
   "source": []
  },
  {
   "cell_type": "code",
   "execution_count": null,
   "id": "ec7cabbc-68cb-494e-aecd-206dc0574a21",
   "metadata": {},
   "outputs": [],
   "source": []
  }
 ],
 "metadata": {
  "kernelspec": {
   "display_name": "Python 3 (ipykernel)",
   "language": "python",
   "name": "python3"
  },
  "language_info": {
   "codemirror_mode": {
    "name": "ipython",
    "version": 3
   },
   "file_extension": ".py",
   "mimetype": "text/x-python",
   "name": "python",
   "nbconvert_exporter": "python",
   "pygments_lexer": "ipython3",
   "version": "3.11.3"
  }
 },
 "nbformat": 4,
 "nbformat_minor": 5
}
