{
 "cells": [
  {
   "cell_type": "markdown",
   "id": "e5946a63-286a-4d52-b3dc-29596873fd69",
   "metadata": {},
   "source": [
    "# Tania Regina Ramírez Vázquez"
   ]
  },
  {
   "cell_type": "code",
   "execution_count": 1,
   "id": "ecd5bbf2-d3bb-4e7f-8217-73d645d47dc0",
   "metadata": {},
   "outputs": [
    {
     "name": "stdout",
     "output_type": "stream",
     "text": [
      "Hola mundo\n"
     ]
    }
   ],
   "source": [
    "print(\"Hola mundo\")"
   ]
  },
  {
   "cell_type": "code",
   "execution_count": null,
   "id": "3ba515d6-2d3a-4bec-a7df-2d2d830cc772",
   "metadata": {},
   "outputs": [],
   "source": []
  }
 ],
 "metadata": {
  "kernelspec": {
   "display_name": "Python 3 (ipykernel)",
   "language": "python",
   "name": "python3"
  },
  "language_info": {
   "codemirror_mode": {
    "name": "ipython",
    "version": 3
   },
   "file_extension": ".py",
   "mimetype": "text/x-python",
   "name": "python",
   "nbconvert_exporter": "python",
   "pygments_lexer": "ipython3",
   "version": "3.11.4"
  }
 },
 "nbformat": 4,
 "nbformat_minor": 5
}
