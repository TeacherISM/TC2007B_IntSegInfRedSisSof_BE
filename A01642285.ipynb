{
 "cells": [
  {
   "attachments": {},
   "cell_type": "markdown",
   "id": "4d9fef2c",
   "metadata": {},
   "source": [
    "# Fernando Garcia Tejeda"
   ]
  },
  {
   "cell_type": "code",
   "execution_count": 6,
   "id": "471f4080",
   "metadata": {},
   "outputs": [
    {
     "name": "stdout",
     "output_type": "stream",
     "text": [
      "Hola mundo\n"
     ]
    }
   ],
   "source": [
    "print(\"Hola mundo\")"
   ]
  },
  {
   "cell_type": "code",
   "execution_count": 2,
   "id": "871e420b",
   "metadata": {},
   "outputs": [
    {
     "name": "stdout",
     "output_type": "stream",
     "text": [
      "Requirement already satisfied: pip in /Users/fernandogarcia/opt/anaconda3/lib/python3.9/site-packages (21.2.4)\n",
      "Collecting pip\n",
      "  Using cached pip-23.2.1-py3-none-any.whl (2.1 MB)\n",
      "Installing collected packages: pip\n",
      "  Attempting uninstall: pip\n",
      "    Found existing installation: pip 21.2.4\n",
      "    Uninstalling pip-21.2.4:\n",
      "      Successfully uninstalled pip-21.2.4\n",
      "Successfully installed pip-23.2.1\n",
      "Requirement already satisfied: numpy in /Users/fernandogarcia/opt/anaconda3/lib/python3.9/site-packages (1.21.5)\n",
      "Requirement already satisfied: requests in /Users/fernandogarcia/opt/anaconda3/lib/python3.9/site-packages (2.27.1)\n",
      "Requirement already satisfied: urllib3<1.27,>=1.21.1 in /Users/fernandogarcia/opt/anaconda3/lib/python3.9/site-packages (from requests) (1.26.9)\n",
      "Requirement already satisfied: certifi>=2017.4.17 in /Users/fernandogarcia/opt/anaconda3/lib/python3.9/site-packages (from requests) (2021.10.8)\n",
      "Requirement already satisfied: charset-normalizer~=2.0.0 in /Users/fernandogarcia/opt/anaconda3/lib/python3.9/site-packages (from requests) (2.0.4)\n",
      "Requirement already satisfied: idna<4,>=2.5 in /Users/fernandogarcia/opt/anaconda3/lib/python3.9/site-packages (from requests) (3.3)\n"
     ]
    }
   ],
   "source": [
    "import sys\n",
    "!{sys.executable} -m pip install --upgrade pip\n",
    "!{sys.executable} -m pip install numpy\n",
    "!{sys.executable} -m pip install requests\n",
    "import requests\n"
   ]
  },
  {
   "cell_type": "code",
   "execution_count": 3,
   "id": "07e8c088",
   "metadata": {},
   "outputs": [
    {
     "data": {
      "text/plain": [
       "{'users': 'http://127.0.0.1:8000/users/',\n",
       " 'groups': 'http://127.0.0.1:8000/groups/'}"
      ]
     },
     "execution_count": 3,
     "metadata": {},
     "output_type": "execute_result"
    }
   ],
   "source": [
    "api_url = \"http://127.0.0.1:8000\"\n",
    "response = requests.get(api_url, auth=('A01642285', 'chimino457'))\n",
    "response.json()"
   ]
  },
  {
   "attachments": {},
   "cell_type": "markdown",
   "id": "0a90777c",
   "metadata": {},
   "source": [
    "###Tuve que cambiar archivos de directorio, por si pasa algo con la entrega pasada"
   ]
  },
  {
   "attachments": {},
   "cell_type": "markdown",
   "id": "03c46711",
   "metadata": {},
   "source": [
    "#Tarea2"
   ]
  },
  {
   "cell_type": "markdown",
   "id": "76c55f13",
   "metadata": {},
   "source": [
    "#Correcion\n"
   ]
  },
  {
   "cell_type": "code",
   "execution_count": 4,
   "id": "2877265c",
   "metadata": {},
   "outputs": [],
   "source": [
    "base_url = \"http://localhost:8000\"\n",
    "endpoints = [\n",
    "    \"/groups/\",\n",
    "    \"/groups/1/\",\n",
    "    \"/home/\",\n",
    "    \"/home/1/\",\n",
    "    \"/users/\",\n",
    "    \"/users/1/\"\n",
    "]"
   ]
  },
  {
   "cell_type": "code",
   "execution_count": 5,
   "id": "fdc98436",
   "metadata": {},
   "outputs": [
    {
     "name": "stdout",
     "output_type": "stream",
     "text": [
      "<Response [200]>\n"
     ]
    }
   ],
   "source": [
    "api_url = 'http://localhost:8000/api/schema/'\n",
    "response = requests.get(api_url)\n",
    "print(response)"
   ]
  }
 ],
 "metadata": {
  "kernelspec": {
   "display_name": "Python 3 (ipykernel)",
   "language": "python",
   "name": "python3"
  },
  "language_info": {
   "codemirror_mode": {
    "name": "ipython",
    "version": 3
   },
   "file_extension": ".py",
   "mimetype": "text/x-python",
   "name": "python",
   "nbconvert_exporter": "python",
   "pygments_lexer": "ipython3",
   "version": "3.9.12"
  }
 },
 "nbformat": 4,
 "nbformat_minor": 5
}
